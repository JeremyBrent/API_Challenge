{
 "cells": [
  {
   "cell_type": "markdown",
   "metadata": {},
   "source": [
    "# WeatherPy\n",
    "----\n",
    "\n",
    "#### Note\n",
    "* Instructions have been included for each segment. You do not have to follow them exactly, but they are included to help you think through the steps."
   ]
  },
  {
   "cell_type": "code",
   "execution_count": 1,
   "metadata": {
    "scrolled": true
   },
   "outputs": [],
   "source": [
    "# Dependencies and Setup\n",
    "import matplotlib.pyplot as plt\n",
    "import pandas as pd\n",
    "import numpy as np\n",
    "import requests\n",
    "import time\n",
    "from scipy.stats import linregress\n",
    "import os \n",
    "\n",
    "# Import API key\n",
    "from api_keys import weather_api_key\n",
    "\n",
    "# Incorporated citipy to determine city based on latitude and longitude\n",
    "from citipy import citipy\n",
    "\n",
    "# Output File (CSV)\n",
    "output_data_file = os.path.join(\"..\",\"output_data\",\"cities.csv\")\n",
    "\n",
    "# Range of latitudes and longitudes\n",
    "lat_range = (-90, 90)\n",
    "lng_range = (-180, 180)\n"
   ]
  },
  {
   "cell_type": "markdown",
   "metadata": {},
   "source": [
    "## Generate Cities List"
   ]
  },
  {
   "cell_type": "code",
   "execution_count": 2,
   "metadata": {},
   "outputs": [
    {
     "data": {
      "text/plain": [
       "630"
      ]
     },
     "execution_count": 2,
     "metadata": {},
     "output_type": "execute_result"
    }
   ],
   "source": [
    "# List for holding lat_lngs and cities\n",
    "lat_lngs = []\n",
    "cities = []\n",
    "\n",
    "# Create a set of random lat and lng combinations\n",
    "lats = np.random.uniform(low=-90.000, high=90.000, size=1500)\n",
    "lngs = np.random.uniform(low=-180.000, high=180.000, size=1500)\n",
    "lat_lngs = zip(lats, lngs)\n",
    "\n",
    "# Identify nearest city for each lat, lng combination\n",
    "for lat_lng in lat_lngs:\n",
    "    city = citipy.nearest_city(lat_lng[0], lat_lng[1]).city_name\n",
    "    \n",
    "    # If the city is unique, then add it to a our cities list\n",
    "    if city not in cities:\n",
    "        cities.append(city)\n",
    "\n",
    "# Print the city count to confirm sufficient count\n",
    "len(cities)\n"
   ]
  },
  {
   "cell_type": "markdown",
   "metadata": {},
   "source": [
    "### Perform API Calls\n",
    "* Perform a weather check on each city using a series of successive API calls.\n",
    "* Include a print log of each city as it'sbeing processed (with the city number and city name).\n"
   ]
  },
  {
   "cell_type": "code",
   "execution_count": 3,
   "metadata": {},
   "outputs": [],
   "source": [
    "#Loop through the cities list and add each city to the URL in the request\n",
    "#loop through one city at a time and make sure the code works"
   ]
  },
  {
   "cell_type": "code",
   "execution_count": 4,
   "metadata": {},
   "outputs": [],
   "source": [
    "# Save config information.\n",
    "url = \"http://api.openweathermap.org/data/2.5/weather?\"\n",
    "units = \"imperial\"\n",
    "\n",
    "# Build partial query URL\n",
    "query_url = f\"{url}appid={weather_api_key}&units={units}&q=\""
   ]
  },
  {
   "cell_type": "code",
   "execution_count": 6,
   "metadata": {},
   "outputs": [
    {
     "name": "stdout",
     "output_type": "stream",
     "text": [
      "Processing Record 1 of Set 1 | saldanha\n",
      "Processing Record 2 of Set 1 | upernavik\n",
      "This city does not exist\n",
      "Processing Record 4 of Set 1 | puerto ayora\n",
      "Processing Record 5 of Set 1 | brigham city\n",
      "Processing Record 6 of Set 1 | hermanus\n",
      "Processing Record 7 of Set 1 | tari\n",
      "This city does not exist\n",
      "Processing Record 9 of Set 1 | cortez\n",
      "Processing Record 10 of Set 1 | petropavlovsk-kamchatskiy\n",
      "Processing Record 11 of Set 1 | cherskiy\n",
      "Processing Record 12 of Set 1 | alyangula\n",
      "Processing Record 13 of Set 1 | nishihara\n",
      "Processing Record 14 of Set 1 | grand gaube\n",
      "Processing Record 15 of Set 1 | nemuro\n",
      "Processing Record 16 of Set 1 | tuktoyaktuk\n",
      "Processing Record 17 of Set 1 | klaksvik\n",
      "Processing Record 18 of Set 1 | leningradskiy\n",
      "Processing Record 19 of Set 1 | shingu\n",
      "Processing Record 20 of Set 1 | mar del plata\n",
      "Processing Record 21 of Set 1 | maracacume\n",
      "Processing Record 22 of Set 1 | yatou\n",
      "Processing Record 23 of Set 1 | ambon\n",
      "Processing Record 24 of Set 1 | port alfred\n",
      "Processing Record 25 of Set 1 | kismayo\n",
      "Processing Record 26 of Set 1 | albany\n",
      "Processing Record 27 of Set 1 | hamina\n",
      "Processing Record 28 of Set 1 | matara\n",
      "Processing Record 29 of Set 1 | saskylakh\n",
      "This city does not exist\n",
      "Processing Record 31 of Set 1 | cidreira\n",
      "Processing Record 32 of Set 1 | marovoay\n",
      "Processing Record 33 of Set 1 | vaini\n",
      "Processing Record 34 of Set 1 | khatanga\n",
      "Processing Record 35 of Set 1 | iquitos\n",
      "Processing Record 36 of Set 1 | new norfolk\n",
      "Processing Record 37 of Set 1 | hilo\n",
      "Processing Record 38 of Set 1 | naryan-mar\n",
      "Processing Record 39 of Set 1 | dunedin\n",
      "Processing Record 40 of Set 1 | geraldton\n",
      "Processing Record 41 of Set 1 | kikwit\n",
      "Processing Record 42 of Set 1 | tezu\n",
      "This city does not exist\n",
      "Processing Record 44 of Set 1 | jamestown\n",
      "Processing Record 45 of Set 1 | san cristobal\n",
      "Processing Record 46 of Set 1 | thompson\n",
      "Processing Record 47 of Set 1 | east london\n",
      "Processing Record 48 of Set 1 | esperance\n",
      "Processing Record 49 of Set 1 | mataura\n",
      "Processing Record 50 of Set 1 | qaanaaq\n",
      "The program paused for 30 seconds\n",
      "Processing Record 1 of Set 2 | kamaishi\n",
      "Processing Record 2 of Set 2 | hobart\n",
      "Processing Record 3 of Set 2 | naze\n",
      "Processing Record 4 of Set 2 | gushikawa\n",
      "Processing Record 5 of Set 2 | castro\n",
      "Processing Record 6 of Set 2 | tasiilaq\n",
      "Processing Record 7 of Set 2 | ushuaia\n",
      "Processing Record 8 of Set 2 | balkhash\n",
      "Processing Record 9 of Set 2 | anamur\n",
      "Processing Record 10 of Set 2 | ponta do sol\n",
      "Processing Record 11 of Set 2 | kapaa\n",
      "Processing Record 12 of Set 2 | nizwa\n",
      "Processing Record 13 of Set 2 | pontes e lacerda\n",
      "Processing Record 14 of Set 2 | cape town\n",
      "Processing Record 15 of Set 2 | bambous virieux\n",
      "This city does not exist\n",
      "Processing Record 17 of Set 2 | atuona\n",
      "Processing Record 18 of Set 2 | kieta\n",
      "Processing Record 19 of Set 2 | kloulklubed\n",
      "Processing Record 20 of Set 2 | avarua\n",
      "Processing Record 21 of Set 2 | pevek\n",
      "Processing Record 22 of Set 2 | salalah\n",
      "Processing Record 23 of Set 2 | banda aceh\n",
      "Processing Record 24 of Set 2 | severo-kurilsk\n",
      "Processing Record 25 of Set 2 | laguna\n",
      "Processing Record 26 of Set 2 | rikitea\n",
      "Processing Record 27 of Set 2 | masvingo\n",
      "This city does not exist\n",
      "Processing Record 29 of Set 2 | kot kapura\n",
      "This city does not exist\n",
      "Processing Record 31 of Set 2 | narasannapeta\n",
      "This city does not exist\n",
      "Processing Record 33 of Set 2 | rayadrug\n",
      "Processing Record 34 of Set 2 | balurghat\n",
      "Processing Record 35 of Set 2 | talcahuano\n",
      "Processing Record 36 of Set 2 | lavrentiya\n",
      "This city does not exist\n",
      "Processing Record 38 of Set 2 | chauk\n",
      "Processing Record 39 of Set 2 | san patricio\n",
      "Processing Record 40 of Set 2 | santa barbara\n",
      "Processing Record 41 of Set 2 | broken hill\n",
      "Processing Record 42 of Set 2 | sept-iles\n",
      "Processing Record 43 of Set 2 | cheney\n",
      "Processing Record 44 of Set 2 | punta arenas\n",
      "Processing Record 45 of Set 2 | ribeira grande\n",
      "Processing Record 46 of Set 2 | carnarvon\n",
      "Processing Record 47 of Set 2 | pangnirtung\n",
      "Processing Record 48 of Set 2 | trincomalee\n",
      "Processing Record 49 of Set 2 | kodiak\n",
      "Processing Record 50 of Set 2 | bredasdorp\n",
      "The program paused for 30 seconds\n"
     ]
    }
   ],
   "source": [
    "# Get latitude and temperature for cities\n",
    "cities = cities[0:100]\n",
    "# set up lists to hold reponse info\n",
    "# we need more data than latitude and temp for the hw \n",
    "lat = []\n",
    "temp = []\n",
    "humidity = []\n",
    "cloudiness = []\n",
    "wind_speed = []\n",
    "date = []\n",
    "cities_list = []\n",
    "counter = 0\n",
    "set_list = 1\n",
    "t = 30\n",
    "# Loop through the list of cities and perform a request for data on each\n",
    "for city in cities:\n",
    "    response = requests.get(query_url + city).json()\n",
    "    counter += 1\n",
    "    try:\n",
    "        cities_list.append(city)\n",
    "        lat.append(response['coord']['lat'])\n",
    "        temp.append(response['main']['temp'])\n",
    "        humidity.append(response['main']['humidity'])\n",
    "        cloudiness.append(response['clouds']['all'])\n",
    "        wind_speed.append(response['wind']['speed'])\n",
    "        date.append(response[\"dt\"])\n",
    "        print(f'Processing Record {counter} of Set {set_list} | {city}')\n",
    "    except KeyError:\n",
    "        print(\"This city does not exist\")\n",
    "        cities_list.remove(city)\n",
    "        pass\n",
    "    \n",
    "    if counter >= 50:\n",
    "        time.sleep(t)\n",
    "        counter = 0\n",
    "        set_list += 1\n",
    "        print(f'The program paused for {t} seconds')\n",
    "\n",
    "# print(f\"The latitude information received is: {lat}\")\n",
    "# print(f\"The temperature information received is: {temp}\")\n"
   ]
  },
  {
   "cell_type": "code",
   "execution_count": 7,
   "metadata": {},
   "outputs": [
    {
     "name": "stdout",
     "output_type": "stream",
     "text": [
      "91 91 91 91 91 91 91\n"
     ]
    }
   ],
   "source": [
    "print(len(cities_list), len(temp), len(humidity),len(cloudiness), len(lat), len(date), len(wind_speed))"
   ]
  },
  {
   "cell_type": "markdown",
   "metadata": {},
   "source": [
    "### Convert Raw Data to DataFrame\n",
    "* Export the city data into a .csv.\n",
    "* Display the DataFrame"
   ]
  },
  {
   "cell_type": "code",
   "execution_count": 8,
   "metadata": {},
   "outputs": [],
   "source": [
    "#df.to_csv(output_data_file)"
   ]
  },
  {
   "cell_type": "code",
   "execution_count": 19,
   "metadata": {},
   "outputs": [
    {
     "data": {
      "text/html": [
       "<div>\n",
       "<style scoped>\n",
       "    .dataframe tbody tr th:only-of-type {\n",
       "        vertical-align: middle;\n",
       "    }\n",
       "\n",
       "    .dataframe tbody tr th {\n",
       "        vertical-align: top;\n",
       "    }\n",
       "\n",
       "    .dataframe thead th {\n",
       "        text-align: right;\n",
       "    }\n",
       "</style>\n",
       "<table border=\"1\" class=\"dataframe\">\n",
       "  <thead>\n",
       "    <tr style=\"text-align: right;\">\n",
       "      <th></th>\n",
       "      <th>City Name</th>\n",
       "      <th>Date (UTC)</th>\n",
       "      <th>Latitude</th>\n",
       "      <th>Temperature (F)</th>\n",
       "      <th>Humidity (%)</th>\n",
       "      <th>Cloudiness (%)</th>\n",
       "      <th>Wind Speed (MPH)</th>\n",
       "    </tr>\n",
       "  </thead>\n",
       "  <tbody>\n",
       "    <tr>\n",
       "      <th>0</th>\n",
       "      <td>Saldanha</td>\n",
       "      <td>2020-04-05 22:57:49</td>\n",
       "      <td>-33.01</td>\n",
       "      <td>60.80</td>\n",
       "      <td>93</td>\n",
       "      <td>74</td>\n",
       "      <td>3.36</td>\n",
       "    </tr>\n",
       "    <tr>\n",
       "      <th>1</th>\n",
       "      <td>Upernavik</td>\n",
       "      <td>2020-04-05 22:57:49</td>\n",
       "      <td>72.79</td>\n",
       "      <td>12.70</td>\n",
       "      <td>80</td>\n",
       "      <td>87</td>\n",
       "      <td>3.36</td>\n",
       "    </tr>\n",
       "    <tr>\n",
       "      <th>2</th>\n",
       "      <td>Puerto Ayora</td>\n",
       "      <td>2020-04-05 22:57:12</td>\n",
       "      <td>-0.74</td>\n",
       "      <td>83.44</td>\n",
       "      <td>74</td>\n",
       "      <td>20</td>\n",
       "      <td>12.75</td>\n",
       "    </tr>\n",
       "    <tr>\n",
       "      <th>3</th>\n",
       "      <td>Brigham City</td>\n",
       "      <td>2020-04-05 22:58:06</td>\n",
       "      <td>41.51</td>\n",
       "      <td>58.62</td>\n",
       "      <td>29</td>\n",
       "      <td>75</td>\n",
       "      <td>4.70</td>\n",
       "    </tr>\n",
       "    <tr>\n",
       "      <th>4</th>\n",
       "      <td>Hermanus</td>\n",
       "      <td>2020-04-05 22:58:06</td>\n",
       "      <td>-34.42</td>\n",
       "      <td>59.11</td>\n",
       "      <td>83</td>\n",
       "      <td>81</td>\n",
       "      <td>8.01</td>\n",
       "    </tr>\n",
       "    <tr>\n",
       "      <th>...</th>\n",
       "      <td>...</td>\n",
       "      <td>...</td>\n",
       "      <td>...</td>\n",
       "      <td>...</td>\n",
       "      <td>...</td>\n",
       "      <td>...</td>\n",
       "      <td>...</td>\n",
       "    </tr>\n",
       "    <tr>\n",
       "      <th>86</th>\n",
       "      <td>Carnarvon</td>\n",
       "      <td>2020-04-05 22:58:40</td>\n",
       "      <td>-24.87</td>\n",
       "      <td>68.00</td>\n",
       "      <td>88</td>\n",
       "      <td>16</td>\n",
       "      <td>6.93</td>\n",
       "    </tr>\n",
       "    <tr>\n",
       "      <th>87</th>\n",
       "      <td>Pangnirtung</td>\n",
       "      <td>2020-04-05 22:58:40</td>\n",
       "      <td>66.15</td>\n",
       "      <td>8.02</td>\n",
       "      <td>75</td>\n",
       "      <td>0</td>\n",
       "      <td>5.37</td>\n",
       "    </tr>\n",
       "    <tr>\n",
       "      <th>88</th>\n",
       "      <td>Trincomalee</td>\n",
       "      <td>2020-04-05 22:58:40</td>\n",
       "      <td>8.57</td>\n",
       "      <td>78.84</td>\n",
       "      <td>83</td>\n",
       "      <td>9</td>\n",
       "      <td>4.68</td>\n",
       "    </tr>\n",
       "    <tr>\n",
       "      <th>89</th>\n",
       "      <td>Kodiak</td>\n",
       "      <td>2020-04-05 22:58:41</td>\n",
       "      <td>57.79</td>\n",
       "      <td>41.00</td>\n",
       "      <td>38</td>\n",
       "      <td>1</td>\n",
       "      <td>17.22</td>\n",
       "    </tr>\n",
       "    <tr>\n",
       "      <th>90</th>\n",
       "      <td>Bredasdorp</td>\n",
       "      <td>2020-04-05 22:57:12</td>\n",
       "      <td>-34.53</td>\n",
       "      <td>60.44</td>\n",
       "      <td>72</td>\n",
       "      <td>71</td>\n",
       "      <td>12.75</td>\n",
       "    </tr>\n",
       "  </tbody>\n",
       "</table>\n",
       "<p>91 rows × 7 columns</p>\n",
       "</div>"
      ],
      "text/plain": [
       "       City Name          Date (UTC)  Latitude  Temperature (F)  Humidity (%)  \\\n",
       "0       Saldanha 2020-04-05 22:57:49    -33.01            60.80            93   \n",
       "1      Upernavik 2020-04-05 22:57:49     72.79            12.70            80   \n",
       "2   Puerto Ayora 2020-04-05 22:57:12     -0.74            83.44            74   \n",
       "3   Brigham City 2020-04-05 22:58:06     41.51            58.62            29   \n",
       "4       Hermanus 2020-04-05 22:58:06    -34.42            59.11            83   \n",
       "..           ...                 ...       ...              ...           ...   \n",
       "86     Carnarvon 2020-04-05 22:58:40    -24.87            68.00            88   \n",
       "87   Pangnirtung 2020-04-05 22:58:40     66.15             8.02            75   \n",
       "88   Trincomalee 2020-04-05 22:58:40      8.57            78.84            83   \n",
       "89        Kodiak 2020-04-05 22:58:41     57.79            41.00            38   \n",
       "90    Bredasdorp 2020-04-05 22:57:12    -34.53            60.44            72   \n",
       "\n",
       "    Cloudiness (%)  Wind Speed (MPH)  \n",
       "0               74              3.36  \n",
       "1               87              3.36  \n",
       "2               20             12.75  \n",
       "3               75              4.70  \n",
       "4               81              8.01  \n",
       "..             ...               ...  \n",
       "86              16              6.93  \n",
       "87               0              5.37  \n",
       "88               9              4.68  \n",
       "89               1             17.22  \n",
       "90              71             12.75  \n",
       "\n",
       "[91 rows x 7 columns]"
      ]
     },
     "execution_count": 19,
     "metadata": {},
     "output_type": "execute_result"
    }
   ],
   "source": [
    "import datetime\n",
    "city_data = pd.DataFrame({\"City Name\":cities_list,\"Date (UTC)\":date,\"Latitude\":lat,\"Temperature (F)\":temp,\"Humidity (%)\":humidity,\"Cloudiness (%)\":cloudiness,\"Wind Speed (MPH)\":wind_speed})\n",
    "city_data[\"City Name\"] = [city.title() for city in city_data[\"City Name\"]]\n",
    "city_data[\"Date (UTC)\"] = [datetime.datetime.utcfromtimestamp(date) for date in city_data[\"Date (UTC)\"]]\n",
    "city_data.to_csv(output_data_file)\n",
    "city_data"
   ]
  },
  {
   "cell_type": "code",
   "execution_count": 10,
   "metadata": {},
   "outputs": [],
   "source": [
    "# import time\n",
    "# seconds = time.time()\n",
    "# print(\"Seconds since epoch =\", seconds)\n",
    "# local_time = time.ctime(seconds)\n",
    "# print(\"Local time:\", local_time)\n",
    "# time.struct_time?"
   ]
  },
  {
   "cell_type": "code",
   "execution_count": null,
   "metadata": {},
   "outputs": [],
   "source": []
  },
  {
   "cell_type": "markdown",
   "metadata": {},
   "source": [
    "### Plotting the Data\n",
    "* Use proper labeling of the plots using plot titles (including date of analysis) and axes labels.\n",
    "* Save the plotted figures as .pngs."
   ]
  },
  {
   "cell_type": "markdown",
   "metadata": {},
   "source": [
    "#### Latitude vs. Temperature Plot"
   ]
  },
  {
   "cell_type": "code",
   "execution_count": 12,
   "metadata": {
    "scrolled": true
   },
   "outputs": [
    {
     "data": {
      "image/png": "[encoded data removed]",
      "text/plain": [
       "<Figure size 432x288 with 1 Axes>"
      ]
     },
     "metadata": {
      "needs_background": "light"
     },
     "output_type": "display_data"
    }
   ],
   "source": [
    "city_lat = city_data[\"Latitude\"]\n",
    "city_temp = city_data[\"Temperature (F)\"]\n",
    "city_date = city_data[\"Date (UTC)\"]\n",
    "\n",
    "plt.scatter(city_lat,city_temp)\n",
    "plt.xlabel(\"Latitude\")\n",
    "plt.ylabel(\"Temperature (F)\")\n",
    "plt.title(f\"Latitude by Temperature on {city_date[0]} UTC\")\n",
    "plt.savefig(\"../output_data/Lat_Temp_fig_png\")\n",
    "plt.show()"
   ]
  },
  {
   "cell_type": "markdown",
   "metadata": {},
   "source": [
    "#### Latitude vs. Humidity Plot"
   ]
  },
  {
   "cell_type": "code",
   "execution_count": 13,
   "metadata": {},
   "outputs": [
    {
     "data": {
      "image/png": "[encoded data removed]",
      "text/plain": [
       "<Figure size 432x288 with 1 Axes>"
      ]
     },
     "metadata": {
      "needs_background": "light"
     },
     "output_type": "display_data"
    }
   ],
   "source": [
    "city_humidity = city_data[\"Humidity (%)\"]\n",
    "\n",
    "plt.scatter(city_lat,city_humidity)\n",
    "plt.xlabel(\"Latitude\")\n",
    "plt.ylabel(\"Humidity (%)\")\n",
    "plt.title(f\"Latitude by Humidity on {city_date[0]} UTC\")\n",
    "plt.savefig(\"../output_data/Lat_Hum_fig_png\")\n",
    "plt.show()"
   ]
  },
  {
   "cell_type": "markdown",
   "metadata": {},
   "source": [
    "#### Latitude vs. Cloudiness Plot"
   ]
  },
  {
   "cell_type": "code",
   "execution_count": 14,
   "metadata": {},
   "outputs": [
    {
     "data": {
      "image/png": "[encoded data removed]",
      "text/plain": [
       "<Figure size 432x288 with 1 Axes>"
      ]
     },
     "metadata": {
      "needs_background": "light"
     },
     "output_type": "display_data"
    }
   ],
   "source": [
    "city_cloudiness = city_data[\"Cloudiness (%)\"]\n",
    "\n",
    "plt.scatter(city_lat,city_cloudiness)\n",
    "plt.xlabel(\"Latitude\")\n",
    "plt.ylabel(\"Cloudiness (%)\")\n",
    "plt.title(f\"Latitude by Cloudiness on {city_date[0]} UTC\")\n",
    "plt.savefig(\"../output_data/Lat_Cloud_fig_png\")\n",
    "plt.show()"
   ]
  },
  {
   "cell_type": "markdown",
   "metadata": {},
   "source": [
    "#### Latitude vs. Wind Speed Plot"
   ]
  },
  {
   "cell_type": "code",
   "execution_count": 18,
   "metadata": {},
   "outputs": [
    {
     "data": {
      "image/png": "[encoded data removed]",
      "text/plain": [
       "<Figure size 432x288 with 1 Axes>"
      ]
     },
     "metadata": {
      "needs_background": "light"
     },
     "output_type": "display_data"
    }
   ],
   "source": [
    "city_windspeed = city_data[\"Wind Speed (MPH)\"]\n",
    "\n",
    "plt.scatter(city_lat,city_windspeed)\n",
    "plt.xlabel(\"Latitude\")\n",
    "plt.ylabel(\"Wind Speed (MPH)\")\n",
    "plt.title(f\"Latitude by Wind Speed on {city_date[0]} UTC\")\n",
    "plt.savefig(\"../output_data/Lat_Wind_fig_png\")\n",
    "plt.show()"
   ]
  },
  {
   "cell_type": "markdown",
   "metadata": {},
   "source": [
    "## Linear Regression"
   ]
  },
  {
   "cell_type": "code",
   "execution_count": null,
   "metadata": {},
   "outputs": [],
   "source": [
    "# OPTIONAL: Create a function to create Linear Regression plots\n"
   ]
  },
  {
   "cell_type": "code",
   "execution_count": null,
   "metadata": {},
   "outputs": [],
   "source": [
    "# Create Northern and Southern Hemisphere DataFrames\n"
   ]
  },
  {
   "cell_type": "markdown",
   "metadata": {},
   "source": [
    "####  Northern Hemisphere - Max Temp vs. Latitude Linear Regression"
   ]
  },
  {
   "cell_type": "code",
   "execution_count": null,
   "metadata": {},
   "outputs": [],
   "source": []
  },
  {
   "cell_type": "markdown",
   "metadata": {},
   "source": [
    "####  Southern Hemisphere - Max Temp vs. Latitude Linear Regression"
   ]
  },
  {
   "cell_type": "code",
   "execution_count": null,
   "metadata": {},
   "outputs": [],
   "source": []
  },
  {
   "cell_type": "markdown",
   "metadata": {},
   "source": [
    "####  Northern Hemisphere - Humidity (%) vs. Latitude Linear Regression"
   ]
  },
  {
   "cell_type": "code",
   "execution_count": null,
   "metadata": {},
   "outputs": [],
   "source": []
  },
  {
   "cell_type": "markdown",
   "metadata": {},
   "source": [
    "####  Southern Hemisphere - Humidity (%) vs. Latitude Linear Regression"
   ]
  },
  {
   "cell_type": "code",
   "execution_count": null,
   "metadata": {},
   "outputs": [],
   "source": []
  },
  {
   "cell_type": "markdown",
   "metadata": {},
   "source": [
    "####  Northern Hemisphere - Cloudiness (%) vs. Latitude Linear Regression"
   ]
  },
  {
   "cell_type": "code",
   "execution_count": null,
   "metadata": {},
   "outputs": [],
   "source": []
  },
  {
   "cell_type": "markdown",
   "metadata": {},
   "source": [
    "####  Southern Hemisphere - Cloudiness (%) vs. Latitude Linear Regression"
   ]
  },
  {
   "cell_type": "code",
   "execution_count": null,
   "metadata": {},
   "outputs": [],
   "source": []
  },
  {
   "cell_type": "markdown",
   "metadata": {},
   "source": [
    "####  Northern Hemisphere - Wind Speed (mph) vs. Latitude Linear Regression"
   ]
  },
  {
   "cell_type": "code",
   "execution_count": null,
   "metadata": {},
   "outputs": [],
   "source": []
  },
  {
   "cell_type": "markdown",
   "metadata": {},
   "source": [
    "####  Southern Hemisphere - Wind Speed (mph) vs. Latitude Linear Regression"
   ]
  },
  {
   "cell_type": "code",
   "execution_count": null,
   "metadata": {},
   "outputs": [],
   "source": []
  },
  {
   "cell_type": "code",
   "execution_count": null,
   "metadata": {},
   "outputs": [],
   "source": []
  }
 ],
 "metadata": {
  "anaconda-cloud": {},
  "kernel_info": {
   "name": "python3"
  },
  "kernelspec": {
   "display_name": "Python 3",
   "language": "python",
   "name": "python3"
  },
  "language_info": {
   "codemirror_mode": {
    "name": "ipython",
    "version": 3
   },
   "file_extension": ".py",
   "mimetype": "text/x-python",
   "name": "python",
   "nbconvert_exporter": "python",
   "pygments_lexer": "ipython3",
   "version": "3.6.10"
  },
  "latex_envs": {
   "LaTeX_envs_menu_present": true,
   "autoclose": false,
   "autocomplete": true,
   "bibliofile": "biblio.bib",
   "cite_by": "apalike",
   "current_citInitial": 1,
   "eqLabelWithNumbers": true,
   "eqNumInitial": 1,
   "hotkeys": {
    "equation": "Ctrl-E",
    "itemize": "Ctrl-I"
   },
   "labels_anchors": false,
   "latex_user_defs": false,
   "report_style_numbering": false,
   "user_envs_cfg": false
  },
  "nteract": {
   "version": "0.12.3"
  }
 },
 "nbformat": 4,
 "nbformat_minor": 2
}
