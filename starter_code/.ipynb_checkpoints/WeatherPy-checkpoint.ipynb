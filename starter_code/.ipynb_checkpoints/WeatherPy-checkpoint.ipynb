{
 "cells": [
  {
   "cell_type": "markdown",
   "metadata": {},
   "source": [
    "# WeatherPy\n",
    "----\n",
    "\n",
    "#### Note\n",
    "* Instructions have been included for each segment. You do not have to follow them exactly, but they are included to help you think through the steps."
   ]
  },
  {
   "cell_type": "code",
   "execution_count": 1,
   "metadata": {
    "ExecuteTime": {
     "end_time": "2020-04-06T00:44:09.430831Z",
     "start_time": "2020-04-06T00:44:07.238493Z"
    },
    "scrolled": true
   },
   "outputs": [],
   "source": [
    "# Dependencies and Setup\n",
    "import matplotlib.pyplot as plt\n",
    "import pandas as pd\n",
    "import numpy as np\n",
    "import requests\n",
    "import time\n",
    "from scipy.stats import linregress\n",
    "import os \n",
    "\n",
    "# Import API key\n",
    "from api_keys import weather_api_key\n",
    "\n",
    "# Incorporated citipy to determine city based on latitude and longitude\n",
    "from citipy import citipy\n",
    "\n",
    "# Output File (CSV)\n",
    "output_data_file = os.path.join(\"..\",\"output_data\",\"cities.csv\")\n",
    "\n",
    "# Range of latitudes and longitudes\n",
    "lat_range = (-90, 90)\n",
    "lng_range = (-180, 180)\n"
   ]
  },
  {
   "cell_type": "markdown",
   "metadata": {},
   "source": [
    "## Generate Cities List"
   ]
  },
  {
   "cell_type": "code",
   "execution_count": 2,
   "metadata": {
    "ExecuteTime": {
     "end_time": "2020-04-06T00:44:11.899268Z",
     "start_time": "2020-04-06T00:44:11.091544Z"
    }
   },
   "outputs": [
    {
     "data": {
      "text/plain": [
       "615"
      ]
     },
     "execution_count": 2,
     "metadata": {},
     "output_type": "execute_result"
    }
   ],
   "source": [
    "# List for holding lat_lngs and cities\n",
    "lat_lngs = []\n",
    "cities = []\n",
    "\n",
    "# Create a set of random lat and lng combinations\n",
    "lats = np.random.uniform(low=-90.000, high=90.000, size=1500)\n",
    "lngs = np.random.uniform(low=-180.000, high=180.000, size=1500)\n",
    "lat_lngs = zip(lats, lngs)\n",
    "\n",
    "# Identify nearest city for each lat, lng combination\n",
    "for lat_lng in lat_lngs:\n",
    "    city = citipy.nearest_city(lat_lng[0], lat_lng[1]).city_name\n",
    "    \n",
    "    # If the city is unique, then add it to a our cities list\n",
    "    if city not in cities:\n",
    "        cities.append(city)\n",
    "\n",
    "# Print the city count to confirm sufficient count\n",
    "len(cities)\n"
   ]
  },
  {
   "cell_type": "markdown",
   "metadata": {},
   "source": [
    "### Perform API Calls\n",
    "* Perform a weather check on each city using a series of successive API calls.\n",
    "* Include a print log of each city as it'sbeing processed (with the city number and city name).\n"
   ]
  },
  {
   "cell_type": "code",
   "execution_count": 3,
   "metadata": {
    "ExecuteTime": {
     "end_time": "2020-04-06T00:44:13.870767Z",
     "start_time": "2020-04-06T00:44:13.868829Z"
    }
   },
   "outputs": [],
   "source": [
    "#Loop through the cities list and add each city to the URL in the request\n",
    "#loop through one city at a time and make sure the code works"
   ]
  },
  {
   "cell_type": "code",
   "execution_count": 4,
   "metadata": {
    "ExecuteTime": {
     "end_time": "2020-04-06T00:44:14.079108Z",
     "start_time": "2020-04-06T00:44:14.076534Z"
    }
   },
   "outputs": [],
   "source": [
    "# Save config information.\n",
    "url = \"http://api.openweathermap.org/data/2.5/weather?\"\n",
    "units = \"imperial\"\n",
    "\n",
    "# Build partial query URL\n",
    "query_url = f\"{url}appid={weather_api_key}&units={units}&q=\""
   ]
  },
  {
   "cell_type": "code",
   "execution_count": 6,
   "metadata": {
    "ExecuteTime": {
     "end_time": "2020-04-06T00:45:36.354489Z",
     "start_time": "2020-04-06T00:44:26.403852Z"
    }
   },
   "outputs": [
    {
     "name": "stdout",
     "output_type": "stream",
     "text": [
      "Processing Record 1 of Set 1 | ketchikan\n",
      "Processing Record 2 of Set 1 | oktyabrskiy\n",
      "Processing Record 3 of Set 1 | rikitea\n",
      "Processing Record 4 of Set 1 | georgetown\n",
      "Processing Record 5 of Set 1 | ban chang\n",
      "Processing Record 6 of Set 1 | jamestown\n",
      "Processing Record 7 of Set 1 | russell\n",
      "Processing Record 8 of Set 1 | hithadhoo\n",
      "Processing Record 9 of Set 1 | maningrida\n",
      "Processing Record 10 of Set 1 | warri\n",
      "Processing Record 11 of Set 1 | carnarvon\n",
      "Processing Record 12 of Set 1 | san ignacio\n",
      "Processing Record 13 of Set 1 | kapaa\n",
      "Processing Record 14 of Set 1 | dikson\n",
      "Processing Record 15 of Set 1 | ust-kuyga\n",
      "This city does not exist\n",
      "Processing Record 17 of Set 1 | busselton\n",
      "Processing Record 18 of Set 1 | nemuro\n",
      "Processing Record 19 of Set 1 | pangnirtung\n",
      "Processing Record 20 of Set 1 | sosnovo-ozerskoye\n",
      "This city does not exist\n",
      "Processing Record 22 of Set 1 | nanortalik\n",
      "Processing Record 23 of Set 1 | surt\n",
      "Processing Record 24 of Set 1 | mar del plata\n",
      "Processing Record 25 of Set 1 | cockburn town\n",
      "Processing Record 26 of Set 1 | butaritari\n",
      "This city does not exist\n",
      "Processing Record 28 of Set 1 | bandarbeyla\n",
      "Processing Record 29 of Set 1 | sitka\n",
      "Processing Record 30 of Set 1 | saskylakh\n",
      "This city does not exist\n",
      "Processing Record 32 of Set 1 | albany\n",
      "Processing Record 33 of Set 1 | vaini\n",
      "Processing Record 34 of Set 1 | mahebourg\n",
      "Processing Record 35 of Set 1 | mayumba\n",
      "Processing Record 36 of Set 1 | kropotkin\n",
      "Processing Record 37 of Set 1 | cape town\n",
      "Processing Record 38 of Set 1 | qaanaaq\n",
      "Processing Record 39 of Set 1 | nikolskoye\n",
      "Processing Record 40 of Set 1 | bambous virieux\n",
      "This city does not exist\n",
      "Processing Record 42 of Set 1 | semey\n",
      "This city does not exist\n",
      "Processing Record 44 of Set 1 | bhagalpur\n",
      "Processing Record 45 of Set 1 | yellowknife\n",
      "Processing Record 46 of Set 1 | yulara\n",
      "Processing Record 47 of Set 1 | marawi\n",
      "Processing Record 48 of Set 1 | esso\n",
      "Processing Record 49 of Set 1 | ostrovnoy\n",
      "Processing Record 50 of Set 1 | east london\n",
      "The program paused for 30 seconds\n",
      "Processing Record 1 of Set 2 | mataura\n",
      "Processing Record 2 of Set 2 | port hedland\n",
      "Processing Record 3 of Set 2 | luderitz\n",
      "This city does not exist\n",
      "Processing Record 5 of Set 2 | clyde river\n",
      "Processing Record 6 of Set 2 | punta arenas\n",
      "Processing Record 7 of Set 2 | ushuaia\n",
      "Processing Record 8 of Set 2 | dudinka\n",
      "Processing Record 9 of Set 2 | new norfolk\n",
      "Processing Record 10 of Set 2 | tasiilaq\n",
      "Processing Record 11 of Set 2 | beloha\n",
      "Processing Record 12 of Set 2 | makurdi\n",
      "Processing Record 13 of Set 2 | outjo\n",
      "Processing Record 14 of Set 2 | constitucion\n",
      "Processing Record 15 of Set 2 | lovozero\n",
      "Processing Record 16 of Set 2 | tuktoyaktuk\n",
      "Processing Record 17 of Set 2 | yar-sale\n",
      "Processing Record 18 of Set 2 | hermanus\n",
      "This city does not exist\n",
      "Processing Record 20 of Set 2 | arlit\n",
      "Processing Record 21 of Set 2 | marsaxlokk\n",
      "Processing Record 22 of Set 2 | avarua\n",
      "Processing Record 23 of Set 2 | juneau\n",
      "Processing Record 24 of Set 2 | coari\n",
      "Processing Record 25 of Set 2 | gat\n",
      "Processing Record 26 of Set 2 | kodiak\n",
      "Processing Record 27 of Set 2 | san patricio\n",
      "Processing Record 28 of Set 2 | puerto ayora\n",
      "Processing Record 29 of Set 2 | yinchuan\n",
      "Processing Record 30 of Set 2 | abu zabad\n",
      "Processing Record 31 of Set 2 | ribeira grande\n",
      "Processing Record 32 of Set 2 | barrow\n",
      "Processing Record 33 of Set 2 | saint-philippe\n",
      "Processing Record 34 of Set 2 | bathsheba\n",
      "Processing Record 35 of Set 2 | rio grande\n",
      "Processing Record 36 of Set 2 | hasaki\n",
      "Processing Record 37 of Set 2 | staryy nadym\n",
      "Processing Record 38 of Set 2 | bria\n",
      "Processing Record 39 of Set 2 | praia da vitoria\n",
      "Processing Record 40 of Set 2 | ancud\n",
      "Processing Record 41 of Set 2 | saint-pierre\n",
      "Processing Record 42 of Set 2 | ostersund\n",
      "Processing Record 43 of Set 2 | lazaro cardenas\n",
      "Processing Record 44 of Set 2 | tiksi\n",
      "Processing Record 45 of Set 2 | bud\n",
      "Processing Record 46 of Set 2 | katsuura\n",
      "Processing Record 47 of Set 2 | kupang\n",
      "Processing Record 48 of Set 2 | kankaanpaa\n",
      "Processing Record 49 of Set 2 | te anau\n",
      "Processing Record 50 of Set 2 | fortuna\n",
      "The program paused for 30 seconds\n"
     ]
    }
   ],
   "source": [
    "# Get latitude and temperature for cities\n",
    "cities = cities[0:100]\n",
    "# set up lists to hold reponse info\n",
    "# we need more data than latitude and temp for the hw \n",
    "lat = []\n",
    "temp = []\n",
    "humidity = []\n",
    "cloudiness = []\n",
    "wind_speed = []\n",
    "date = []\n",
    "cities_list = []\n",
    "counter = 0\n",
    "set_list = 1\n",
    "t = 10\n",
    "# Loop through the list of cities and perform a request for data on each\n",
    "# for city in cities:\n",
    "#     response = requests.get(query_url + city).json()\n",
    "#     counter += 1\n",
    "#     try:\n",
    "#         cities_list.append(city)\n",
    "#         lat.append(response['coord']['lat'])\n",
    "#         temp.append(response['main']['temp'])\n",
    "#         humidity.append(response['main']['humidity'])\n",
    "#         cloudiness.append(response['clouds']['all'])\n",
    "#         wind_speed.append(response['wind']['speed'])\n",
    "#         date.append(response[\"dt\"])\n",
    "#         print(f'Processing Record {counter} of Set {set_list} | {city}')\n",
    "#     except KeyError:\n",
    "#         print(\"This city does not exist\")\n",
    "#         cities_list.remove(city)\n",
    "#         pass\n",
    "    \n",
    "#     if counter >= 50:\n",
    "#         time.sleep(t)\n",
    "#         counter = 0\n",
    "#         set_list += 1\n",
    "#         print(f'The program paused for {t} seconds')\n",
    "\n",
    "# print(f\"The latitude information received is: {lat}\")\n",
    "# print(f\"The temperature information received is: {temp}\")\n"
   ]
  },
  {
   "cell_type": "code",
   "execution_count": 7,
   "metadata": {
    "ExecuteTime": {
     "end_time": "2020-04-06T00:45:38.375729Z",
     "start_time": "2020-04-06T00:45:38.371999Z"
    }
   },
   "outputs": [
    {
     "name": "stdout",
     "output_type": "stream",
     "text": [
      "92 92 92 92 92 92 92\n"
     ]
    }
   ],
   "source": [
    "print(len(cities_list), len(temp), len(humidity),len(cloudiness), len(lat), len(date), len(wind_speed))"
   ]
  },
  {
   "cell_type": "markdown",
   "metadata": {},
   "source": [
    "### Convert Raw Data to DataFrame\n",
    "* Export the city data into a .csv.\n",
    "* Display the DataFrame"
   ]
  },
  {
   "cell_type": "code",
   "execution_count": 8,
   "metadata": {
    "ExecuteTime": {
     "end_time": "2020-04-06T00:45:40.082013Z",
     "start_time": "2020-04-06T00:45:40.079756Z"
    }
   },
   "outputs": [],
   "source": [
    "#df.to_csv(output_data_file)"
   ]
  },
  {
   "cell_type": "code",
   "execution_count": 9,
   "metadata": {
    "ExecuteTime": {
     "end_time": "2020-04-06T00:45:40.533382Z",
     "start_time": "2020-04-06T00:45:40.503270Z"
    }
   },
   "outputs": [
    {
     "data": {
      "text/html": [
       "<div>\n",
       "<style scoped>\n",
       "    .dataframe tbody tr th:only-of-type {\n",
       "        vertical-align: middle;\n",
       "    }\n",
       "\n",
       "    .dataframe tbody tr th {\n",
       "        vertical-align: top;\n",
       "    }\n",
       "\n",
       "    .dataframe thead th {\n",
       "        text-align: right;\n",
       "    }\n",
       "</style>\n",
       "<table border=\"1\" class=\"dataframe\">\n",
       "  <thead>\n",
       "    <tr style=\"text-align: right;\">\n",
       "      <th></th>\n",
       "      <th>City Name</th>\n",
       "      <th>Date (UTC)</th>\n",
       "      <th>Latitude</th>\n",
       "      <th>Temperature (F)</th>\n",
       "      <th>Humidity (%)</th>\n",
       "      <th>Cloudiness (%)</th>\n",
       "      <th>Wind Speed (MPH)</th>\n",
       "    </tr>\n",
       "  </thead>\n",
       "  <tbody>\n",
       "    <tr>\n",
       "      <th>0</th>\n",
       "      <td>Ketchikan</td>\n",
       "      <td>2020-04-06 00:44:26</td>\n",
       "      <td>55.34</td>\n",
       "      <td>45.70</td>\n",
       "      <td>33</td>\n",
       "      <td>1</td>\n",
       "      <td>13.87</td>\n",
       "    </tr>\n",
       "    <tr>\n",
       "      <th>1</th>\n",
       "      <td>Oktyabrskiy</td>\n",
       "      <td>2020-04-06 00:44:26</td>\n",
       "      <td>54.48</td>\n",
       "      <td>30.09</td>\n",
       "      <td>91</td>\n",
       "      <td>79</td>\n",
       "      <td>3.98</td>\n",
       "    </tr>\n",
       "    <tr>\n",
       "      <th>2</th>\n",
       "      <td>Rikitea</td>\n",
       "      <td>2020-04-06 00:44:26</td>\n",
       "      <td>-23.12</td>\n",
       "      <td>75.34</td>\n",
       "      <td>65</td>\n",
       "      <td>47</td>\n",
       "      <td>10.38</td>\n",
       "    </tr>\n",
       "    <tr>\n",
       "      <th>3</th>\n",
       "      <td>Georgetown</td>\n",
       "      <td>2020-04-06 00:43:35</td>\n",
       "      <td>5.41</td>\n",
       "      <td>77.63</td>\n",
       "      <td>94</td>\n",
       "      <td>20</td>\n",
       "      <td>3.36</td>\n",
       "    </tr>\n",
       "    <tr>\n",
       "      <th>4</th>\n",
       "      <td>Ban Chang</td>\n",
       "      <td>2020-04-06 00:44:27</td>\n",
       "      <td>12.73</td>\n",
       "      <td>85.98</td>\n",
       "      <td>83</td>\n",
       "      <td>20</td>\n",
       "      <td>3.36</td>\n",
       "    </tr>\n",
       "    <tr>\n",
       "      <th>...</th>\n",
       "      <td>...</td>\n",
       "      <td>...</td>\n",
       "      <td>...</td>\n",
       "      <td>...</td>\n",
       "      <td>...</td>\n",
       "      <td>...</td>\n",
       "      <td>...</td>\n",
       "    </tr>\n",
       "    <tr>\n",
       "      <th>87</th>\n",
       "      <td>Katsuura</td>\n",
       "      <td>2020-04-06 00:45:06</td>\n",
       "      <td>35.13</td>\n",
       "      <td>56.44</td>\n",
       "      <td>57</td>\n",
       "      <td>20</td>\n",
       "      <td>3.36</td>\n",
       "    </tr>\n",
       "    <tr>\n",
       "      <th>88</th>\n",
       "      <td>Kupang</td>\n",
       "      <td>2020-04-06 00:45:06</td>\n",
       "      <td>-10.17</td>\n",
       "      <td>84.20</td>\n",
       "      <td>89</td>\n",
       "      <td>20</td>\n",
       "      <td>4.70</td>\n",
       "    </tr>\n",
       "    <tr>\n",
       "      <th>89</th>\n",
       "      <td>Kankaanpaa</td>\n",
       "      <td>2020-04-06 00:45:06</td>\n",
       "      <td>61.80</td>\n",
       "      <td>35.87</td>\n",
       "      <td>97</td>\n",
       "      <td>90</td>\n",
       "      <td>4.70</td>\n",
       "    </tr>\n",
       "    <tr>\n",
       "      <th>90</th>\n",
       "      <td>Te Anau</td>\n",
       "      <td>2020-04-06 00:45:06</td>\n",
       "      <td>-45.42</td>\n",
       "      <td>60.04</td>\n",
       "      <td>69</td>\n",
       "      <td>100</td>\n",
       "      <td>6.20</td>\n",
       "    </tr>\n",
       "    <tr>\n",
       "      <th>91</th>\n",
       "      <td>Fortuna</td>\n",
       "      <td>2020-04-06 00:45:06</td>\n",
       "      <td>40.60</td>\n",
       "      <td>50.67</td>\n",
       "      <td>61</td>\n",
       "      <td>1</td>\n",
       "      <td>17.22</td>\n",
       "    </tr>\n",
       "  </tbody>\n",
       "</table>\n",
       "<p>92 rows × 7 columns</p>\n",
       "</div>"
      ],
      "text/plain": [
       "      City Name          Date (UTC)  Latitude  Temperature (F)  Humidity (%)  \\\n",
       "0     Ketchikan 2020-04-06 00:44:26     55.34            45.70            33   \n",
       "1   Oktyabrskiy 2020-04-06 00:44:26     54.48            30.09            91   \n",
       "2       Rikitea 2020-04-06 00:44:26    -23.12            75.34            65   \n",
       "3    Georgetown 2020-04-06 00:43:35      5.41            77.63            94   \n",
       "4     Ban Chang 2020-04-06 00:44:27     12.73            85.98            83   \n",
       "..          ...                 ...       ...              ...           ...   \n",
       "87     Katsuura 2020-04-06 00:45:06     35.13            56.44            57   \n",
       "88       Kupang 2020-04-06 00:45:06    -10.17            84.20            89   \n",
       "89   Kankaanpaa 2020-04-06 00:45:06     61.80            35.87            97   \n",
       "90      Te Anau 2020-04-06 00:45:06    -45.42            60.04            69   \n",
       "91      Fortuna 2020-04-06 00:45:06     40.60            50.67            61   \n",
       "\n",
       "    Cloudiness (%)  Wind Speed (MPH)  \n",
       "0                1             13.87  \n",
       "1               79              3.98  \n",
       "2               47             10.38  \n",
       "3               20              3.36  \n",
       "4               20              3.36  \n",
       "..             ...               ...  \n",
       "87              20              3.36  \n",
       "88              20              4.70  \n",
       "89              90              4.70  \n",
       "90             100              6.20  \n",
       "91               1             17.22  \n",
       "\n",
       "[92 rows x 7 columns]"
      ]
     },
     "execution_count": 9,
     "metadata": {},
     "output_type": "execute_result"
    }
   ],
   "source": [
    "import datetime\n",
    "city_data = pd.DataFrame({\"City Name\":cities_list,\"Date (UTC)\":date,\"Latitude\":lat,\"Temperature (F)\":temp,\"Humidity (%)\":humidity,\"Cloudiness (%)\":cloudiness,\"Wind Speed (MPH)\":wind_speed})\n",
    "city_data[\"City Name\"] = [city.title() for city in city_data[\"City Name\"]]\n",
    "city_data[\"Date (UTC)\"] = [datetime.datetime.utcfromtimestamp(date) for date in city_data[\"Date (UTC)\"]]\n",
    "city_data.to_csv(output_data_file)\n",
    "city_data"
   ]
  },
  {
   "cell_type": "code",
   "execution_count": 10,
   "metadata": {
    "ExecuteTime": {
     "end_time": "2020-04-06T00:45:43.773686Z",
     "start_time": "2020-04-06T00:45:43.771583Z"
    }
   },
   "outputs": [],
   "source": [
    "# import time\n",
    "# seconds = time.time()\n",
    "# print(\"Seconds since epoch =\", seconds)\n",
    "# local_time = time.ctime(seconds)\n",
    "# print(\"Local time:\", local_time)\n",
    "# time.struct_time?"
   ]
  },
  {
   "cell_type": "code",
   "execution_count": null,
   "metadata": {},
   "outputs": [],
   "source": []
  },
  {
   "cell_type": "markdown",
   "metadata": {},
   "source": [
    "### Plotting the Data\n",
    "* Use proper labeling of the plots using plot titles (including date of analysis) and axes labels.\n",
    "* Save the plotted figures as .pngs."
   ]
  },
  {
   "cell_type": "markdown",
   "metadata": {},
   "source": [
    "#### Latitude vs. Temperature Plot"
   ]
  },
  {
   "cell_type": "code",
   "execution_count": 11,
   "metadata": {
    "ExecuteTime": {
     "end_time": "2020-04-06T00:45:46.123921Z",
     "start_time": "2020-04-06T00:45:45.922327Z"
    },
    "scrolled": true
   },
   "outputs": [
    {
     "data": {
      "image/png": "[encoded data removed]",
      "text/plain": [
       "<Figure size 432x288 with 1 Axes>"
      ]
     },
     "metadata": {
      "needs_background": "light"
     },
     "output_type": "display_data"
    }
   ],
   "source": [
    "city_lat = city_data[\"Latitude\"]\n",
    "city_temp = city_data[\"Temperature (F)\"]\n",
    "city_date = city_data[\"Date (UTC)\"]\n",
    "\n",
    "plt.scatter(city_lat,city_temp)\n",
    "plt.xlabel(\"Latitude\")\n",
    "plt.ylabel(\"Temperature (F)\")\n",
    "plt.title(f\"Latitude by Temperature on {city_date[0]} UTC\")\n",
    "plt.savefig(\"../output_data/Lat_Temp_fig_png\")\n",
    "plt.show()"
   ]
  },
  {
   "cell_type": "markdown",
   "metadata": {},
   "source": [
    "#### Latitude vs. Humidity Plot"
   ]
  },
  {
   "cell_type": "code",
   "execution_count": 12,
   "metadata": {
    "ExecuteTime": {
     "end_time": "2020-04-06T00:45:47.956841Z",
     "start_time": "2020-04-06T00:45:47.729169Z"
    }
   },
   "outputs": [
    {
     "data": {
      "image/png": "[encoded data removed]",
      "text/plain": [
       "<Figure size 432x288 with 1 Axes>"
      ]
     },
     "metadata": {
      "needs_background": "light"
     },
     "output_type": "display_data"
    }
   ],
   "source": [
    "city_humidity = city_data[\"Humidity (%)\"]\n",
    "\n",
    "plt.scatter(city_lat,city_humidity)\n",
    "plt.xlabel(\"Latitude\")\n",
    "plt.ylabel(\"Humidity (%)\")\n",
    "plt.title(f\"Latitude by Humidity on {city_date[0]} UTC\")\n",
    "plt.savefig(\"../output_data/Lat_Hum_fig_png\")\n",
    "plt.show()"
   ]
  },
  {
   "cell_type": "markdown",
   "metadata": {},
   "source": [
    "#### Latitude vs. Cloudiness Plot"
   ]
  },
  {
   "cell_type": "code",
   "execution_count": 13,
   "metadata": {
    "ExecuteTime": {
     "end_time": "2020-04-06T00:45:49.685199Z",
     "start_time": "2020-04-06T00:45:49.501997Z"
    }
   },
   "outputs": [
    {
     "data": {
      "image/png": "[encoded data removed]",
      "text/plain": [
       "<Figure size 432x288 with 1 Axes>"
      ]
     },
     "metadata": {
      "needs_background": "light"
     },
     "output_type": "display_data"
    }
   ],
   "source": [
    "city_cloudiness = city_data[\"Cloudiness (%)\"]\n",
    "\n",
    "plt.scatter(city_lat,city_cloudiness)\n",
    "plt.xlabel(\"Latitude\")\n",
    "plt.ylabel(\"Cloudiness (%)\")\n",
    "plt.title(f\"Latitude by Cloudiness on {city_date[0]} UTC\")\n",
    "plt.savefig(\"../output_data/Lat_Cloud_fig_png\")\n",
    "plt.show()"
   ]
  },
  {
   "cell_type": "markdown",
   "metadata": {},
   "source": [
    "#### Latitude vs. Wind Speed Plot"
   ]
  },
  {
   "cell_type": "code",
   "execution_count": 14,
   "metadata": {
    "ExecuteTime": {
     "end_time": "2020-04-06T00:45:51.318445Z",
     "start_time": "2020-04-06T00:45:51.133811Z"
    }
   },
   "outputs": [
    {
     "data": {
      "image/png": "[encoded data removed]",
      "text/plain": [
       "<Figure size 432x288 with 1 Axes>"
      ]
     },
     "metadata": {
      "needs_background": "light"
     },
     "output_type": "display_data"
    }
   ],
   "source": [
    "city_windspeed = city_data[\"Wind Speed (MPH)\"]\n",
    "\n",
    "plt.scatter(city_lat,city_windspeed)\n",
    "plt.xlabel(\"Latitude\")\n",
    "plt.ylabel(\"Wind Speed (MPH)\")\n",
    "plt.title(f\"Latitude by Wind Speed on {city_date[0]} UTC\")\n",
    "plt.savefig(\"../output_data/Lat_Wind_fig_png\")\n",
    "plt.show()"
   ]
  },
  {
   "cell_type": "markdown",
   "metadata": {},
   "source": [
    "## Linear Regression"
   ]
  },
  {
   "cell_type": "code",
   "execution_count": null,
   "metadata": {},
   "outputs": [],
   "source": [
    "# OPTIONAL: Create a function to create Linear Regression plots\n"
   ]
  },
  {
   "cell_type": "code",
   "execution_count": null,
   "metadata": {},
   "outputs": [],
   "source": [
    "# Create Northern and Southern Hemisphere DataFrames\n"
   ]
  },
  {
   "cell_type": "markdown",
   "metadata": {},
   "source": [
    "####  Northern Hemisphere - Max Temp vs. Latitude Linear Regression"
   ]
  },
  {
   "cell_type": "code",
   "execution_count": null,
   "metadata": {},
   "outputs": [],
   "source": []
  },
  {
   "cell_type": "markdown",
   "metadata": {},
   "source": [
    "####  Southern Hemisphere - Max Temp vs. Latitude Linear Regression"
   ]
  },
  {
   "cell_type": "code",
   "execution_count": null,
   "metadata": {},
   "outputs": [],
   "source": []
  },
  {
   "cell_type": "markdown",
   "metadata": {},
   "source": [
    "####  Northern Hemisphere - Humidity (%) vs. Latitude Linear Regression"
   ]
  },
  {
   "cell_type": "code",
   "execution_count": null,
   "metadata": {},
   "outputs": [],
   "source": []
  },
  {
   "cell_type": "markdown",
   "metadata": {},
   "source": [
    "####  Southern Hemisphere - Humidity (%) vs. Latitude Linear Regression"
   ]
  },
  {
   "cell_type": "code",
   "execution_count": null,
   "metadata": {},
   "outputs": [],
   "source": []
  },
  {
   "cell_type": "markdown",
   "metadata": {},
   "source": [
    "####  Northern Hemisphere - Cloudiness (%) vs. Latitude Linear Regression"
   ]
  },
  {
   "cell_type": "code",
   "execution_count": null,
   "metadata": {},
   "outputs": [],
   "source": []
  },
  {
   "cell_type": "markdown",
   "metadata": {},
   "source": [
    "####  Southern Hemisphere - Cloudiness (%) vs. Latitude Linear Regression"
   ]
  },
  {
   "cell_type": "code",
   "execution_count": null,
   "metadata": {},
   "outputs": [],
   "source": []
  },
  {
   "cell_type": "markdown",
   "metadata": {},
   "source": [
    "####  Northern Hemisphere - Wind Speed (mph) vs. Latitude Linear Regression"
   ]
  },
  {
   "cell_type": "code",
   "execution_count": null,
   "metadata": {},
   "outputs": [],
   "source": []
  },
  {
   "cell_type": "markdown",
   "metadata": {},
   "source": [
    "####  Southern Hemisphere - Wind Speed (mph) vs. Latitude Linear Regression"
   ]
  },
  {
   "cell_type": "code",
   "execution_count": null,
   "metadata": {},
   "outputs": [],
   "source": []
  },
  {
   "cell_type": "code",
   "execution_count": null,
   "metadata": {},
   "outputs": [],
   "source": []
  }
 ],
 "metadata": {
  "anaconda-cloud": {},
  "kernel_info": {
   "name": "python3"
  },
  "kernelspec": {
   "display_name": "Python 3",
   "language": "python",
   "name": "python3"
  },
  "language_info": {
   "codemirror_mode": {
    "name": "ipython",
    "version": 3
   },
   "file_extension": ".py",
   "mimetype": "text/x-python",
   "name": "python",
   "nbconvert_exporter": "python",
   "pygments_lexer": "ipython3",
   "version": "3.6.10"
  },
  "latex_envs": {
   "LaTeX_envs_menu_present": true,
   "autoclose": false,
   "autocomplete": true,
   "bibliofile": "biblio.bib",
   "cite_by": "apalike",
   "current_citInitial": 1,
   "eqLabelWithNumbers": true,
   "eqNumInitial": 1,
   "hotkeys": {
    "equation": "Ctrl-E",
    "itemize": "Ctrl-I"
   },
   "labels_anchors": false,
   "latex_user_defs": false,
   "report_style_numbering": false,
   "user_envs_cfg": false
  },
  "nteract": {
   "version": "0.12.3"
  }
 },
 "nbformat": 4,
 "nbformat_minor": 2
}
