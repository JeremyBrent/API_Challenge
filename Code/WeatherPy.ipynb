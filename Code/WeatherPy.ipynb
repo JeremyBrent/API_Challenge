{
 "cells": [
  {
   "cell_type": "markdown",
   "metadata": {},
   "source": [
    "# WeatherPy\n",
    "----\n",
    "\n",
    "#### Note\n",
    "* Instructions have been included for each segment. You do not have to follow them exactly, but they are included to help you think through the steps."
   ]
  },
  {
   "cell_type": "code",
   "execution_count": 1,
   "metadata": {
    "ExecuteTime": {
     "end_time": "2020-04-08T16:29:36.756980Z",
     "start_time": "2020-04-08T16:29:36.715088Z"
    }
   },
   "outputs": [],
   "source": [
    "import bokeh\n"
   ]
  },
  {
   "cell_type": "code",
   "execution_count": 2,
   "metadata": {
    "ExecuteTime": {
     "end_time": "2020-04-08T16:29:38.540978Z",
     "start_time": "2020-04-08T16:29:36.759199Z"
    },
    "scrolled": true
   },
   "outputs": [],
   "source": [
    "# Dependencies and Setup\n",
    "import matplotlib.pyplot as plt\n",
    "import pandas as pd\n",
    "import numpy as np\n",
    "import requests\n",
    "import time\n",
    "from scipy.stats import linregress\n",
    "import os \n",
    "\n",
    "# Import API key\n",
    "from api_keys import weather_api_key\n",
    "\n",
    "# Incorporated citipy to determine city based on latitude and longitude\n",
    "from citipy import citipy\n",
    "\n",
    "# Output File (CSV)\n",
    "output_file = os.path.join(\"..\",\"output\",\"cities.csv\")\n",
    "\n",
    "# Range of latitudes and longitudes\n",
    "lat_range = (-90, 90)\n",
    "lng_range = (-180, 180)\n"
   ]
  },
  {
   "cell_type": "markdown",
   "metadata": {},
   "source": [
    "## Generate Cities List"
   ]
  },
  {
   "cell_type": "code",
   "execution_count": 3,
   "metadata": {
    "ExecuteTime": {
     "end_time": "2020-04-08T16:29:39.288384Z",
     "start_time": "2020-04-08T16:29:38.543611Z"
    }
   },
   "outputs": [
    {
     "data": {
      "text/plain": [
       "641"
      ]
     },
     "execution_count": 3,
     "metadata": {},
     "output_type": "execute_result"
    }
   ],
   "source": [
    "# List for holding lat_lngs and cities\n",
    "lat_lngs = []\n",
    "cities = []\n",
    "\n",
    "# Create a set of random lat and lng combinations\n",
    "lats = np.random.uniform(low=-90.000, high=90.000, size=1500)\n",
    "lngs = np.random.uniform(low=-180.000, high=180.000, size=1500)\n",
    "lat_lngs = zip(lats, lngs)\n",
    "\n",
    "# Identify nearest city for each lat, lng combination\n",
    "for lat_lng in lat_lngs:\n",
    "    city = citipy.nearest_city(lat_lng[0], lat_lng[1]).city_name\n",
    "    \n",
    "    # If the city is unique, then add it to a our cities list\n",
    "    if city not in cities:\n",
    "        cities.append(city)\n",
    "\n",
    "# Print the city count to confirm sufficient count\n",
    "len(cities)\n"
   ]
  },
  {
   "cell_type": "markdown",
   "metadata": {},
   "source": [
    "### Perform API Calls\n",
    "* Perform a weather check on each city using a series of successive API calls.\n",
    "* Include a print log of each city as it'sbeing processed (with the city number and city name).\n"
   ]
  },
  {
   "cell_type": "code",
   "execution_count": 4,
   "metadata": {
    "ExecuteTime": {
     "end_time": "2020-04-08T16:29:39.293131Z",
     "start_time": "2020-04-08T16:29:39.291074Z"
    }
   },
   "outputs": [],
   "source": [
    "#Loop through the cities list and add each city to the URL in the request\n",
    "#loop through one city at a time and make sure the code works"
   ]
  },
  {
   "cell_type": "code",
   "execution_count": 5,
   "metadata": {
    "ExecuteTime": {
     "end_time": "2020-04-08T16:29:39.297576Z",
     "start_time": "2020-04-08T16:29:39.295099Z"
    }
   },
   "outputs": [],
   "source": [
    "# Save config information.\n",
    "url = \"http://api.openweathermap.org/data/2.5/weather?\"\n",
    "units = \"imperial\"\n",
    "\n",
    "# Build partial query URL\n",
    "query_url = f\"{url}appid={weather_api_key}&units={units}&q=\""
   ]
  },
  {
   "cell_type": "code",
   "execution_count": 6,
   "metadata": {
    "ExecuteTime": {
     "end_time": "2020-04-08T16:30:36.518260Z",
     "start_time": "2020-04-08T16:29:39.299266Z"
    }
   },
   "outputs": [
    {
     "name": "stdout",
     "output_type": "stream",
     "text": [
      "Processing Record 1 of Set 1 | hithadhoo\n",
      "Processing Record 2 of Set 1 | omaruru\n",
      "Processing Record 3 of Set 1 | busselton\n",
      "Processing Record 4 of Set 1 | bilma\n",
      "Processing Record 5 of Set 1 | saint-philippe\n",
      "Processing Record 6 of Set 1 | pangnirtung\n",
      "Processing Record 7 of Set 1 | bredasdorp\n",
      "Processing Record 8 of Set 1 | high level\n",
      "This city does not exist\n",
      "Processing Record 10 of Set 1 | igarka\n",
      "Processing Record 11 of Set 1 | kavieng\n",
      "This city does not exist\n",
      "Processing Record 13 of Set 1 | mataura\n",
      "Processing Record 14 of Set 1 | soyaux\n",
      "Processing Record 15 of Set 1 | gusau\n",
      "Processing Record 16 of Set 1 | jamestown\n",
      "Processing Record 17 of Set 1 | albany\n",
      "Processing Record 18 of Set 1 | kapaa\n",
      "This city does not exist\n",
      "Processing Record 20 of Set 1 | esperance\n",
      "Processing Record 21 of Set 1 | atasu\n",
      "This city does not exist\n",
      "Processing Record 23 of Set 1 | longyearbyen\n",
      "Processing Record 24 of Set 1 | beloha\n",
      "Processing Record 25 of Set 1 | shache\n",
      "Processing Record 26 of Set 1 | bluff\n",
      "This city does not exist\n",
      "Processing Record 28 of Set 1 | ponta do sol\n",
      "Processing Record 29 of Set 1 | dikson\n",
      "This city does not exist\n",
      "This city does not exist\n",
      "Processing Record 32 of Set 1 | kichera\n",
      "Processing Record 33 of Set 1 | vaini\n",
      "Processing Record 34 of Set 1 | merke\n",
      "Processing Record 35 of Set 1 | kaitangata\n",
      "Processing Record 36 of Set 1 | rikitea\n",
      "Processing Record 37 of Set 1 | barrow\n",
      "Processing Record 38 of Set 1 | necochea\n",
      "Processing Record 39 of Set 1 | butaritari\n",
      "Processing Record 40 of Set 1 | tasiilaq\n",
      "Processing Record 41 of Set 1 | barraute\n",
      "Processing Record 42 of Set 1 | bafra\n",
      "Processing Record 43 of Set 1 | kovdor\n",
      "Processing Record 44 of Set 1 | evensk\n",
      "Processing Record 45 of Set 1 | khatanga\n",
      "Processing Record 46 of Set 1 | katsuura\n",
      "Processing Record 47 of Set 1 | kenai\n",
      "Processing Record 48 of Set 1 | sao filipe\n",
      "Processing Record 49 of Set 1 | ushuaia\n",
      "This city does not exist\n",
      "The program paused for 10 seconds\n",
      "Processing Record 1 of Set 2 | coquimbo\n",
      "Processing Record 2 of Set 2 | sur\n",
      "Processing Record 3 of Set 2 | severo-kurilsk\n",
      "Processing Record 4 of Set 2 | mantua\n",
      "Processing Record 5 of Set 2 | lompoc\n",
      "Processing Record 6 of Set 2 | port alfred\n",
      "Processing Record 7 of Set 2 | cabo san lucas\n",
      "This city does not exist\n",
      "Processing Record 9 of Set 2 | aykhal\n",
      "Processing Record 10 of Set 2 | half moon bay\n",
      "Processing Record 11 of Set 2 | luancheng\n",
      "Processing Record 12 of Set 2 | airai\n",
      "Processing Record 13 of Set 2 | hilo\n",
      "Processing Record 14 of Set 2 | karratha\n",
      "Processing Record 15 of Set 2 | souillac\n",
      "Processing Record 16 of Set 2 | cervo\n",
      "Processing Record 17 of Set 2 | tiksi\n",
      "Processing Record 18 of Set 2 | new norfolk\n",
      "Processing Record 19 of Set 2 | tazovskiy\n",
      "Processing Record 20 of Set 2 | bilokurakyne\n",
      "Processing Record 21 of Set 2 | huarmey\n",
      "Processing Record 22 of Set 2 | kokuy\n",
      "Processing Record 23 of Set 2 | lebu\n",
      "Processing Record 24 of Set 2 | kaeo\n",
      "Processing Record 25 of Set 2 | faya\n",
      "Processing Record 26 of Set 2 | road town\n",
      "Processing Record 27 of Set 2 | mahebourg\n",
      "Processing Record 28 of Set 2 | mehamn\n",
      "Processing Record 29 of Set 2 | hermanus\n",
      "Processing Record 30 of Set 2 | bandarbeyla\n",
      "Processing Record 31 of Set 2 | erdenet\n",
      "Processing Record 32 of Set 2 | mizan teferi\n",
      "Processing Record 33 of Set 2 | elk river\n",
      "Processing Record 34 of Set 2 | saskylakh\n",
      "Processing Record 35 of Set 2 | shangrao\n",
      "Processing Record 36 of Set 2 | tocopilla\n",
      "This city does not exist\n",
      "Processing Record 38 of Set 2 | kedougou\n",
      "Processing Record 39 of Set 2 | kloulklubed\n",
      "Processing Record 40 of Set 2 | baiao\n",
      "Processing Record 41 of Set 2 | matara\n",
      "Processing Record 42 of Set 2 | hobart\n",
      "Processing Record 43 of Set 2 | vila franca do campo\n",
      "Processing Record 44 of Set 2 | georgetown\n",
      "Processing Record 45 of Set 2 | guerrero negro\n",
      "Processing Record 46 of Set 2 | ratnagiri\n",
      "Processing Record 47 of Set 2 | fortuna\n",
      "Processing Record 48 of Set 2 | kamensk-uralskiy\n",
      "Processing Record 49 of Set 2 | castro\n",
      "Processing Record 50 of Set 2 | qaanaaq\n",
      "The program paused for 10 seconds\n",
      "Processing Record 1 of Set 3 | punta arenas\n",
      "Processing Record 2 of Set 3 | hasaki\n",
      "This city does not exist\n",
      "Processing Record 4 of Set 3 | nanortalik\n",
      "Processing Record 5 of Set 3 | geraldton\n",
      "Processing Record 6 of Set 3 | klaksvik\n",
      "Processing Record 7 of Set 3 | zhigalovo\n",
      "Processing Record 8 of Set 3 | cherskiy\n",
      "This city does not exist\n",
      "Processing Record 10 of Set 3 | upernavik\n",
      "Processing Record 11 of Set 3 | alihe\n",
      "Processing Record 12 of Set 3 | thompson\n",
      "Processing Record 13 of Set 3 | padang\n",
      "This city does not exist\n",
      "This city does not exist\n",
      "Processing Record 16 of Set 3 | lagoa\n",
      "This city does not exist\n",
      "This city does not exist\n",
      "Processing Record 19 of Set 3 | naze\n",
      "Processing Record 20 of Set 3 | jutai\n",
      "Processing Record 21 of Set 3 | salalah\n",
      "Processing Record 22 of Set 3 | puerto ayora\n",
      "Processing Record 23 of Set 3 | erenhot\n",
      "Processing Record 24 of Set 3 | trofors\n",
      "Processing Record 25 of Set 3 | avarua\n",
      "Processing Record 26 of Set 3 | polignano a mare\n",
      "Processing Record 27 of Set 3 | cidreira\n",
      "Processing Record 28 of Set 3 | sakaiminato\n",
      "Processing Record 29 of Set 3 | pontianak\n",
      "Processing Record 30 of Set 3 | portland\n",
      "Processing Record 31 of Set 3 | krasnokholm\n",
      "Processing Record 32 of Set 3 | isangel\n",
      "Processing Record 33 of Set 3 | santa cruz\n",
      "Processing Record 34 of Set 3 | katherine\n",
      "Processing Record 35 of Set 3 | floro\n",
      "Processing Record 36 of Set 3 | pitimbu\n",
      "Processing Record 37 of Set 3 | maragogi\n",
      "Processing Record 38 of Set 3 | codrington\n",
      "Processing Record 39 of Set 3 | soeng sang\n",
      "Processing Record 40 of Set 3 | jizan\n",
      "Processing Record 41 of Set 3 | wuwei\n",
      "Processing Record 42 of Set 3 | mahajanga\n",
      "This city does not exist\n",
      "Processing Record 44 of Set 3 | yumen\n",
      "Processing Record 45 of Set 3 | leningradskiy\n",
      "Processing Record 46 of Set 3 | camacha\n",
      "Processing Record 47 of Set 3 | coihaique\n",
      "Processing Record 48 of Set 3 | mar del plata\n",
      "Processing Record 49 of Set 3 | broome\n",
      "This city does not exist\n",
      "The program paused for 10 seconds\n",
      "Processing Record 1 of Set 4 | mundo nuevo\n",
      "Processing Record 2 of Set 4 | cape town\n",
      "Processing Record 3 of Set 4 | gelibolu\n",
      "Processing Record 4 of Set 4 | shelburne\n",
      "Processing Record 5 of Set 4 | sibiti\n",
      "This city does not exist\n",
      "Processing Record 7 of Set 4 | narsaq\n",
      "Processing Record 8 of Set 4 | paka\n",
      "Processing Record 9 of Set 4 | okha\n",
      "Processing Record 10 of Set 4 | staryy nadym\n",
      "Processing Record 11 of Set 4 | kijang\n",
      "Processing Record 12 of Set 4 | san jose\n",
      "Processing Record 13 of Set 4 | ribeira grande\n",
      "Processing Record 14 of Set 4 | kawalu\n",
      "Processing Record 15 of Set 4 | viedma\n",
      "Processing Record 16 of Set 4 | yellowknife\n",
      "Processing Record 17 of Set 4 | ambulu\n",
      "Processing Record 18 of Set 4 | port-gentil\n",
      "Processing Record 19 of Set 4 | telica\n",
      "Processing Record 20 of Set 4 | port hedland\n",
      "Processing Record 21 of Set 4 | sadao\n",
      "Processing Record 22 of Set 4 | dubuque\n",
      "This city does not exist\n",
      "Processing Record 24 of Set 4 | norfolk\n",
      "Processing Record 25 of Set 4 | marquette\n",
      "Processing Record 26 of Set 4 | kunming\n",
      "Processing Record 27 of Set 4 | tual\n",
      "Processing Record 28 of Set 4 | najran\n",
      "Processing Record 29 of Set 4 | chokurdakh\n",
      "Processing Record 30 of Set 4 | shelton\n",
      "Processing Record 31 of Set 4 | ramanuj ganj\n",
      "Processing Record 32 of Set 4 | rio grande\n",
      "Processing Record 33 of Set 4 | dwarka\n",
      "Processing Record 34 of Set 4 | arlit\n",
      "Processing Record 35 of Set 4 | rocha\n",
      "Processing Record 36 of Set 4 | tambura\n",
      "Processing Record 37 of Set 4 | wagar\n",
      "This city does not exist\n",
      "Processing Record 39 of Set 4 | turukhansk\n",
      "Processing Record 40 of Set 4 | sturgeon falls\n",
      "This city does not exist\n",
      "Processing Record 42 of Set 4 | kahului\n",
      "Processing Record 43 of Set 4 | korla\n",
      "Processing Record 44 of Set 4 | pyaozerskiy\n",
      "Processing Record 45 of Set 4 | ulfborg\n",
      "Processing Record 46 of Set 4 | san antonio\n",
      "Processing Record 47 of Set 4 | todos santos\n",
      "Processing Record 48 of Set 4 | norman wells\n",
      "Processing Record 49 of Set 4 | bloemhof\n",
      "Processing Record 50 of Set 4 | kourou\n",
      "The program paused for 10 seconds\n"
     ]
    }
   ],
   "source": [
    "# Get latitude and temperature for cities\n",
    "cities = cities[0:200]\n",
    "# set up lists to hold reponse info\n",
    "# we need more data than latitude and temp for the hw \n",
    "lat = []\n",
    "temp = []\n",
    "humidity = []\n",
    "cloudiness = []\n",
    "wind_speed = []\n",
    "date = []\n",
    "cities_list = []\n",
    "counter = 0\n",
    "set_list = 1\n",
    "t = 10\n",
    "# Loop through the list of cities and perform a request for data on each\n",
    "for city in cities:\n",
    "    response = requests.get(query_url + city).json()\n",
    "    counter += 1\n",
    "    try:\n",
    "        lat.append(response['coord']['lat'])\n",
    "        temp.append(response['main']['temp'])\n",
    "        humidity.append(response['main']['humidity'])\n",
    "        cloudiness.append(response['clouds']['all'])\n",
    "        wind_speed.append(response['wind']['speed'])\n",
    "        date.append(response[\"dt\"])\n",
    "        cities_list.append(city)\n",
    "        print(f'Processing Record {counter} of Set {set_list} | {city}')\n",
    "    except KeyError:\n",
    "        print(\"This city does not exist\")\n",
    "        pass\n",
    "    \n",
    "    if counter >= 50:\n",
    "        time.sleep(t)\n",
    "        counter = 0\n",
    "        set_list += 1\n",
    "        print(f'The program paused for {t} seconds')\n",
    "\n",
    "# print(f\"The latitude information received is: {lat}\")\n",
    "# print(f\"The temperature information received is: {temp}\")\n"
   ]
  },
  {
   "cell_type": "code",
   "execution_count": 7,
   "metadata": {
    "ExecuteTime": {
     "end_time": "2020-04-08T16:30:36.525047Z",
     "start_time": "2020-04-08T16:30:36.520988Z"
    }
   },
   "outputs": [
    {
     "name": "stdout",
     "output_type": "stream",
     "text": [
      "178 178 178 178 178 178 178\n"
     ]
    }
   ],
   "source": [
    "print(len(cities_list), len(temp), len(humidity),len(cloudiness), len(lat), len(date), len(wind_speed))"
   ]
  },
  {
   "cell_type": "markdown",
   "metadata": {},
   "source": [
    "### Convert Raw Data to DataFrame\n",
    "* Export the city data into a .csv.\n",
    "* Display the DataFrame"
   ]
  },
  {
   "cell_type": "code",
   "execution_count": 8,
   "metadata": {
    "ExecuteTime": {
     "end_time": "2020-04-08T16:30:36.531683Z",
     "start_time": "2020-04-08T16:30:36.529314Z"
    }
   },
   "outputs": [],
   "source": [
    "#df.to_csv(output_file)"
   ]
  },
  {
   "cell_type": "code",
   "execution_count": 9,
   "metadata": {
    "ExecuteTime": {
     "end_time": "2020-04-08T16:30:36.567189Z",
     "start_time": "2020-04-08T16:30:36.535480Z"
    }
   },
   "outputs": [
    {
     "data": {
      "text/html": [
       "<div>\n",
       "<style scoped>\n",
       "    .dataframe tbody tr th:only-of-type {\n",
       "        vertical-align: middle;\n",
       "    }\n",
       "\n",
       "    .dataframe tbody tr th {\n",
       "        vertical-align: top;\n",
       "    }\n",
       "\n",
       "    .dataframe thead th {\n",
       "        text-align: right;\n",
       "    }\n",
       "</style>\n",
       "<table border=\"1\" class=\"dataframe\">\n",
       "  <thead>\n",
       "    <tr style=\"text-align: right;\">\n",
       "      <th></th>\n",
       "      <th>City Name</th>\n",
       "      <th>Date (UTC)</th>\n",
       "      <th>Latitude</th>\n",
       "      <th>Temperature (F)</th>\n",
       "      <th>Humidity (%)</th>\n",
       "      <th>Cloudiness (%)</th>\n",
       "      <th>Wind Speed (MPH)</th>\n",
       "    </tr>\n",
       "  </thead>\n",
       "  <tbody>\n",
       "    <tr>\n",
       "      <th>0</th>\n",
       "      <td>Hithadhoo</td>\n",
       "      <td>2020-04-08 16:27:11</td>\n",
       "      <td>-0.60</td>\n",
       "      <td>85.69</td>\n",
       "      <td>66</td>\n",
       "      <td>58</td>\n",
       "      <td>7.83</td>\n",
       "    </tr>\n",
       "    <tr>\n",
       "      <th>1</th>\n",
       "      <td>Omaruru</td>\n",
       "      <td>2020-04-08 16:29:39</td>\n",
       "      <td>-21.43</td>\n",
       "      <td>86.90</td>\n",
       "      <td>16</td>\n",
       "      <td>21</td>\n",
       "      <td>7.90</td>\n",
       "    </tr>\n",
       "    <tr>\n",
       "      <th>2</th>\n",
       "      <td>Busselton</td>\n",
       "      <td>2020-04-08 16:29:39</td>\n",
       "      <td>-33.65</td>\n",
       "      <td>62.01</td>\n",
       "      <td>49</td>\n",
       "      <td>0</td>\n",
       "      <td>7.34</td>\n",
       "    </tr>\n",
       "    <tr>\n",
       "      <th>3</th>\n",
       "      <td>Bilma</td>\n",
       "      <td>2020-04-08 16:29:39</td>\n",
       "      <td>18.69</td>\n",
       "      <td>100.00</td>\n",
       "      <td>8</td>\n",
       "      <td>21</td>\n",
       "      <td>5.66</td>\n",
       "    </tr>\n",
       "    <tr>\n",
       "      <th>4</th>\n",
       "      <td>Saint-Philippe</td>\n",
       "      <td>2020-04-08 16:29:39</td>\n",
       "      <td>-21.36</td>\n",
       "      <td>72.34</td>\n",
       "      <td>83</td>\n",
       "      <td>14</td>\n",
       "      <td>4.70</td>\n",
       "    </tr>\n",
       "    <tr>\n",
       "      <th>...</th>\n",
       "      <td>...</td>\n",
       "      <td>...</td>\n",
       "      <td>...</td>\n",
       "      <td>...</td>\n",
       "      <td>...</td>\n",
       "      <td>...</td>\n",
       "      <td>...</td>\n",
       "    </tr>\n",
       "    <tr>\n",
       "      <th>173</th>\n",
       "      <td>San Antonio</td>\n",
       "      <td>2020-04-08 16:26:09</td>\n",
       "      <td>29.42</td>\n",
       "      <td>80.06</td>\n",
       "      <td>83</td>\n",
       "      <td>20</td>\n",
       "      <td>6.93</td>\n",
       "    </tr>\n",
       "    <tr>\n",
       "      <th>174</th>\n",
       "      <td>Todos Santos</td>\n",
       "      <td>2020-04-08 16:30:26</td>\n",
       "      <td>23.45</td>\n",
       "      <td>73.06</td>\n",
       "      <td>53</td>\n",
       "      <td>75</td>\n",
       "      <td>9.69</td>\n",
       "    </tr>\n",
       "    <tr>\n",
       "      <th>175</th>\n",
       "      <td>Norman Wells</td>\n",
       "      <td>2020-04-08 16:30:26</td>\n",
       "      <td>65.28</td>\n",
       "      <td>3.20</td>\n",
       "      <td>71</td>\n",
       "      <td>20</td>\n",
       "      <td>8.05</td>\n",
       "    </tr>\n",
       "    <tr>\n",
       "      <th>176</th>\n",
       "      <td>Bloemhof</td>\n",
       "      <td>2020-04-08 16:30:26</td>\n",
       "      <td>-27.65</td>\n",
       "      <td>64.36</td>\n",
       "      <td>19</td>\n",
       "      <td>0</td>\n",
       "      <td>5.28</td>\n",
       "    </tr>\n",
       "    <tr>\n",
       "      <th>177</th>\n",
       "      <td>Kourou</td>\n",
       "      <td>2020-04-08 16:30:26</td>\n",
       "      <td>5.16</td>\n",
       "      <td>87.80</td>\n",
       "      <td>66</td>\n",
       "      <td>75</td>\n",
       "      <td>13.87</td>\n",
       "    </tr>\n",
       "  </tbody>\n",
       "</table>\n",
       "<p>178 rows × 7 columns</p>\n",
       "</div>"
      ],
      "text/plain": [
       "          City Name          Date (UTC)  Latitude  Temperature (F)  \\\n",
       "0         Hithadhoo 2020-04-08 16:27:11     -0.60            85.69   \n",
       "1           Omaruru 2020-04-08 16:29:39    -21.43            86.90   \n",
       "2         Busselton 2020-04-08 16:29:39    -33.65            62.01   \n",
       "3             Bilma 2020-04-08 16:29:39     18.69           100.00   \n",
       "4    Saint-Philippe 2020-04-08 16:29:39    -21.36            72.34   \n",
       "..              ...                 ...       ...              ...   \n",
       "173     San Antonio 2020-04-08 16:26:09     29.42            80.06   \n",
       "174    Todos Santos 2020-04-08 16:30:26     23.45            73.06   \n",
       "175    Norman Wells 2020-04-08 16:30:26     65.28             3.20   \n",
       "176        Bloemhof 2020-04-08 16:30:26    -27.65            64.36   \n",
       "177          Kourou 2020-04-08 16:30:26      5.16            87.80   \n",
       "\n",
       "     Humidity (%)  Cloudiness (%)  Wind Speed (MPH)  \n",
       "0              66              58              7.83  \n",
       "1              16              21              7.90  \n",
       "2              49               0              7.34  \n",
       "3               8              21              5.66  \n",
       "4              83              14              4.70  \n",
       "..            ...             ...               ...  \n",
       "173            83              20              6.93  \n",
       "174            53              75              9.69  \n",
       "175            71              20              8.05  \n",
       "176            19               0              5.28  \n",
       "177            66              75             13.87  \n",
       "\n",
       "[178 rows x 7 columns]"
      ]
     },
     "execution_count": 9,
     "metadata": {},
     "output_type": "execute_result"
    }
   ],
   "source": [
    "import datetime\n",
    "city_data = pd.DataFrame({\"City Name\":cities_list,\"Date (UTC)\":date,\"Latitude\":lat,\"Temperature (F)\":temp,\"Humidity (%)\":humidity,\"Cloudiness (%)\":cloudiness,\"Wind Speed (MPH)\":wind_speed})\n",
    "city_data[\"City Name\"] = [city.title() for city in city_data[\"City Name\"]]\n",
    "city_data[\"Date (UTC)\"] = [datetime.datetime.utcfromtimestamp(date) for date in city_data[\"Date (UTC)\"]]\n",
    "city_data.to_csv(output_file)\n",
    "city_data"
   ]
  },
  {
   "cell_type": "code",
   "execution_count": 10,
   "metadata": {
    "ExecuteTime": {
     "end_time": "2020-04-08T16:30:36.571001Z",
     "start_time": "2020-04-08T16:30:36.569181Z"
    }
   },
   "outputs": [],
   "source": [
    "# import time\n",
    "# seconds = time.time()\n",
    "# print(\"Seconds since epoch =\", seconds)\n",
    "# local_time = time.ctime(seconds)\n",
    "# print(\"Local time:\", local_time)\n",
    "# time.struct_time?"
   ]
  },
  {
   "cell_type": "code",
   "execution_count": null,
   "metadata": {},
   "outputs": [],
   "source": []
  },
  {
   "cell_type": "markdown",
   "metadata": {},
   "source": [
    "### Plotting the Data\n",
    "* Use proper labeling of the plots using plot titles (including date of analysis) and axes labels.\n",
    "* Save the plotted figures as .pngs."
   ]
  },
  {
   "cell_type": "markdown",
   "metadata": {},
   "source": [
    "#### Latitude vs. Temperature Plot"
   ]
  },
  {
   "cell_type": "code",
   "execution_count": 11,
   "metadata": {
    "ExecuteTime": {
     "end_time": "2020-04-08T16:30:36.777389Z",
     "start_time": "2020-04-08T16:30:36.572893Z"
    },
    "scrolled": true
   },
   "outputs": [
    {
     "data": {
      "image/png": "[encoded data removed]",
      "text/plain": [
       "<Figure size 432x288 with 1 Axes>"
      ]
     },
     "metadata": {
      "needs_background": "light"
     },
     "output_type": "display_data"
    }
   ],
   "source": [
    "city_lat = city_data[\"Latitude\"]\n",
    "city_temp = city_data[\"Temperature (F)\"]\n",
    "city_date = city_data[\"Date (UTC)\"]\n",
    "\n",
    "plt.scatter(city_lat,city_temp)\n",
    "plt.xlabel(\"Latitude\")\n",
    "plt.ylabel(\"Temperature (F)\")\n",
    "plt.title(f\"Latitude by Temperature on {city_date[0]} UTC\")\n",
    "plt.savefig(\"../output/Lat_Temp_fig_png\")\n",
    "plt.show()"
   ]
  },
  {
   "cell_type": "code",
   "execution_count": 12,
   "metadata": {
    "ExecuteTime": {
     "end_time": "2020-04-08T16:30:36.780831Z",
     "start_time": "2020-04-08T16:30:36.778824Z"
    }
   },
   "outputs": [],
   "source": [
    "# After each plot add a sentence or too explaining what the code is and analyzing."
   ]
  },
  {
   "cell_type": "markdown",
   "metadata": {},
   "source": [
    "#### Latitude vs. Humidity Plot"
   ]
  },
  {
   "cell_type": "code",
   "execution_count": 13,
   "metadata": {
    "ExecuteTime": {
     "end_time": "2020-04-08T16:30:36.962386Z",
     "start_time": "2020-04-08T16:30:36.782822Z"
    }
   },
   "outputs": [
    {
     "data": {
      "image/png": "[encoded data removed]",
      "text/plain": [
       "<Figure size 432x288 with 1 Axes>"
      ]
     },
     "metadata": {
      "needs_background": "light"
     },
     "output_type": "display_data"
    }
   ],
   "source": [
    "city_humidity = city_data[\"Humidity (%)\"]\n",
    "\n",
    "plt.scatter(city_lat,city_humidity)\n",
    "plt.xlabel(\"Latitude\")\n",
    "plt.ylabel(\"Humidity (%)\")\n",
    "plt.title(f\"Latitude by Humidity on {city_date[0]} UTC\")\n",
    "plt.savefig(\"../output/Lat_Hum_fig_png\")\n",
    "plt.show()"
   ]
  },
  {
   "cell_type": "code",
   "execution_count": 14,
   "metadata": {
    "ExecuteTime": {
     "end_time": "2020-04-08T16:30:36.966251Z",
     "start_time": "2020-04-08T16:30:36.964216Z"
    }
   },
   "outputs": [],
   "source": [
    "# After each plot add a sentence or too explaining what the code is and analyzing."
   ]
  },
  {
   "cell_type": "markdown",
   "metadata": {},
   "source": [
    "#### Latitude vs. Cloudiness Plot"
   ]
  },
  {
   "cell_type": "code",
   "execution_count": 15,
   "metadata": {
    "ExecuteTime": {
     "end_time": "2020-04-08T16:30:37.153742Z",
     "start_time": "2020-04-08T16:30:36.967807Z"
    },
    "scrolled": true
   },
   "outputs": [
    {
     "data": {
      "image/png": "[encoded data removed]",
      "text/plain": [
       "<Figure size 432x288 with 1 Axes>"
      ]
     },
     "metadata": {
      "needs_background": "light"
     },
     "output_type": "display_data"
    }
   ],
   "source": [
    "city_cloudiness = city_data[\"Cloudiness (%)\"]\n",
    "\n",
    "plt.scatter(city_lat,city_cloudiness)\n",
    "plt.xlabel(\"Latitude\")\n",
    "plt.ylabel(\"Cloudiness (%)\")\n",
    "plt.title(f\"Latitude by Cloudiness on {city_date[0]} UTC\")\n",
    "plt.savefig(\"../output/Lat_Cloud_fig_png\")\n",
    "plt.show()"
   ]
  },
  {
   "cell_type": "code",
   "execution_count": 16,
   "metadata": {
    "ExecuteTime": {
     "end_time": "2020-04-08T16:30:37.157253Z",
     "start_time": "2020-04-08T16:30:37.155234Z"
    }
   },
   "outputs": [],
   "source": [
    "# After each plot add a sentence or too explaining what the code is and analyzing."
   ]
  },
  {
   "cell_type": "markdown",
   "metadata": {},
   "source": [
    "#### Latitude vs. Wind Speed Plot"
   ]
  },
  {
   "cell_type": "code",
   "execution_count": 17,
   "metadata": {
    "ExecuteTime": {
     "end_time": "2020-04-08T16:30:37.338885Z",
     "start_time": "2020-04-08T16:30:37.158853Z"
    },
    "scrolled": true
   },
   "outputs": [
    {
     "data": {
      "image/png": "[encoded data removed]",
      "text/plain": [
       "<Figure size 432x288 with 1 Axes>"
      ]
     },
     "metadata": {
      "needs_background": "light"
     },
     "output_type": "display_data"
    }
   ],
   "source": [
    "city_windspeed = city_data[\"Wind Speed (MPH)\"]\n",
    "\n",
    "plt.scatter(city_lat,city_windspeed)\n",
    "plt.xlabel(\"Latitude\")\n",
    "plt.ylabel(\"Wind Speed (MPH)\")\n",
    "plt.title(f\"Latitude by Wind Speed on {city_date[0]} UTC\")\n",
    "plt.savefig(\"../output/Lat_Wind_fig_png\")\n",
    "plt.show()"
   ]
  },
  {
   "cell_type": "code",
   "execution_count": 18,
   "metadata": {
    "ExecuteTime": {
     "end_time": "2020-04-08T16:30:37.342309Z",
     "start_time": "2020-04-08T16:30:37.340327Z"
    }
   },
   "outputs": [],
   "source": [
    "# After each plot add a sentence or too explaining what the code is and analyzing."
   ]
  },
  {
   "cell_type": "markdown",
   "metadata": {},
   "source": [
    "## Linear Regression"
   ]
  },
  {
   "cell_type": "code",
   "execution_count": 29,
   "metadata": {
    "ExecuteTime": {
     "end_time": "2020-04-08T16:31:30.666609Z",
     "start_time": "2020-04-08T16:31:30.606768Z"
    }
   },
   "outputs": [],
   "source": [
    "plt.annotate?"
   ]
  },
  {
   "cell_type": "code",
   "execution_count": 69,
   "metadata": {
    "ExecuteTime": {
     "end_time": "2020-04-08T19:02:41.008519Z",
     "start_time": "2020-04-08T19:02:41.002539Z"
    }
   },
   "outputs": [],
   "source": [
    "# OPTIONAL: Create a function to create Linear Regression plots\n",
    "def linearregression(x_values,y_values,x_label,y_label):\n",
    "    (slope, intercept, rvalue, pvalue, stderr) = linregress(x_values, y_values)\n",
    "    regress_values = x_values * slope + intercept\n",
    "    line_eq = \"y = \" + str(round(slope,2)) + \"x + \" + str(round(intercept,2))\n",
    "    plt.scatter(x_values,y_values)\n",
    "    plt.plot(x_values,regress_values,\"r-\")\n",
    "    x_axis = x_values.sum()\n",
    "    y_axis = y_values.sum()\n",
    "    x_axis_avg = x_axis / len(x_values)\n",
    "    y_axis_avg = y_axis / len(y_values)\n",
    "    plt.annotate(line_eq,(0,1),xycoords='data',fontsize=15,color=\"red\")\n",
    "    plt.xlabel(x_label)\n",
    "    plt.ylabel(y_label)\n",
    "#     plt.xlim(0,len(x_values))\n",
    "#     plt.ylim(0,len(y_values))\n",
    "    print(f\"The r-squared is: {rvalue**2}\")\n",
    "    plt.show()\n"
   ]
  },
  {
   "cell_type": "code",
   "execution_count": null,
   "metadata": {
    "ExecuteTime": {
     "end_time": "2020-04-08T19:00:03.649888Z",
     "start_time": "2020-04-08T19:00:03.641755Z"
    }
   },
   "outputs": [],
   "source": []
  },
  {
   "cell_type": "code",
   "execution_count": 70,
   "metadata": {
    "ExecuteTime": {
     "end_time": "2020-04-08T19:02:41.600203Z",
     "start_time": "2020-04-08T19:02:41.592907Z"
    }
   },
   "outputs": [],
   "source": [
    "# Create Northern and Southern Hemisphere DataFrames\n",
    "Northern_hemp = city_data.loc[city_data[\"Latitude\"]>=0,:]\n",
    "Southern_hemp = city_data.loc[city_data[\"Latitude\"]<0,:]\n",
    "\n",
    "#Creating series for variables in the northern hemisphere\n",
    "Northern_city_lat = Northern_hemp[\"Latitude\"]\n",
    "Northern_city_temp = Northern_hemp[\"Temperature (F)\"]\n",
    "Northern_city_hum = Northern_hemp[\"Humidity (%)\"]\n",
    "Northern_city_cloud = Northern_hemp[\"Cloudiness (%)\"]\n",
    "Northern_city_wind = Northern_hemp[\"Wind Speed (MPH)\"]\n",
    "\n",
    "#Creating series for variables in the southern hemisphere\n",
    "Southern_city_lat = Southern_hemp[\"Latitude\"]\n",
    "Southern_city_temp = Southern_hemp[\"Temperature (F)\"]\n",
    "Southern_city_hum = Southern_hemp[\"Humidity (%)\"]\n",
    "Southern_city_cloud = Southern_hemp[\"Cloudiness (%)\"]\n",
    "Southern_city_wind = Southern_hemp[\"Wind Speed (MPH)\"]\n"
   ]
  },
  {
   "cell_type": "markdown",
   "metadata": {},
   "source": [
    "####  Northern Hemisphere - Max Temp vs. Latitude Linear Regression"
   ]
  },
  {
   "cell_type": "code",
   "execution_count": 71,
   "metadata": {
    "ExecuteTime": {
     "end_time": "2020-04-08T19:02:42.574242Z",
     "start_time": "2020-04-08T19:02:42.429140Z"
    },
    "scrolled": true
   },
   "outputs": [
    {
     "name": "stdout",
     "output_type": "stream",
     "text": [
      "The r-squared is: 0.8025406867015145\n"
     ]
    },
    {
     "data": {
      "image/png": "[encoded data removed]",
      "text/plain": [
       "<Figure size 432x288 with 1 Axes>"
      ]
     },
     "metadata": {
      "needs_background": "light"
     },
     "output_type": "display_data"
    }
   ],
   "source": [
    "linearregression(Northern_city_lat,Northern_city_temp,\"Latitude\",\"Wind Speed (MPH)\")"
   ]
  },
  {
   "cell_type": "code",
   "execution_count": 72,
   "metadata": {
    "ExecuteTime": {
     "end_time": "2020-04-08T19:02:43.119401Z",
     "start_time": "2020-04-08T19:02:43.117546Z"
    }
   },
   "outputs": [],
   "source": [
    "#After each pair of plots explain what the linear regression is modeling\n",
    "#such as any relationships you notice and any other analysis you may have."
   ]
  },
  {
   "cell_type": "markdown",
   "metadata": {},
   "source": [
    "####  Southern Hemisphere - Max Temp vs. Latitude Linear Regression"
   ]
  },
  {
   "cell_type": "code",
   "execution_count": 73,
   "metadata": {
    "ExecuteTime": {
     "end_time": "2020-04-08T19:02:43.830438Z",
     "start_time": "2020-04-08T19:02:43.692722Z"
    },
    "scrolled": true
   },
   "outputs": [
    {
     "name": "stdout",
     "output_type": "stream",
     "text": [
      "The r-squared is: 0.6286098026860808\n"
     ]
    },
    {
     "data": {
      "image/png": "[encoded data removed]",
      "text/plain": [
       "<Figure size 432x288 with 1 Axes>"
      ]
     },
     "metadata": {
      "needs_background": "light"
     },
     "output_type": "display_data"
    }
   ],
   "source": [
    "linearregression(Southern_city_lat,Southern_city_temp,\"Latitude\", \"Cloudiness (%)\")"
   ]
  },
  {
   "cell_type": "code",
   "execution_count": 74,
   "metadata": {
    "ExecuteTime": {
     "end_time": "2020-04-08T19:02:44.160942Z",
     "start_time": "2020-04-08T19:02:44.159027Z"
    }
   },
   "outputs": [],
   "source": [
    "#After each pair of plots explain what the linear regression is modeling\n",
    "#such as any relationships you notice and any other analysis you may have."
   ]
  },
  {
   "cell_type": "markdown",
   "metadata": {},
   "source": [
    "####  Northern Hemisphere - Humidity (%) vs. Latitude Linear Regression"
   ]
  },
  {
   "cell_type": "code",
   "execution_count": 75,
   "metadata": {
    "ExecuteTime": {
     "end_time": "2020-04-08T19:02:44.718699Z",
     "start_time": "2020-04-08T19:02:44.583289Z"
    },
    "scrolled": true
   },
   "outputs": [
    {
     "name": "stdout",
     "output_type": "stream",
     "text": [
      "The r-squared is: 0.05902792853377713\n"
     ]
    },
    {
     "data": {
      "image/png": "[encoded data removed]",
      "text/plain": [
       "<Figure size 432x288 with 1 Axes>"
      ]
     },
     "metadata": {
      "needs_background": "light"
     },
     "output_type": "display_data"
    }
   ],
   "source": [
    "linearregression(Northern_city_lat,Northern_city_hum,\"Latitude\",\"Humidity (%)\")"
   ]
  },
  {
   "cell_type": "code",
   "execution_count": 76,
   "metadata": {
    "ExecuteTime": {
     "end_time": "2020-04-08T19:02:45.158363Z",
     "start_time": "2020-04-08T19:02:45.156371Z"
    }
   },
   "outputs": [],
   "source": [
    "#After each pair of plots explain what the linear regression is modeling\n",
    "#such as any relationships you notice and any other analysis you may have."
   ]
  },
  {
   "cell_type": "markdown",
   "metadata": {},
   "source": [
    "####  Southern Hemisphere - Humidity (%) vs. Latitude Linear Regression"
   ]
  },
  {
   "cell_type": "code",
   "execution_count": 77,
   "metadata": {
    "ExecuteTime": {
     "end_time": "2020-04-08T19:02:45.703978Z",
     "start_time": "2020-04-08T19:02:45.578485Z"
    },
    "scrolled": true
   },
   "outputs": [
    {
     "name": "stdout",
     "output_type": "stream",
     "text": [
      "The r-squared is: 0.025068940259273264\n"
     ]
    },
    {
     "data": {
      "image/png": "[encoded data removed]",
      "text/plain": [
       "<Figure size 432x288 with 1 Axes>"
      ]
     },
     "metadata": {
      "needs_background": "light"
     },
     "output_type": "display_data"
    }
   ],
   "source": [
    "linearregression(Southern_city_lat,Southern_city_hum,\"Latitude\",\"Humidity (%)\")"
   ]
  },
  {
   "cell_type": "code",
   "execution_count": 78,
   "metadata": {
    "ExecuteTime": {
     "end_time": "2020-04-08T19:02:45.809070Z",
     "start_time": "2020-04-08T19:02:45.807059Z"
    }
   },
   "outputs": [],
   "source": [
    "#After each pair of plots explain what the linear regression is modeling\n",
    "#such as any relationships you notice and any other analysis you may have."
   ]
  },
  {
   "cell_type": "markdown",
   "metadata": {},
   "source": [
    "####  Northern Hemisphere - Cloudiness (%) vs. Latitude Linear Regression"
   ]
  },
  {
   "cell_type": "code",
   "execution_count": 79,
   "metadata": {
    "ExecuteTime": {
     "end_time": "2020-04-08T19:02:46.908915Z",
     "start_time": "2020-04-08T19:02:46.773047Z"
    },
    "scrolled": true
   },
   "outputs": [
    {
     "name": "stdout",
     "output_type": "stream",
     "text": [
      "The r-squared is: 0.03462301117767197\n"
     ]
    },
    {
     "data": {
      "image/png": "[encoded data removed]",
      "text/plain": [
       "<Figure size 432x288 with 1 Axes>"
      ]
     },
     "metadata": {
      "needs_background": "light"
     },
     "output_type": "display_data"
    }
   ],
   "source": [
    "linearregression(Northern_city_lat,Northern_city_cloud,\"Latitude\",\"Cloudiness (%)\")"
   ]
  },
  {
   "cell_type": "code",
   "execution_count": 80,
   "metadata": {
    "ExecuteTime": {
     "end_time": "2020-04-08T19:02:46.973176Z",
     "start_time": "2020-04-08T19:02:46.971405Z"
    }
   },
   "outputs": [],
   "source": [
    "#After each pair of plots explain what the linear regression is modeling\n",
    "#such as any relationships you notice and any other analysis you may have."
   ]
  },
  {
   "cell_type": "markdown",
   "metadata": {},
   "source": [
    "####  Southern Hemisphere - Cloudiness (%) vs. Latitude Linear Regression"
   ]
  },
  {
   "cell_type": "code",
   "execution_count": 81,
   "metadata": {
    "ExecuteTime": {
     "end_time": "2020-04-08T19:02:47.491823Z",
     "start_time": "2020-04-08T19:02:47.362725Z"
    },
    "scrolled": true
   },
   "outputs": [
    {
     "name": "stdout",
     "output_type": "stream",
     "text": [
      "The r-squared is: 0.04912889574033264\n"
     ]
    },
    {
     "data": {
      "image/png": "[encoded data removed]",
      "text/plain": [
       "<Figure size 432x288 with 1 Axes>"
      ]
     },
     "metadata": {
      "needs_background": "light"
     },
     "output_type": "display_data"
    }
   ],
   "source": [
    "linearregression(Southern_city_lat,Southern_city_cloud,\"Latitude\",\"Cloudiness (%)\")"
   ]
  },
  {
   "cell_type": "code",
   "execution_count": 82,
   "metadata": {
    "ExecuteTime": {
     "end_time": "2020-04-08T19:02:47.554888Z",
     "start_time": "2020-04-08T19:02:47.553015Z"
    }
   },
   "outputs": [],
   "source": [
    "#After each pair of plots explain what the linear regression is modeling\n",
    "#such as any relationships you notice and any other analysis you may have."
   ]
  },
  {
   "cell_type": "markdown",
   "metadata": {},
   "source": [
    "####  Northern Hemisphere - Wind Speed (mph) vs. Latitude Linear Regression"
   ]
  },
  {
   "cell_type": "code",
   "execution_count": 83,
   "metadata": {
    "ExecuteTime": {
     "end_time": "2020-04-08T19:02:48.073964Z",
     "start_time": "2020-04-08T19:02:47.937459Z"
    },
    "scrolled": true
   },
   "outputs": [
    {
     "name": "stdout",
     "output_type": "stream",
     "text": [
      "The r-squared is: 0.04561421039520498\n"
     ]
    },
    {
     "data": {
      "image/png": "[encoded data removed]",
      "text/plain": [
       "<Figure size 432x288 with 1 Axes>"
      ]
     },
     "metadata": {
      "needs_background": "light"
     },
     "output_type": "display_data"
    }
   ],
   "source": [
    "linearregression(Northern_city_lat,Northern_city_wind,\"Latitude\",\"Wind Speed (MPH)\")"
   ]
  },
  {
   "cell_type": "code",
   "execution_count": 84,
   "metadata": {
    "ExecuteTime": {
     "end_time": "2020-04-08T19:02:48.143395Z",
     "start_time": "2020-04-08T19:02:48.141566Z"
    }
   },
   "outputs": [],
   "source": [
    "#After each pair of plots explain what the linear regression is modeling\n",
    "#such as any relationships you notice and any other analysis you may have."
   ]
  },
  {
   "cell_type": "markdown",
   "metadata": {},
   "source": [
    "####  Southern Hemisphere - Wind Speed (mph) vs. Latitude Linear Regression"
   ]
  },
  {
   "cell_type": "code",
   "execution_count": 85,
   "metadata": {
    "ExecuteTime": {
     "end_time": "2020-04-08T19:02:48.686675Z",
     "start_time": "2020-04-08T19:02:48.553365Z"
    },
    "scrolled": true
   },
   "outputs": [
    {
     "name": "stdout",
     "output_type": "stream",
     "text": [
      "The r-squared is: 0.05998719804714394\n"
     ]
    },
    {
     "data": {
      "image/png": "[encoded data removed]",
      "text/plain": [
       "<Figure size 432x288 with 1 Axes>"
      ]
     },
     "metadata": {
      "needs_background": "light"
     },
     "output_type": "display_data"
    }
   ],
   "source": [
    "linearregression(Southern_city_lat,Southern_city_wind,\"Latitude\",\"Wind Speed (MPH)\")"
   ]
  },
  {
   "cell_type": "code",
   "execution_count": 86,
   "metadata": {
    "ExecuteTime": {
     "end_time": "2020-04-08T19:02:48.742080Z",
     "start_time": "2020-04-08T19:02:48.740389Z"
    }
   },
   "outputs": [],
   "source": [
    "#After each pair of plots explain what the linear regression is modeling\n",
    "#such as any relationships you notice and any other analysis you may have."
   ]
  },
  {
   "cell_type": "code",
   "execution_count": null,
   "metadata": {},
   "outputs": [],
   "source": []
  },
  {
   "cell_type": "code",
   "execution_count": null,
   "metadata": {},
   "outputs": [],
   "source": []
  }
 ],
 "metadata": {
  "anaconda-cloud": {},
  "kernel_info": {
   "name": "python3"
  },
  "kernelspec": {
   "display_name": "Python 3",
   "language": "python",
   "name": "python3"
  },
  "language_info": {
   "codemirror_mode": {
    "name": "ipython",
    "version": 3
   },
   "file_extension": ".py",
   "mimetype": "text/x-python",
   "name": "python",
   "nbconvert_exporter": "python",
   "pygments_lexer": "ipython3",
   "version": "3.6.10"
  },
  "latex_envs": {
   "LaTeX_envs_menu_present": true,
   "autoclose": false,
   "autocomplete": true,
   "bibliofile": "biblio.bib",
   "cite_by": "apalike",
   "current_citInitial": 1,
   "eqLabelWithNumbers": true,
   "eqNumInitial": 1,
   "hotkeys": {
    "equation": "Ctrl-E",
    "itemize": "Ctrl-I"
   },
   "labels_anchors": false,
   "latex_user_defs": false,
   "report_style_numbering": false,
   "user_envs_cfg": false
  },
  "nteract": {
   "version": "0.12.3"
  }
 },
 "nbformat": 4,
 "nbformat_minor": 2
}
