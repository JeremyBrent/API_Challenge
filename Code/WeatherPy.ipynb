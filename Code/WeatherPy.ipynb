{
 "cells": [
  {
   "cell_type": "markdown",
   "metadata": {},
   "source": [
    "# WeatherPy\n",
    "----\n"
   ]
  },
  {
   "cell_type": "code",
   "execution_count": 1,
   "metadata": {
    "ExecuteTime": {
     "end_time": "2020-04-12T01:18:52.633812Z",
     "start_time": "2020-04-12T01:18:50.361428Z"
    },
    "scrolled": true
   },
   "outputs": [],
   "source": [
    "# Dependencies and Setup\n",
    "import matplotlib.pyplot as plt\n",
    "import pandas as pd\n",
    "import numpy as np\n",
    "import requests\n",
    "import time\n",
    "from scipy.stats import linregress\n",
    "import os \n",
    "\n",
    "# Import API key\n",
    "from api_keys import weather_api_key\n",
    "\n",
    "# Incorporated citipy to determine city based on latitude and longitude\n",
    "from citipy import citipy\n",
    "\n",
    "# Output File (CSV)\n",
    "output_file = os.path.join(\"..\",\"output\",\"cities.csv\")\n",
    "\n",
    "# Range of latitudes and longitudes\n",
    "lat_range = (-90, 90)\n",
    "lng_range = (-180, 180)\n"
   ]
  },
  {
   "cell_type": "markdown",
   "metadata": {},
   "source": [
    "## Generate Cities List"
   ]
  },
  {
   "cell_type": "code",
   "execution_count": 2,
   "metadata": {
    "ExecuteTime": {
     "end_time": "2020-04-12T01:18:53.525724Z",
     "start_time": "2020-04-12T01:18:52.635633Z"
    }
   },
   "outputs": [
    {
     "data": {
      "text/plain": [
       "635"
      ]
     },
     "execution_count": 2,
     "metadata": {},
     "output_type": "execute_result"
    }
   ],
   "source": [
    "# List for holding lat_lngs and cities\n",
    "lat_lngs = []\n",
    "cities = []\n",
    "\n",
    "\n",
    "\n",
    "# Create a set of random lat and lng combinations\n",
    "lats = np.random.uniform(low=-90.000, high=90.000, size=1500)\n",
    "lngs = np.random.uniform(low=-180.000, high=180.000, size=1500)\n",
    "lat_lngs = zip(lats, lngs)\n",
    "\n",
    "# Identify nearest city for each lat, lng combination\n",
    "for lat_lng in lat_lngs:\n",
    "    city = citipy.nearest_city(lat_lng[0], lat_lng[1]).city_name\n",
    "    \n",
    "    # If the city is unique, then add it to a our cities list\n",
    "    if city not in cities:\n",
    "        cities.append(city)\n",
    "\n",
    "# Print the city count to confirm sufficient count\n",
    "len(cities)\n"
   ]
  },
  {
   "cell_type": "markdown",
   "metadata": {},
   "source": [
    "###  API Calls\n",
    "\n"
   ]
  },
  {
   "cell_type": "code",
   "execution_count": 4,
   "metadata": {
    "ExecuteTime": {
     "end_time": "2020-04-12T01:18:53.534635Z",
     "start_time": "2020-04-12T01:18:53.532008Z"
    }
   },
   "outputs": [],
   "source": [
    "# Save config information.\n",
    "url = \"http://api.openweathermap.org/data/2.5/weather?\"\n",
    "units = \"imperial\"\n",
    "\n",
    "# Build partial query URL\n",
    "query_url = f\"{url}appid={weather_api_key}&units={units}&q=\""
   ]
  },
  {
   "cell_type": "code",
   "execution_count": 5,
   "metadata": {
    "ExecuteTime": {
     "end_time": "2020-04-12T01:21:29.660051Z",
     "start_time": "2020-04-12T01:18:53.536145Z"
    }
   },
   "outputs": [
    {
     "name": "stdout",
     "output_type": "stream",
     "text": [
      "Processing Record 1 of Set 1 | avarua\n",
      "Processing Record 2 of Set 1 | hasaki\n",
      "Processing Record 3 of Set 1 | puerto ayora\n",
      "Processing Record 4 of Set 1 | kangaba\n",
      "Processing Record 5 of Set 1 | kalat\n",
      "This city does not exist\n",
      "Processing Record 7 of Set 1 | punta arenas\n",
      "Processing Record 8 of Set 1 | rikitea\n",
      "Processing Record 9 of Set 1 | vostok\n",
      "Processing Record 10 of Set 1 | chernenko\n",
      "Processing Record 11 of Set 1 | sidi ali\n",
      "Processing Record 12 of Set 1 | ushuaia\n",
      "Processing Record 13 of Set 1 | lazarev\n",
      "Processing Record 14 of Set 1 | det udom\n",
      "Processing Record 15 of Set 1 | atuona\n",
      "Processing Record 16 of Set 1 | baker city\n",
      "Processing Record 17 of Set 1 | castro\n",
      "Processing Record 18 of Set 1 | coldingham\n",
      "Processing Record 19 of Set 1 | pinawa\n",
      "Processing Record 20 of Set 1 | cape town\n",
      "This city does not exist\n",
      "Processing Record 22 of Set 1 | kortkeros\n",
      "Processing Record 23 of Set 1 | kapaa\n",
      "Processing Record 24 of Set 1 | bengkulu\n",
      "Processing Record 25 of Set 1 | luderitz\n",
      "Processing Record 26 of Set 1 | sao filipe\n",
      "Processing Record 27 of Set 1 | busselton\n",
      "Processing Record 28 of Set 1 | sitka\n",
      "Processing Record 29 of Set 1 | altamont\n",
      "Processing Record 30 of Set 1 | hobart\n",
      "Processing Record 31 of Set 1 | nyurba\n",
      "This city does not exist\n",
      "Processing Record 33 of Set 1 | salalah\n",
      "Processing Record 34 of Set 1 | bellmead\n",
      "Processing Record 35 of Set 1 | albany\n",
      "Processing Record 36 of Set 1 | egvekinot\n",
      "Processing Record 37 of Set 1 | sao jose da coroa grande\n",
      "Processing Record 38 of Set 1 | tuktoyaktuk\n",
      "Processing Record 39 of Set 1 | haines junction\n",
      "Processing Record 40 of Set 1 | camopi\n",
      "Processing Record 41 of Set 1 | trincomalee\n",
      "Processing Record 42 of Set 1 | corner brook\n",
      "Processing Record 43 of Set 1 | san policarpo\n",
      "Processing Record 44 of Set 1 | leningradskiy\n",
      "Processing Record 45 of Set 1 | new norfolk\n",
      "Processing Record 46 of Set 1 | kodiak\n",
      "Processing Record 47 of Set 1 | hilo\n",
      "Processing Record 48 of Set 1 | nokaneng\n",
      "Processing Record 49 of Set 1 | lebu\n",
      "Processing Record 50 of Set 1 | atar\n",
      "The program paused for 10 seconds\n",
      "Processing Record 1 of Set 2 | chuy\n",
      "Processing Record 2 of Set 2 | bluff\n",
      "Processing Record 3 of Set 2 | jamestown\n",
      "Processing Record 4 of Set 2 | banda aceh\n",
      "Processing Record 5 of Set 2 | ponta do sol\n",
      "This city does not exist\n",
      "Processing Record 7 of Set 2 | vaini\n",
      "Processing Record 8 of Set 2 | bredasdorp\n",
      "Processing Record 9 of Set 2 | provideniya\n",
      "Processing Record 10 of Set 2 | hargeysa\n",
      "Processing Record 11 of Set 2 | dingle\n",
      "Processing Record 12 of Set 2 | tungor\n",
      "Processing Record 13 of Set 2 | ciudad bolivar\n",
      "Processing Record 14 of Set 2 | svetlyy\n",
      "Processing Record 15 of Set 2 | vila velha\n",
      "Processing Record 16 of Set 2 | norman wells\n",
      "Processing Record 17 of Set 2 | hambantota\n",
      "Processing Record 18 of Set 2 | lata\n",
      "Processing Record 19 of Set 2 | east london\n",
      "Processing Record 20 of Set 2 | el campo\n",
      "Processing Record 21 of Set 2 | plettenberg bay\n",
      "Processing Record 22 of Set 2 | mahebourg\n",
      "Processing Record 23 of Set 2 | nikolskoye\n",
      "Processing Record 24 of Set 2 | port blair\n",
      "Processing Record 25 of Set 2 | ambilobe\n",
      "Processing Record 26 of Set 2 | cabo san lucas\n",
      "Processing Record 27 of Set 2 | georgetown\n",
      "Processing Record 28 of Set 2 | tasiilaq\n",
      "Processing Record 29 of Set 2 | dawei\n",
      "Processing Record 30 of Set 2 | souillac\n",
      "Processing Record 31 of Set 2 | nouadhibou\n",
      "Processing Record 32 of Set 2 | shebalino\n",
      "Processing Record 33 of Set 2 | wanning\n",
      "Processing Record 34 of Set 2 | umm lajj\n",
      "Processing Record 35 of Set 2 | banjar\n",
      "This city does not exist\n",
      "Processing Record 37 of Set 2 | qaanaaq\n",
      "Processing Record 38 of Set 2 | tezu\n",
      "This city does not exist\n",
      "Processing Record 40 of Set 2 | hermanus\n",
      "Processing Record 41 of Set 2 | waddan\n",
      "Processing Record 42 of Set 2 | saint-philippe\n",
      "Processing Record 43 of Set 2 | shashi\n",
      "Processing Record 44 of Set 2 | point pedro\n",
      "Processing Record 45 of Set 2 | barcelos\n",
      "Processing Record 46 of Set 2 | mataura\n",
      "Processing Record 47 of Set 2 | alekseyevsk\n",
      "Processing Record 48 of Set 2 | port alfred\n",
      "This city does not exist\n",
      "Processing Record 50 of Set 2 | sobradinho\n",
      "The program paused for 10 seconds\n",
      "Processing Record 1 of Set 3 | granard\n",
      "Processing Record 2 of Set 3 | iberia\n",
      "Processing Record 3 of Set 3 | les cayes\n",
      "Processing Record 4 of Set 3 | ndjole\n",
      "Processing Record 5 of Set 3 | altamira\n",
      "Processing Record 6 of Set 3 | bulgan\n",
      "Processing Record 7 of Set 3 | kibala\n",
      "Processing Record 8 of Set 3 | bogovarovo\n",
      "Processing Record 9 of Set 3 | yumen\n",
      "Processing Record 10 of Set 3 | smoky lake\n",
      "Processing Record 11 of Set 3 | angoche\n",
      "Processing Record 12 of Set 3 | qaqortoq\n",
      "Processing Record 13 of Set 3 | hami\n",
      "Processing Record 14 of Set 3 | kungurtug\n",
      "Processing Record 15 of Set 3 | meulaboh\n",
      "Processing Record 16 of Set 3 | wagar\n",
      "Processing Record 17 of Set 3 | tiksi\n",
      "Processing Record 18 of Set 3 | saskylakh\n",
      "Processing Record 19 of Set 3 | te anau\n",
      "Processing Record 20 of Set 3 | ilulissat\n",
      "Processing Record 21 of Set 3 | hithadhoo\n",
      "Processing Record 22 of Set 3 | praia\n",
      "Processing Record 23 of Set 3 | hamilton\n",
      "Processing Record 24 of Set 3 | khunti\n",
      "Processing Record 25 of Set 3 | mar del plata\n",
      "Processing Record 26 of Set 3 | belgaum\n",
      "Processing Record 27 of Set 3 | bambous virieux\n",
      "Processing Record 28 of Set 3 | nhulunbuy\n",
      "Processing Record 29 of Set 3 | cayenne\n",
      "Processing Record 30 of Set 3 | bartow\n",
      "Processing Record 31 of Set 3 | zapolyarnyy\n",
      "Processing Record 32 of Set 3 | nagato\n",
      "Processing Record 33 of Set 3 | san andres\n",
      "Processing Record 34 of Set 3 | arraial do cabo\n",
      "Processing Record 35 of Set 3 | geraldton\n",
      "Processing Record 36 of Set 3 | cap malheureux\n",
      "Processing Record 37 of Set 3 | butaritari\n",
      "This city does not exist\n",
      "Processing Record 39 of Set 3 | san patricio\n",
      "Processing Record 40 of Set 3 | zeerust\n",
      "Processing Record 41 of Set 3 | gilbues\n",
      "Processing Record 42 of Set 3 | sioux lookout\n",
      "Processing Record 43 of Set 3 | constitucion\n",
      "Processing Record 44 of Set 3 | stoholm\n",
      "This city does not exist\n",
      "Processing Record 46 of Set 3 | tuatapere\n",
      "Processing Record 47 of Set 3 | torbay\n",
      "This city does not exist\n",
      "Processing Record 49 of Set 3 | marsa matruh\n",
      "Processing Record 50 of Set 3 | inuvik\n",
      "The program paused for 10 seconds\n",
      "Processing Record 1 of Set 4 | bonfim\n",
      "Processing Record 2 of Set 4 | kjollefjord\n",
      "Processing Record 3 of Set 4 | ixtapa\n",
      "Processing Record 4 of Set 4 | nome\n",
      "Processing Record 5 of Set 4 | aginskoye\n",
      "This city does not exist\n",
      "Processing Record 7 of Set 4 | dandeli\n",
      "This city does not exist\n",
      "This city does not exist\n",
      "Processing Record 10 of Set 4 | talara\n",
      "This city does not exist\n",
      "This city does not exist\n",
      "Processing Record 13 of Set 4 | mercedes\n",
      "Processing Record 14 of Set 4 | thompson\n",
      "Processing Record 15 of Set 4 | windsor locks\n",
      "Processing Record 16 of Set 4 | kargalinskaya\n",
      "Processing Record 17 of Set 4 | faanui\n",
      "This city does not exist\n",
      "Processing Record 19 of Set 4 | vila franca do campo\n",
      "Processing Record 20 of Set 4 | komsomolskiy\n",
      "Processing Record 21 of Set 4 | rocky mountain house\n",
      "This city does not exist\n",
      "Processing Record 23 of Set 4 | khatanga\n",
      "Processing Record 24 of Set 4 | salani\n",
      "Processing Record 25 of Set 4 | tura\n",
      "Processing Record 26 of Set 4 | petropavlovsk-kamchatskiy\n",
      "Processing Record 27 of Set 4 | xingyi\n",
      "Processing Record 28 of Set 4 | linhares\n",
      "Processing Record 29 of Set 4 | leh\n",
      "Processing Record 30 of Set 4 | miracema do tocantins\n",
      "Processing Record 31 of Set 4 | berdigestyakh\n",
      "This city does not exist\n",
      "Processing Record 33 of Set 4 | taitung\n",
      "Processing Record 34 of Set 4 | yeniseysk\n",
      "Processing Record 35 of Set 4 | barrow\n",
      "Processing Record 36 of Set 4 | clyde river\n",
      "Processing Record 37 of Set 4 | helong\n",
      "Processing Record 38 of Set 4 | ahipara\n",
      "Processing Record 39 of Set 4 | tumba\n",
      "Processing Record 40 of Set 4 | ribeira grande\n",
      "Processing Record 41 of Set 4 | karratha\n",
      "Processing Record 42 of Set 4 | fortuna\n",
      "Processing Record 43 of Set 4 | iqaluit\n",
      "This city does not exist\n",
      "Processing Record 45 of Set 4 | camargo\n",
      "Processing Record 46 of Set 4 | port macquarie\n",
      "Processing Record 47 of Set 4 | harrison\n",
      "Processing Record 48 of Set 4 | eldoret\n",
      "Processing Record 49 of Set 4 | kabanjahe\n",
      "Processing Record 50 of Set 4 | katsuura\n",
      "The program paused for 10 seconds\n",
      "Processing Record 1 of Set 5 | nobres\n",
      "Processing Record 2 of Set 5 | alekseyevka\n",
      "Processing Record 3 of Set 5 | buzmeyin\n"
     ]
    },
    {
     "name": "stdout",
     "output_type": "stream",
     "text": [
      "This city does not exist\n",
      "This city does not exist\n",
      "Processing Record 6 of Set 5 | cogon\n",
      "This city does not exist\n",
      "Processing Record 8 of Set 5 | keti bandar\n",
      "Processing Record 9 of Set 5 | harwich\n",
      "Processing Record 10 of Set 5 | sibu\n",
      "This city does not exist\n",
      "Processing Record 12 of Set 5 | grand gaube\n",
      "Processing Record 13 of Set 5 | omsukchan\n",
      "Processing Record 14 of Set 5 | bekobod\n",
      "Processing Record 15 of Set 5 | slave lake\n",
      "Processing Record 16 of Set 5 | russell\n",
      "Processing Record 17 of Set 5 | gizo\n",
      "Processing Record 18 of Set 5 | poli\n",
      "Processing Record 19 of Set 5 | tevaitoa\n",
      "Processing Record 20 of Set 5 | carbonia\n",
      "Processing Record 21 of Set 5 | chake chake\n",
      "Processing Record 22 of Set 5 | saint george\n",
      "Processing Record 23 of Set 5 | makakilo city\n",
      "Processing Record 24 of Set 5 | kontagora\n",
      "Processing Record 25 of Set 5 | nanortalik\n",
      "Processing Record 26 of Set 5 | wenling\n",
      "Processing Record 27 of Set 5 | severo-kurilsk\n",
      "Processing Record 28 of Set 5 | riberalta\n",
      "Processing Record 29 of Set 5 | kirakira\n",
      "Processing Record 30 of Set 5 | uthal\n",
      "Processing Record 31 of Set 5 | seoul\n",
      "Processing Record 32 of Set 5 | coihaique\n",
      "Processing Record 33 of Set 5 | lyubinskiy\n",
      "Processing Record 34 of Set 5 | kysyl-syr\n",
      "Processing Record 35 of Set 5 | bethel\n",
      "Processing Record 36 of Set 5 | carnarvon\n",
      "Processing Record 37 of Set 5 | santa cruz de tenerife\n",
      "Processing Record 38 of Set 5 | pisco\n",
      "Processing Record 39 of Set 5 | sambava\n",
      "Processing Record 40 of Set 5 | kavieng\n",
      "Processing Record 41 of Set 5 | cidreira\n",
      "Processing Record 42 of Set 5 | klaksvik\n",
      "Processing Record 43 of Set 5 | loandjili\n",
      "Processing Record 44 of Set 5 | pangnirtung\n",
      "Processing Record 45 of Set 5 | ivanava\n",
      "Processing Record 46 of Set 5 | thinadhoo\n",
      "This city does not exist\n",
      "Processing Record 48 of Set 5 | xunchang\n",
      "Processing Record 49 of Set 5 | simao\n",
      "Processing Record 50 of Set 5 | mykolayiv\n",
      "The program paused for 10 seconds\n",
      "Processing Record 1 of Set 6 | vanavara\n",
      "Processing Record 2 of Set 6 | axim\n",
      "This city does not exist\n",
      "Processing Record 4 of Set 6 | markova\n",
      "Processing Record 5 of Set 6 | hovd\n",
      "Processing Record 6 of Set 6 | presidencia roque saenz pena\n",
      "Processing Record 7 of Set 6 | el dorado\n",
      "Processing Record 8 of Set 6 | siloam springs\n",
      "Processing Record 9 of Set 6 | mandapam\n",
      "Processing Record 10 of Set 6 | kaitangata\n",
      "Processing Record 11 of Set 6 | yellowknife\n",
      "Processing Record 12 of Set 6 | shu\n",
      "Processing Record 13 of Set 6 | rio grande\n",
      "Processing Record 14 of Set 6 | shihezi\n",
      "Processing Record 15 of Set 6 | bodden town\n",
      "Processing Record 16 of Set 6 | ostrovnoy\n",
      "Processing Record 17 of Set 6 | dikson\n",
      "This city does not exist\n",
      "Processing Record 19 of Set 6 | isangel\n",
      "Processing Record 20 of Set 6 | dzaoudzi\n",
      "Processing Record 21 of Set 6 | shubarshi\n",
      "Processing Record 22 of Set 6 | santa cruz\n",
      "Processing Record 23 of Set 6 | muzhi\n",
      "Processing Record 24 of Set 6 | kidal\n",
      "Processing Record 25 of Set 6 | comodoro rivadavia\n",
      "Processing Record 26 of Set 6 | upernavik\n",
      "Processing Record 27 of Set 6 | port augusta\n",
      "Processing Record 28 of Set 6 | liyang\n",
      "Processing Record 29 of Set 6 | mossendjo\n",
      "Processing Record 30 of Set 6 | biak\n",
      "Processing Record 31 of Set 6 | ancud\n",
      "Processing Record 32 of Set 6 | santiago del estero\n",
      "Processing Record 33 of Set 6 | flower mound\n",
      "Processing Record 34 of Set 6 | raudeberg\n",
      "Processing Record 35 of Set 6 | aksarka\n",
      "Processing Record 36 of Set 6 | mazara del vallo\n",
      "Processing Record 37 of Set 6 | baruun-urt\n",
      "Processing Record 38 of Set 6 | aklavik\n",
      "Processing Record 39 of Set 6 | black river\n",
      "Processing Record 40 of Set 6 | kahului\n",
      "Processing Record 41 of Set 6 | myanaung\n",
      "Processing Record 42 of Set 6 | solnechnyy\n",
      "This city does not exist\n",
      "Processing Record 44 of Set 6 | karera\n",
      "Processing Record 45 of Set 6 | majene\n",
      "This city does not exist\n",
      "Processing Record 47 of Set 6 | ornskoldsvik\n",
      "Processing Record 48 of Set 6 | flin flon\n",
      "Processing Record 49 of Set 6 | ormara\n",
      "Processing Record 50 of Set 6 | cherskiy\n",
      "The program paused for 10 seconds\n",
      "Processing Record 1 of Set 7 | oriximina\n",
      "Processing Record 2 of Set 7 | kargasok\n",
      "Processing Record 3 of Set 7 | coahuayana\n",
      "Processing Record 4 of Set 7 | khovu-aksy\n",
      "Processing Record 5 of Set 7 | kautokeino\n",
      "Processing Record 6 of Set 7 | port lincoln\n",
      "Processing Record 7 of Set 7 | san quintin\n",
      "Processing Record 8 of Set 7 | quelimane\n",
      "Processing Record 9 of Set 7 | belmonte\n",
      "Processing Record 10 of Set 7 | balad\n",
      "Processing Record 11 of Set 7 | suez\n",
      "Processing Record 12 of Set 7 | simbahan\n",
      "Processing Record 13 of Set 7 | narsaq\n",
      "Processing Record 14 of Set 7 | jablanica\n",
      "Processing Record 15 of Set 7 | chokurdakh\n",
      "Processing Record 16 of Set 7 | kiunga\n",
      "Processing Record 17 of Set 7 | puerto colombia\n",
      "Processing Record 18 of Set 7 | esperance\n",
      "Processing Record 19 of Set 7 | nemuro\n",
      "Processing Record 20 of Set 7 | mount isa\n",
      "Processing Record 21 of Set 7 | puerto escondido\n",
      "Processing Record 22 of Set 7 | ca mau\n",
      "Processing Record 23 of Set 7 | tubajon\n",
      "Processing Record 24 of Set 7 | burns lake\n",
      "Processing Record 25 of Set 7 | arlit\n",
      "Processing Record 26 of Set 7 | caldwell\n",
      "Processing Record 27 of Set 7 | menongue\n",
      "Processing Record 28 of Set 7 | kanakapura\n",
      "Processing Record 29 of Set 7 | shizilu\n",
      "Processing Record 30 of Set 7 | college\n",
      "Processing Record 31 of Set 7 | peterhead\n",
      "Processing Record 32 of Set 7 | faya\n",
      "Processing Record 33 of Set 7 | great yarmouth\n",
      "Processing Record 34 of Set 7 | bela\n",
      "Processing Record 35 of Set 7 | sicamous\n",
      "Processing Record 36 of Set 7 | sabang\n",
      "Processing Record 37 of Set 7 | lucapa\n",
      "Processing Record 38 of Set 7 | greer\n",
      "This city does not exist\n",
      "Processing Record 40 of Set 7 | tevriz\n",
      "Processing Record 41 of Set 7 | dombas\n",
      "Processing Record 42 of Set 7 | mulatupo\n",
      "Processing Record 43 of Set 7 | medea\n",
      "Processing Record 44 of Set 7 | longyearbyen\n",
      "Processing Record 45 of Set 7 | hofn\n",
      "Processing Record 46 of Set 7 | fukue\n",
      "Processing Record 47 of Set 7 | massakory\n",
      "Processing Record 48 of Set 7 | toora-khem\n",
      "Processing Record 49 of Set 7 | ayacucho\n",
      "Processing Record 50 of Set 7 | mulbagal\n",
      "The program paused for 10 seconds\n",
      "Processing Record 1 of Set 8 | husavik\n",
      "Processing Record 2 of Set 8 | santa rosa\n",
      "Processing Record 3 of Set 8 | hobyo\n",
      "Processing Record 4 of Set 8 | horstel\n",
      "Processing Record 5 of Set 8 | samarai\n",
      "Processing Record 6 of Set 8 | muros\n",
      "Processing Record 7 of Set 8 | praia da vitoria\n",
      "Processing Record 8 of Set 8 | kruisfontein\n",
      "Processing Record 9 of Set 8 | san julian\n",
      "This city does not exist\n",
      "Processing Record 11 of Set 8 | salekhard\n",
      "Processing Record 12 of Set 8 | powell river\n",
      "Processing Record 13 of Set 8 | reconquista\n",
      "Processing Record 14 of Set 8 | gornopravdinsk\n",
      "Processing Record 15 of Set 8 | zehdenick\n",
      "Processing Record 16 of Set 8 | hay river\n",
      "Processing Record 17 of Set 8 | tazovskiy\n",
      "Processing Record 18 of Set 8 | balabac\n",
      "Processing Record 19 of Set 8 | sinnamary\n",
      "Processing Record 20 of Set 8 | santarem\n",
      "Processing Record 21 of Set 8 | codrington\n",
      "This city does not exist\n",
      "Processing Record 23 of Set 8 | lakes entrance\n",
      "Processing Record 24 of Set 8 | pati\n",
      "Processing Record 25 of Set 8 | sur\n",
      "Processing Record 26 of Set 8 | vanimo\n",
      "Processing Record 27 of Set 8 | palmer\n",
      "Processing Record 28 of Set 8 | sola\n",
      "Processing Record 29 of Set 8 | namatanai\n",
      "Processing Record 30 of Set 8 | botro\n",
      "Processing Record 31 of Set 8 | itaituba\n",
      "Processing Record 32 of Set 8 | lavrentiya\n",
      "Processing Record 33 of Set 8 | san nicolas\n",
      "Processing Record 34 of Set 8 | bubaque\n",
      "Processing Record 35 of Set 8 | sept-iles\n",
      "Processing Record 36 of Set 8 | san cristobal\n",
      "Processing Record 37 of Set 8 | victoria\n",
      "Processing Record 38 of Set 8 | udachnyy\n",
      "Processing Record 39 of Set 8 | rudsar\n",
      "Processing Record 40 of Set 8 | edd\n",
      "Processing Record 41 of Set 8 | doha\n",
      "Processing Record 42 of Set 8 | awbari\n",
      "Processing Record 43 of Set 8 | maralal\n",
      "This city does not exist\n",
      "Processing Record 45 of Set 8 | ravar\n",
      "Processing Record 46 of Set 8 | ciudad real\n",
      "Processing Record 47 of Set 8 | tanout\n",
      "Processing Record 48 of Set 8 | sala consilina\n",
      "Processing Record 49 of Set 8 | la ronge\n",
      "Processing Record 50 of Set 8 | hede\n",
      "The program paused for 10 seconds\n",
      "Processing Record 1 of Set 9 | antalaha\n",
      "Processing Record 2 of Set 9 | sao joao da barra\n",
      "Processing Record 3 of Set 9 | xichang\n",
      "Processing Record 4 of Set 9 | lompoc\n",
      "Processing Record 5 of Set 9 | kiama\n",
      "Processing Record 6 of Set 9 | shelburne\n",
      "Processing Record 7 of Set 9 | tilichiki\n",
      "Processing Record 8 of Set 9 | barentu\n"
     ]
    },
    {
     "name": "stdout",
     "output_type": "stream",
     "text": [
      "Processing Record 9 of Set 9 | sangar\n",
      "This city does not exist\n",
      "Processing Record 11 of Set 9 | lorengau\n",
      "Processing Record 12 of Set 9 | media luna\n",
      "Processing Record 13 of Set 9 | adre\n",
      "Processing Record 14 of Set 9 | snasa\n",
      "Processing Record 15 of Set 9 | flinders\n",
      "Processing Record 16 of Set 9 | balikpapan\n",
      "Processing Record 17 of Set 9 | padang\n",
      "Processing Record 18 of Set 9 | san jose de ocoa\n",
      "Processing Record 19 of Set 9 | avera\n",
      "Processing Record 20 of Set 9 | kigoma\n",
      "Processing Record 21 of Set 9 | chapais\n",
      "Processing Record 22 of Set 9 | pacora\n",
      "Processing Record 23 of Set 9 | pyay\n",
      "Processing Record 24 of Set 9 | asfi\n",
      "Processing Record 25 of Set 9 | saldanha\n",
      "Processing Record 26 of Set 9 | bonthe\n",
      "Processing Record 27 of Set 9 | marsh harbour\n",
      "Processing Record 28 of Set 9 | broken hill\n",
      "Processing Record 29 of Set 9 | bakel\n",
      "This city does not exist\n",
      "Processing Record 31 of Set 9 | midland\n",
      "Processing Record 32 of Set 9 | miraflores\n",
      "Processing Record 33 of Set 9 | araguacu\n",
      "Processing Record 34 of Set 9 | telma\n",
      "Processing Record 35 of Set 9 | bilokurakyne\n",
      "Processing Record 36 of Set 9 | talnakh\n",
      "This city does not exist\n",
      "Processing Record 38 of Set 9 | rafai\n",
      "Processing Record 39 of Set 9 | verkhnevilyuysk\n",
      "This city does not exist\n",
      "Processing Record 41 of Set 9 | airai\n",
      "Processing Record 42 of Set 9 | monticello\n",
      "Processing Record 43 of Set 9 | savinka\n",
      "Processing Record 44 of Set 9 | mantua\n",
      "Processing Record 45 of Set 9 | waipawa\n",
      "Processing Record 46 of Set 9 | celestun\n",
      "Processing Record 47 of Set 9 | viedma\n",
      "Processing Record 48 of Set 9 | ati\n",
      "Processing Record 49 of Set 9 | maningrida\n",
      "Processing Record 50 of Set 9 | lagoa\n",
      "The program paused for 10 seconds\n",
      "Processing Record 1 of Set 10 | susanville\n",
      "Processing Record 2 of Set 10 | pallasovka\n",
      "Processing Record 3 of Set 10 | port elizabeth\n",
      "Processing Record 4 of Set 10 | quatre cocos\n",
      "Processing Record 5 of Set 10 | jashpurnagar\n",
      "Processing Record 6 of Set 10 | shakawe\n",
      "Processing Record 7 of Set 10 | luorong\n",
      "Processing Record 8 of Set 10 | chornukhy\n",
      "Processing Record 9 of Set 10 | kholodnyy\n",
      "Processing Record 10 of Set 10 | garowe\n",
      "Processing Record 11 of Set 10 | buraydah\n",
      "This city does not exist\n",
      "Processing Record 13 of Set 10 | porto novo\n",
      "Processing Record 14 of Set 10 | pagouria\n",
      "Processing Record 15 of Set 10 | ogaminana\n",
      "Processing Record 16 of Set 10 | izalco\n",
      "Processing Record 17 of Set 10 | jumla\n",
      "Processing Record 18 of Set 10 | mandleshwar\n",
      "Processing Record 19 of Set 10 | amazar\n",
      "This city does not exist\n",
      "Processing Record 21 of Set 10 | kodinar\n",
      "This city does not exist\n",
      "Processing Record 23 of Set 10 | tignere\n",
      "Processing Record 24 of Set 10 | rundu\n",
      "Processing Record 25 of Set 10 | jutai\n",
      "Processing Record 26 of Set 10 | kologriv\n",
      "Processing Record 27 of Set 10 | araouane\n",
      "Processing Record 28 of Set 10 | goderich\n",
      "Processing Record 29 of Set 10 | soledade\n",
      "Processing Record 30 of Set 10 | batagay\n",
      "Processing Record 31 of Set 10 | kashary\n",
      "Processing Record 32 of Set 10 | mashhad\n",
      "Processing Record 33 of Set 10 | kumbo\n",
      "Processing Record 34 of Set 10 | kemijarvi\n",
      "Processing Record 35 of Set 10 | cap-aux-meules\n",
      "Processing Record 36 of Set 10 | arman\n",
      "Processing Record 37 of Set 10 | sibolga\n",
      "Processing Record 38 of Set 10 | riyadh\n",
      "Processing Record 39 of Set 10 | uvinza\n",
      "Processing Record 40 of Set 10 | saint anthony\n",
      "This city does not exist\n",
      "Processing Record 42 of Set 10 | berea\n",
      "Processing Record 43 of Set 10 | luangwa\n",
      "Processing Record 44 of Set 10 | pauini\n",
      "Processing Record 45 of Set 10 | shache\n",
      "Processing Record 46 of Set 10 | asau\n",
      "Processing Record 47 of Set 10 | maple creek\n",
      "Processing Record 48 of Set 10 | sigli\n",
      "Processing Record 49 of Set 10 | inhambane\n",
      "Processing Record 50 of Set 10 | rincon\n",
      "The program paused for 10 seconds\n",
      "Processing Record 1 of Set 11 | florham park\n",
      "Processing Record 2 of Set 11 | srednekolymsk\n",
      "Processing Record 3 of Set 11 | tautira\n",
      "Processing Record 4 of Set 11 | tiarei\n",
      "Processing Record 5 of Set 11 | buchanan\n",
      "Processing Record 6 of Set 11 | havre-saint-pierre\n",
      "Processing Record 7 of Set 11 | amahai\n",
      "This city does not exist\n",
      "This city does not exist\n",
      "Processing Record 10 of Set 11 | anaconda\n",
      "Processing Record 11 of Set 11 | bow island\n",
      "Processing Record 12 of Set 11 | bathsheba\n",
      "Processing Record 13 of Set 11 | bontang\n",
      "Processing Record 14 of Set 11 | kuching\n",
      "Processing Record 15 of Set 11 | yazykovo\n",
      "Processing Record 16 of Set 11 | nishihara\n",
      "Processing Record 17 of Set 11 | lakeway\n",
      "Processing Record 18 of Set 11 | matara\n",
      "Processing Record 19 of Set 11 | larreynaga\n",
      "Processing Record 20 of Set 11 | camacupa\n",
      "Processing Record 21 of Set 11 | kolo\n",
      "Processing Record 22 of Set 11 | zhigansk\n",
      "Processing Record 23 of Set 11 | khrebtovaya\n",
      "Processing Record 24 of Set 11 | sorland\n",
      "Processing Record 25 of Set 11 | chicomuselo\n",
      "Processing Record 26 of Set 11 | coquimbo\n",
      "Processing Record 27 of Set 11 | wonthaggi\n",
      "Processing Record 28 of Set 11 | kulhudhuffushi\n",
      "Processing Record 29 of Set 11 | mvangue\n",
      "Processing Record 30 of Set 11 | shar\n",
      "Processing Record 31 of Set 11 | uruzgan\n",
      "Processing Record 32 of Set 11 | drayton valley\n",
      "Processing Record 33 of Set 11 | mago\n",
      "Processing Record 34 of Set 11 | luanda\n",
      "Processing Record 35 of Set 11 | benghazi\n",
      "Processing Record 36 of Set 11 | oistins\n",
      "Processing Record 37 of Set 11 | jiblah\n",
      "Processing Record 38 of Set 11 | taltal\n",
      "Processing Record 39 of Set 11 | blackwater\n",
      "Processing Record 40 of Set 11 | jilib\n",
      "Processing Record 41 of Set 11 | whyalla\n",
      "Processing Record 42 of Set 11 | sisimiut\n",
      "Processing Record 43 of Set 11 | preston\n",
      "Processing Record 44 of Set 11 | luis correia\n",
      "Processing Record 45 of Set 11 | botad\n",
      "Processing Record 46 of Set 11 | strezhevoy\n",
      "Processing Record 47 of Set 11 | tabuk\n",
      "Processing Record 48 of Set 11 | shimanovsk\n",
      "Processing Record 49 of Set 11 | mont-dore\n",
      "Processing Record 50 of Set 11 | san javier\n",
      "The program paused for 10 seconds\n",
      "Processing Record 1 of Set 12 | broome\n",
      "Processing Record 2 of Set 12 | mazagao\n",
      "Processing Record 3 of Set 12 | bandarbeyla\n",
      "Processing Record 4 of Set 12 | mogocha\n",
      "Processing Record 5 of Set 12 | taubate\n",
      "Processing Record 6 of Set 12 | beachwood\n",
      "Processing Record 7 of Set 12 | poum\n",
      "Processing Record 8 of Set 12 | teya\n",
      "Processing Record 9 of Set 12 | los llanos de aridane\n",
      "Processing Record 10 of Set 12 | opuwo\n",
      "Processing Record 11 of Set 12 | elko\n",
      "Processing Record 12 of Set 12 | buala\n",
      "Processing Record 13 of Set 12 | dunedin\n",
      "Processing Record 14 of Set 12 | longavi\n",
      "Processing Record 15 of Set 12 | camabatela\n",
      "This city does not exist\n",
      "Processing Record 17 of Set 12 | lexington\n",
      "Processing Record 18 of Set 12 | malanje\n",
      "Processing Record 19 of Set 12 | waitati\n",
      "Processing Record 20 of Set 12 | turbat\n",
      "Processing Record 21 of Set 12 | aykhal\n",
      "Processing Record 22 of Set 12 | amga\n",
      "Processing Record 23 of Set 12 | guane\n",
      "This city does not exist\n",
      "Processing Record 25 of Set 12 | high level\n",
      "Processing Record 26 of Set 12 | bairiki\n",
      "Processing Record 27 of Set 12 | bilma\n",
      "This city does not exist\n",
      "Processing Record 29 of Set 12 | una\n",
      "Processing Record 30 of Set 12 | calvinia\n",
      "Processing Record 31 of Set 12 | kohat\n",
      "This city does not exist\n",
      "Processing Record 33 of Set 12 | toamasina\n",
      "Processing Record 34 of Set 12 | karpathos\n",
      "This city does not exist\n",
      "Processing Record 36 of Set 12 | atikokan\n",
      "Processing Record 37 of Set 12 | new amsterdam\n",
      "Processing Record 38 of Set 12 | ola\n",
      "Processing Record 39 of Set 12 | nalut\n",
      "Processing Record 40 of Set 12 | kismayo\n",
      "Processing Record 41 of Set 12 | hudson\n",
      "Processing Record 42 of Set 12 | alofi\n",
      "Processing Record 43 of Set 12 | beohari\n",
      "Processing Record 44 of Set 12 | ridgetown\n",
      "This city does not exist\n",
      "Processing Record 46 of Set 12 | biala podlaska\n",
      "Processing Record 47 of Set 12 | campeche\n",
      "This city does not exist\n",
      "Processing Record 49 of Set 12 | redlands\n",
      "Processing Record 50 of Set 12 | adiake\n",
      "The program paused for 10 seconds\n",
      "Processing Record 1 of Set 13 | camacari\n",
      "Processing Record 2 of Set 13 | mehamn\n",
      "Processing Record 3 of Set 13 | bassar\n",
      "Processing Record 4 of Set 13 | daratsos\n",
      "Processing Record 5 of Set 13 | colares\n",
      "Processing Record 6 of Set 13 | am timan\n",
      "Processing Record 7 of Set 13 | bintulu\n",
      "Processing Record 8 of Set 13 | kursavka\n",
      "Processing Record 9 of Set 13 | aberdeen\n",
      "Processing Record 10 of Set 13 | carutapera\n",
      "Processing Record 11 of Set 13 | batagay-alyta\n",
      "Processing Record 12 of Set 13 | swan river\n"
     ]
    },
    {
     "name": "stdout",
     "output_type": "stream",
     "text": [
      "Processing Record 13 of Set 13 | paamiut\n",
      "Processing Record 14 of Set 13 | lima\n",
      "Processing Record 15 of Set 13 | pevek\n",
      "Processing Record 16 of Set 13 | altay\n",
      "Processing Record 17 of Set 13 | kenai\n",
      "Processing Record 18 of Set 13 | shatsk\n",
      "Processing Record 19 of Set 13 | rawson\n",
      "Processing Record 20 of Set 13 | miloslavskoye\n",
      "Processing Record 21 of Set 13 | kaka\n",
      "Processing Record 22 of Set 13 | nucet\n",
      "Processing Record 23 of Set 13 | soubre\n",
      "This city does not exist\n",
      "Processing Record 25 of Set 13 | rocha\n",
      "Processing Record 26 of Set 13 | shiyan\n",
      "Processing Record 27 of Set 13 | loei\n",
      "Processing Record 28 of Set 13 | khash\n",
      "Processing Record 29 of Set 13 | boende\n",
      "Processing Record 30 of Set 13 | rassvet\n",
      "Processing Record 31 of Set 13 | yazman\n",
      "Processing Record 32 of Set 13 | sonoita\n",
      "Processing Record 33 of Set 13 | toro\n",
      "Processing Record 34 of Set 13 | dudinka\n",
      "Processing Record 35 of Set 13 | juneau\n"
     ]
    }
   ],
   "source": [
    "# Get latitude and temperature for cities\n",
    "cities = cities[0:len(cities)]\n",
    "\n",
    "#set up lists to hold reponse info\n",
    "#we need more data than latitude and temp for the hw \n",
    "lat = []\n",
    "temp = []\n",
    "humidity = []\n",
    "cloudiness = []\n",
    "wind_speed = []\n",
    "date = []\n",
    "lng = []\n",
    "cities_list = []\n",
    "country_code = []\n",
    "counter = 0\n",
    "set_list = 1\n",
    "t = 10\n",
    "\n",
    "# Loop through the list of cities and perform a request for data on each\n",
    "for city in cities:\n",
    "    response = requests.get(query_url + city).json()\n",
    "    counter += 1\n",
    "    try:\n",
    "        lat.append(response['coord']['lat'])\n",
    "        lng.append(response['coord']['lon'])\n",
    "        temp.append(response['main']['temp'])\n",
    "        humidity.append(response['main']['humidity'])\n",
    "        cloudiness.append(response['clouds']['all'])\n",
    "        wind_speed.append(response['wind']['speed'])\n",
    "        date.append(response[\"dt\"])\n",
    "        country_code.append(response['sys']['country'])\n",
    "        cities_list.append(city)\n",
    "        print(f'Processing Record {counter} of Set {set_list} | {city}')\n",
    "    except KeyError:\n",
    "        print(\"This city does not exist\")\n",
    "        pass\n",
    "    \n",
    "    if counter >= 50:\n",
    "        time.sleep(t)\n",
    "        counter = 0\n",
    "        set_list += 1\n",
    "        print(f'The program paused for {t} seconds')"
   ]
  },
  {
   "cell_type": "code",
   "execution_count": 6,
   "metadata": {
    "ExecuteTime": {
     "end_time": "2020-04-12T01:21:29.666640Z",
     "start_time": "2020-04-12T01:21:29.662421Z"
    }
   },
   "outputs": [
    {
     "name": "stdout",
     "output_type": "stream",
     "text": [
      "585 585 585 585 585 585 585 585\n"
     ]
    }
   ],
   "source": [
    "print(len(cities_list), len(temp), len(humidity),len(cloudiness), len(lat), len(date), len(wind_speed),len(country_code))"
   ]
  },
  {
   "cell_type": "markdown",
   "metadata": {},
   "source": [
    "### Convert Raw Data to DataFrame\n",
    "* Export the city data into a .csv.\n",
    "* Display the DataFrame"
   ]
  },
  {
   "cell_type": "code",
   "execution_count": 7,
   "metadata": {
    "ExecuteTime": {
     "end_time": "2020-04-12T01:21:29.706254Z",
     "start_time": "2020-04-12T01:21:29.668762Z"
    }
   },
   "outputs": [
    {
     "data": {
      "text/html": [
       "<div>\n",
       "<style scoped>\n",
       "    .dataframe tbody tr th:only-of-type {\n",
       "        vertical-align: middle;\n",
       "    }\n",
       "\n",
       "    .dataframe tbody tr th {\n",
       "        vertical-align: top;\n",
       "    }\n",
       "\n",
       "    .dataframe thead th {\n",
       "        text-align: right;\n",
       "    }\n",
       "</style>\n",
       "<table border=\"1\" class=\"dataframe\">\n",
       "  <thead>\n",
       "    <tr style=\"text-align: right;\">\n",
       "      <th></th>\n",
       "      <th>City Name</th>\n",
       "      <th>Country Code</th>\n",
       "      <th>Date (UTC)</th>\n",
       "      <th>Latitude</th>\n",
       "      <th>Longitude</th>\n",
       "      <th>Temperature (F)</th>\n",
       "      <th>Humidity (%)</th>\n",
       "      <th>Cloudiness (%)</th>\n",
       "      <th>Wind Speed (MPH)</th>\n",
       "    </tr>\n",
       "  </thead>\n",
       "  <tbody>\n",
       "    <tr>\n",
       "      <th>0</th>\n",
       "      <td>Avarua</td>\n",
       "      <td>CK</td>\n",
       "      <td>2020-04-12 01:18:41</td>\n",
       "      <td>-21.21</td>\n",
       "      <td>-159.78</td>\n",
       "      <td>84.20</td>\n",
       "      <td>89</td>\n",
       "      <td>96</td>\n",
       "      <td>5.82</td>\n",
       "    </tr>\n",
       "    <tr>\n",
       "      <th>1</th>\n",
       "      <td>Hasaki</td>\n",
       "      <td>JP</td>\n",
       "      <td>2020-04-12 01:18:53</td>\n",
       "      <td>35.73</td>\n",
       "      <td>140.83</td>\n",
       "      <td>54.34</td>\n",
       "      <td>76</td>\n",
       "      <td>75</td>\n",
       "      <td>11.41</td>\n",
       "    </tr>\n",
       "    <tr>\n",
       "      <th>2</th>\n",
       "      <td>Puerto Ayora</td>\n",
       "      <td>EC</td>\n",
       "      <td>2020-04-12 01:18:53</td>\n",
       "      <td>-0.74</td>\n",
       "      <td>-90.35</td>\n",
       "      <td>80.87</td>\n",
       "      <td>74</td>\n",
       "      <td>75</td>\n",
       "      <td>11.41</td>\n",
       "    </tr>\n",
       "    <tr>\n",
       "      <th>3</th>\n",
       "      <td>Kangaba</td>\n",
       "      <td>ML</td>\n",
       "      <td>2020-04-12 01:18:53</td>\n",
       "      <td>11.93</td>\n",
       "      <td>-8.42</td>\n",
       "      <td>85.75</td>\n",
       "      <td>39</td>\n",
       "      <td>99</td>\n",
       "      <td>4.12</td>\n",
       "    </tr>\n",
       "    <tr>\n",
       "      <th>4</th>\n",
       "      <td>Kalat</td>\n",
       "      <td>PK</td>\n",
       "      <td>2020-04-12 01:18:53</td>\n",
       "      <td>29.02</td>\n",
       "      <td>66.59</td>\n",
       "      <td>59.18</td>\n",
       "      <td>26</td>\n",
       "      <td>48</td>\n",
       "      <td>4.65</td>\n",
       "    </tr>\n",
       "    <tr>\n",
       "      <th>...</th>\n",
       "      <td>...</td>\n",
       "      <td>...</td>\n",
       "      <td>...</td>\n",
       "      <td>...</td>\n",
       "      <td>...</td>\n",
       "      <td>...</td>\n",
       "      <td>...</td>\n",
       "      <td>...</td>\n",
       "      <td>...</td>\n",
       "    </tr>\n",
       "    <tr>\n",
       "      <th>580</th>\n",
       "      <td>Yazman</td>\n",
       "      <td>PK</td>\n",
       "      <td>2020-04-12 01:21:29</td>\n",
       "      <td>29.12</td>\n",
       "      <td>71.74</td>\n",
       "      <td>83.37</td>\n",
       "      <td>30</td>\n",
       "      <td>80</td>\n",
       "      <td>2.15</td>\n",
       "    </tr>\n",
       "    <tr>\n",
       "      <th>581</th>\n",
       "      <td>Sonoita</td>\n",
       "      <td>MX</td>\n",
       "      <td>2020-04-12 01:21:29</td>\n",
       "      <td>31.85</td>\n",
       "      <td>-112.83</td>\n",
       "      <td>62.01</td>\n",
       "      <td>53</td>\n",
       "      <td>81</td>\n",
       "      <td>10.36</td>\n",
       "    </tr>\n",
       "    <tr>\n",
       "      <th>582</th>\n",
       "      <td>Toro</td>\n",
       "      <td>CO</td>\n",
       "      <td>2020-04-12 01:21:29</td>\n",
       "      <td>4.61</td>\n",
       "      <td>-76.08</td>\n",
       "      <td>70.61</td>\n",
       "      <td>68</td>\n",
       "      <td>73</td>\n",
       "      <td>2.51</td>\n",
       "    </tr>\n",
       "    <tr>\n",
       "      <th>583</th>\n",
       "      <td>Dudinka</td>\n",
       "      <td>RU</td>\n",
       "      <td>2020-04-12 01:20:13</td>\n",
       "      <td>69.41</td>\n",
       "      <td>86.18</td>\n",
       "      <td>33.80</td>\n",
       "      <td>98</td>\n",
       "      <td>75</td>\n",
       "      <td>33.55</td>\n",
       "    </tr>\n",
       "    <tr>\n",
       "      <th>584</th>\n",
       "      <td>Juneau</td>\n",
       "      <td>US</td>\n",
       "      <td>2020-04-12 01:21:29</td>\n",
       "      <td>58.30</td>\n",
       "      <td>-134.42</td>\n",
       "      <td>46.40</td>\n",
       "      <td>28</td>\n",
       "      <td>20</td>\n",
       "      <td>9.17</td>\n",
       "    </tr>\n",
       "  </tbody>\n",
       "</table>\n",
       "<p>585 rows × 9 columns</p>\n",
       "</div>"
      ],
      "text/plain": [
       "        City Name Country Code          Date (UTC)  Latitude  Longitude  \\\n",
       "0          Avarua           CK 2020-04-12 01:18:41    -21.21    -159.78   \n",
       "1          Hasaki           JP 2020-04-12 01:18:53     35.73     140.83   \n",
       "2    Puerto Ayora           EC 2020-04-12 01:18:53     -0.74     -90.35   \n",
       "3         Kangaba           ML 2020-04-12 01:18:53     11.93      -8.42   \n",
       "4           Kalat           PK 2020-04-12 01:18:53     29.02      66.59   \n",
       "..            ...          ...                 ...       ...        ...   \n",
       "580        Yazman           PK 2020-04-12 01:21:29     29.12      71.74   \n",
       "581       Sonoita           MX 2020-04-12 01:21:29     31.85    -112.83   \n",
       "582          Toro           CO 2020-04-12 01:21:29      4.61     -76.08   \n",
       "583       Dudinka           RU 2020-04-12 01:20:13     69.41      86.18   \n",
       "584        Juneau           US 2020-04-12 01:21:29     58.30    -134.42   \n",
       "\n",
       "     Temperature (F)  Humidity (%)  Cloudiness (%)  Wind Speed (MPH)  \n",
       "0              84.20            89              96              5.82  \n",
       "1              54.34            76              75             11.41  \n",
       "2              80.87            74              75             11.41  \n",
       "3              85.75            39              99              4.12  \n",
       "4              59.18            26              48              4.65  \n",
       "..               ...           ...             ...               ...  \n",
       "580            83.37            30              80              2.15  \n",
       "581            62.01            53              81             10.36  \n",
       "582            70.61            68              73              2.51  \n",
       "583            33.80            98              75             33.55  \n",
       "584            46.40            28              20              9.17  \n",
       "\n",
       "[585 rows x 9 columns]"
      ]
     },
     "execution_count": 7,
     "metadata": {},
     "output_type": "execute_result"
    }
   ],
   "source": [
    "import datetime\n",
    "city_data = pd.DataFrame({\"City Name\":cities_list,\"Country Code\":country_code,\"Date (UTC)\":date,\"Latitude\":lat, \"Longitude\":lng,\"Temperature (F)\":temp,\"Humidity (%)\":humidity,\"Cloudiness (%)\":cloudiness,\"Wind Speed (MPH)\":wind_speed})\n",
    "city_data[\"City Name\"] = [city.title() for city in city_data[\"City Name\"]]\n",
    "city_data[\"Date (UTC)\"] = [datetime.datetime.utcfromtimestamp(date) for date in city_data[\"Date (UTC)\"]]\n",
    "city_data.to_csv(output_file)\n",
    "city_data"
   ]
  },
  {
   "cell_type": "markdown",
   "metadata": {},
   "source": [
    "### Plotting the Data\n",
    "* Use proper labeling of the plots using plot titles (including date of analysis) and axes labels.\n",
    "* Save the plotted figures as .pngs."
   ]
  },
  {
   "cell_type": "markdown",
   "metadata": {},
   "source": [
    "#### Latitude vs. Temperature Plot"
   ]
  },
  {
   "cell_type": "code",
   "execution_count": 8,
   "metadata": {
    "ExecuteTime": {
     "end_time": "2020-04-12T01:21:29.882587Z",
     "start_time": "2020-04-12T01:21:29.709416Z"
    },
    "scrolled": true
   },
   "outputs": [
    {
     "data": {
      "image/png": "[encoded data removed]",
      "text/plain": [
       "<Figure size 432x288 with 1 Axes>"
      ]
     },
     "metadata": {
      "needs_background": "light"
     },
     "output_type": "display_data"
    }
   ],
   "source": [
    "city_lat = city_data[\"Latitude\"]\n",
    "city_temp = city_data[\"Temperature (F)\"]\n",
    "city_date = city_data[\"Date (UTC)\"]\n",
    "\n",
    "plt.scatter(city_lat,city_temp)\n",
    "plt.xlabel(\"Latitude\")\n",
    "plt.ylabel(\"Temperature (F)\")\n",
    "plt.title(f\"Latitude by Temperature on {city_date[0]} UTC\")\n",
    "plt.savefig(\"../output/Lat_Temp_fig.png\")\n",
    "plt.show()"
   ]
  },
  {
   "cell_type": "markdown",
   "metadata": {
    "ExecuteTime": {
     "end_time": "2020-04-12T01:21:29.887166Z",
     "start_time": "2020-04-12T01:21:29.885285Z"
    }
   },
   "source": [
    "### Interpretation\n",
    "The scatterplot above is visualizing the change in temperature based on latitude. The scatterplot depicts a \n",
    "maximum temperature around latitude 0, the equator. Temperature rises as latitude increases towards 0. Temperature \n",
    "decreases as latitude increases away from 0. "
   ]
  },
  {
   "cell_type": "markdown",
   "metadata": {},
   "source": [
    "#### Latitude vs. Humidity Plot"
   ]
  },
  {
   "cell_type": "code",
   "execution_count": 10,
   "metadata": {
    "ExecuteTime": {
     "end_time": "2020-04-12T01:21:30.102084Z",
     "start_time": "2020-04-12T01:21:29.888689Z"
    }
   },
   "outputs": [
    {
     "data": {
      "image/png": "[encoded data removed]",
      "text/plain": [
       "<Figure size 432x288 with 1 Axes>"
      ]
     },
     "metadata": {
      "needs_background": "light"
     },
     "output_type": "display_data"
    }
   ],
   "source": [
    "city_humidity = city_data[\"Humidity (%)\"]\n",
    "\n",
    "plt.scatter(city_lat,city_humidity)\n",
    "plt.xlabel(\"Latitude\")\n",
    "plt.ylabel(\"Humidity (%)\")\n",
    "plt.title(f\"Latitude by Humidity on {city_date[0]} UTC\")\n",
    "plt.savefig(\"../output/Lat_Hum_fig.png\")\n",
    "plt.show()"
   ]
  },
  {
   "cell_type": "markdown",
   "metadata": {
    "ExecuteTime": {
     "end_time": "2020-04-12T01:21:30.105954Z",
     "start_time": "2020-04-12T01:21:30.103904Z"
    }
   },
   "source": [
    "## Interpretation\n",
    "The scatterplot above is visualzing the percent humidity in cities based on latitude. Qualitatively, the plot does\n",
    "not seem to show a relationship. "
   ]
  },
  {
   "cell_type": "markdown",
   "metadata": {},
   "source": [
    "#### Latitude vs. Cloudiness Plot"
   ]
  },
  {
   "cell_type": "code",
   "execution_count": 12,
   "metadata": {
    "ExecuteTime": {
     "end_time": "2020-04-12T01:21:30.258756Z",
     "start_time": "2020-04-12T01:21:30.107881Z"
    },
    "scrolled": true
   },
   "outputs": [
    {
     "data": {
      "image/png": "[encoded data removed]",
      "text/plain": [
       "<Figure size 432x288 with 1 Axes>"
      ]
     },
     "metadata": {
      "needs_background": "light"
     },
     "output_type": "display_data"
    }
   ],
   "source": [
    "city_cloudiness = city_data[\"Cloudiness (%)\"]\n",
    "\n",
    "plt.scatter(city_lat,city_cloudiness)\n",
    "plt.xlabel(\"Latitude\")\n",
    "plt.ylabel(\"Cloudiness (%)\")\n",
    "plt.title(f\"Latitude by Cloudiness on {city_date[0]} UTC\")\n",
    "plt.savefig(\"../output/Lat_Cloud_fig.png\")\n",
    "plt.show()"
   ]
  },
  {
   "cell_type": "markdown",
   "metadata": {
    "ExecuteTime": {
     "end_time": "2020-04-12T01:21:30.261873Z",
     "start_time": "2020-04-12T01:21:30.260173Z"
    }
   },
   "source": [
    "## Interpretation\n",
    "The scatterplot above is visualzing the percent cloudiness in cities based on latitude. Qualitatively, the plot does not seem to show a relationship. "
   ]
  },
  {
   "cell_type": "markdown",
   "metadata": {},
   "source": [
    "#### Latitude vs. Wind Speed Plot"
   ]
  },
  {
   "cell_type": "code",
   "execution_count": 14,
   "metadata": {
    "ExecuteTime": {
     "end_time": "2020-04-12T01:21:30.425308Z",
     "start_time": "2020-04-12T01:21:30.263383Z"
    },
    "scrolled": true
   },
   "outputs": [
    {
     "data": {
      "image/png": "[encoded data removed]",
      "text/plain": [
       "<Figure size 432x288 with 1 Axes>"
      ]
     },
     "metadata": {
      "needs_background": "light"
     },
     "output_type": "display_data"
    }
   ],
   "source": [
    "city_windspeed = city_data[\"Wind Speed (MPH)\"]\n",
    "\n",
    "plt.scatter(city_lat,city_windspeed)\n",
    "plt.xlabel(\"Latitude\")\n",
    "plt.ylabel(\"Wind Speed (MPH)\")\n",
    "plt.title(f\"Latitude by Wind Speed on {city_date[0]} UTC\")\n",
    "plt.savefig(\"../output/Lat_Wind_fig.png\")\n",
    "plt.show()"
   ]
  },
  {
   "cell_type": "markdown",
   "metadata": {
    "ExecuteTime": {
     "end_time": "2020-04-12T01:21:30.429322Z",
     "start_time": "2020-04-12T01:21:30.427358Z"
    }
   },
   "source": [
    "# Interpretation\n",
    "The scatterplot above is visualzing the percent cloudiness in cities based on latitude. It looks as though, wind speed is clustered between ~10 MPH and 0 MPH regardless of latitude. "
   ]
  },
  {
   "cell_type": "markdown",
   "metadata": {},
   "source": [
    "## Linear Regression"
   ]
  },
  {
   "cell_type": "code",
   "execution_count": 16,
   "metadata": {
    "ExecuteTime": {
     "end_time": "2020-04-12T01:21:30.438016Z",
     "start_time": "2020-04-12T01:21:30.431581Z"
    }
   },
   "outputs": [],
   "source": [
    "# Create Northern and Southern Hemisphere DataFrames\n",
    "Northern_hemp = city_data.loc[city_data[\"Latitude\"]>=0,:]\n",
    "Southern_hemp = city_data.loc[city_data[\"Latitude\"]<0,:]\n",
    "\n",
    "#Creating series for variables in the northern hemisphere\n",
    "Northern_city_lat = Northern_hemp[\"Latitude\"]\n",
    "Northern_city_temp = Northern_hemp[\"Temperature (F)\"]\n",
    "Northern_city_hum = Northern_hemp[\"Humidity (%)\"]\n",
    "Northern_city_cloud = Northern_hemp[\"Cloudiness (%)\"]\n",
    "Northern_city_wind = Northern_hemp[\"Wind Speed (MPH)\"]\n",
    "\n",
    "#Creating series for variables in the southern hemisphere\n",
    "Southern_city_lat = Southern_hemp[\"Latitude\"]\n",
    "Southern_city_temp = Southern_hemp[\"Temperature (F)\"]\n",
    "Southern_city_hum = Southern_hemp[\"Humidity (%)\"]\n",
    "Southern_city_cloud = Southern_hemp[\"Cloudiness (%)\"]\n",
    "Southern_city_wind = Southern_hemp[\"Wind Speed (MPH)\"]\n"
   ]
  },
  {
   "cell_type": "code",
   "execution_count": 17,
   "metadata": {
    "ExecuteTime": {
     "end_time": "2020-04-12T01:21:30.445328Z",
     "start_time": "2020-04-12T01:21:30.440011Z"
    }
   },
   "outputs": [],
   "source": [
    "# OPTIONAL: Create a function to create Linear Regression plots\n",
    "def linearregression(x_values,y_values,x_label,y_label,x_annotate,y_annotate):\n",
    "    (slope, intercept, rvalue, pvalue, stderr) = linregress(x_values, y_values)\n",
    "    regress_values = x_values * slope + intercept\n",
    "    line_eq = f\"y = {round(slope,2)}x + {round(intercept,2)}\"\n",
    "    plt.scatter(x_values,y_values)\n",
    "    plt.plot(x_values,regress_values,\"r-\")\n",
    "    plt.annotate(line_eq,(x_annotate,y_annotate),fontsize=15,color=\"red\")\n",
    "    plt.xlabel(x_label)\n",
    "    plt.ylabel(y_label)\n",
    "    plt.xlim(min(x_values)-2,max(x_values)+2)\n",
    "    plt.ylim(min(y_values)-2,max(y_values)+2)\n",
    "    if x_annotate >= 0:\n",
    "        hemisphere_name = \"Northern\"\n",
    "    else:\n",
    "        hemisphere_name = \"Southern\"\n",
    "    plt.title(f'{x_label} vs. {y_label} in the {hemisphere_name} Hemisphere')\n",
    "    print(f\"The r-squared is: {round(rvalue**2,2)}\")\n",
    "    print(line_eq)\n",
    "    plt.show()\n"
   ]
  },
  {
   "cell_type": "markdown",
   "metadata": {},
   "source": [
    "####  Northern Hemisphere - Max Temp vs. Latitude Linear Regression"
   ]
  },
  {
   "cell_type": "code",
   "execution_count": 34,
   "metadata": {
    "ExecuteTime": {
     "end_time": "2020-04-12T01:29:39.435408Z",
     "start_time": "2020-04-12T01:29:39.283892Z"
    },
    "scrolled": true
   },
   "outputs": [
    {
     "name": "stdout",
     "output_type": "stream",
     "text": [
      "The r-squared is: 0.85\n",
      "y = -0.99x + 90.77\n"
     ]
    },
    {
     "data": {
      "image/png": "[encoded data removed]",
      "text/plain": [
       "<Figure size 432x288 with 1 Axes>"
      ]
     },
     "metadata": {
      "needs_background": "light"
     },
     "output_type": "display_data"
    }
   ],
   "source": [
    "linearregression(Northern_city_lat,Northern_city_temp,\"Latitude\",\"Temperature (F)\",10,0)"
   ]
  },
  {
   "cell_type": "markdown",
   "metadata": {
    "ExecuteTime": {
     "end_time": "2020-04-12T01:21:30.583094Z",
     "start_time": "2020-04-12T01:21:30.581325Z"
    }
   },
   "source": [
    "## Interpretation\n",
    "This linear regression is quantitively describing the relationship between temperature and latitude in the \n",
    "northern hemisphere. The linear regression's Pearson's correlation coefficient of .85 represents a strong relationship between the variables. Because the slope of the regression line is ~(-1) we can say that as latitude increases (away from the equator), temperature decreases at a 1:1 relationship. Based on the y-intercept, the linear regression estimates that at the equator, temperature will be 90.77 degrees F. "
   ]
  },
  {
   "cell_type": "markdown",
   "metadata": {},
   "source": [
    "####  Southern Hemisphere - Max Temp vs. Latitude Linear Regression"
   ]
  },
  {
   "cell_type": "code",
   "execution_count": 35,
   "metadata": {
    "ExecuteTime": {
     "end_time": "2020-04-12T01:33:16.792352Z",
     "start_time": "2020-04-12T01:33:16.659578Z"
    },
    "scrolled": true
   },
   "outputs": [
    {
     "name": "stdout",
     "output_type": "stream",
     "text": [
      "The r-squared is: 0.53\n",
      "y = 0.57x + 82.47\n"
     ]
    },
    {
     "data": {
      "image/png": "[encoded data removed]",
      "text/plain": [
       "<Figure size 432x288 with 1 Axes>"
      ]
     },
     "metadata": {
      "needs_background": "light"
     },
     "output_type": "display_data"
    }
   ],
   "source": [
    "linearregression(Southern_city_lat,Southern_city_temp,\"Latitude\", \"Temperature (F)\",-50,85)\n"
   ]
  },
  {
   "cell_type": "markdown",
   "metadata": {
    "ExecuteTime": {
     "end_time": "2020-04-12T01:21:30.708355Z",
     "start_time": "2020-04-12T01:21:30.705595Z"
    }
   },
   "source": [
    "## Interpretation\n",
    "This linear regression is quantitively describing the relationship between temperature and latitude in the \n",
    "southern hemisphere. The linear regressions Pearson's correlation coefficient represents a moderate relationship (.53). Because the slope of the regression line is ~.5 we can say that as latitude increases (towards the equator), temperature increases at a 1:.5 relationship. That is, an increase in one latitude point will result in an increase of half of a degree in temperature fahrenheit. Based on the y-intercept, the linear regression estimates that at the equator, temperature will be 82.47 degrees F. It is interesting that the correlation coefficient of temperature vs latitude in the northern hemisphere was much stronger (.85) then the one displayed here. This is likely due to other variables affecting temperature in cities in the northern hemisphere. "
   ]
  },
  {
   "cell_type": "markdown",
   "metadata": {},
   "source": [
    "####  Northern Hemisphere - Humidity (%) vs. Latitude Linear Regression"
   ]
  },
  {
   "cell_type": "code",
   "execution_count": 22,
   "metadata": {
    "ExecuteTime": {
     "end_time": "2020-04-12T01:21:30.849731Z",
     "start_time": "2020-04-12T01:21:30.710549Z"
    },
    "scrolled": true
   },
   "outputs": [
    {
     "name": "stdout",
     "output_type": "stream",
     "text": [
      "The r-squared is: 0.06\n",
      "y = 0.27x + 55.36\n"
     ]
    },
    {
     "data": {
      "image/png": "[encoded data removed]",
      "text/plain": [
       "<Figure size 432x288 with 1 Axes>"
      ]
     },
     "metadata": {
      "needs_background": "light"
     },
     "output_type": "display_data"
    }
   ],
   "source": [
    "linearregression(Northern_city_lat,Northern_city_hum,\"Latitude\",\"Humidity (%)\",45,12)"
   ]
  },
  {
   "cell_type": "markdown",
   "metadata": {
    "ExecuteTime": {
     "end_time": "2020-04-12T01:21:30.856241Z",
     "start_time": "2020-04-12T01:21:30.854475Z"
    }
   },
   "source": [
    "## Interpretation\n",
    "This linear regression is quantitively describing the relationship between humidity and latitude in the \n",
    "northern hemisphere. Based on the r-squared value, we can qualify this relationship as very weak or does not exist. If the relationship does exist, as small as it may be,the slope of the linear regression model is positive; as latitude increases away from the equator, humidity increases. "
   ]
  },
  {
   "cell_type": "markdown",
   "metadata": {},
   "source": [
    "####  Southern Hemisphere - Humidity (%) vs. Latitude Linear Regression"
   ]
  },
  {
   "cell_type": "code",
   "execution_count": 24,
   "metadata": {
    "ExecuteTime": {
     "end_time": "2020-04-12T01:21:30.979071Z",
     "start_time": "2020-04-12T01:21:30.858242Z"
    },
    "scrolled": true
   },
   "outputs": [
    {
     "name": "stdout",
     "output_type": "stream",
     "text": [
      "The r-squared is: 0.08\n",
      "y = 0.33x + 79.28\n"
     ]
    },
    {
     "data": {
      "image/png": "[encoded data removed]",
      "text/plain": [
       "<Figure size 432x288 with 1 Axes>"
      ]
     },
     "metadata": {
      "needs_background": "light"
     },
     "output_type": "display_data"
    }
   ],
   "source": [
    "linearregression(Southern_city_lat,Southern_city_hum,\"Latitude\",\"Humidity (%)\",-50,20)"
   ]
  },
  {
   "cell_type": "markdown",
   "metadata": {
    "ExecuteTime": {
     "end_time": "2020-04-12T01:21:30.982446Z",
     "start_time": "2020-04-12T01:21:30.980551Z"
    }
   },
   "source": [
    "## Interpretation\n",
    "This linear regression is quantitively describing the relationship between humidity and latitude in the \n",
    "southern hemisphere. Based on the r-squared value, we can qualify this relationship as very weak or does not exist. If the relationship does exist, as small as it may be, the slope of the linear regression model is positive; as latitude increases towards the equator, humidity increases. Based on this data, humidity does not seem to act in the same way across the equator like temperature behaves."
   ]
  },
  {
   "cell_type": "markdown",
   "metadata": {},
   "source": [
    "####  Northern Hemisphere - Cloudiness (%) vs. Latitude Linear Regression"
   ]
  },
  {
   "cell_type": "code",
   "execution_count": 26,
   "metadata": {
    "ExecuteTime": {
     "end_time": "2020-04-12T01:21:31.113478Z",
     "start_time": "2020-04-12T01:21:30.984089Z"
    },
    "scrolled": true
   },
   "outputs": [
    {
     "name": "stdout",
     "output_type": "stream",
     "text": [
      "The r-squared is: 0.03\n",
      "y = 0.33x + 39.96\n"
     ]
    },
    {
     "data": {
      "image/png": "[encoded data removed]",
      "text/plain": [
       "<Figure size 432x288 with 1 Axes>"
      ]
     },
     "metadata": {
      "needs_background": "light"
     },
     "output_type": "display_data"
    }
   ],
   "source": [
    "linearregression(Northern_city_lat,Northern_city_cloud,\"Latitude\",\"Cloudiness (%)\",10,60)"
   ]
  },
  {
   "cell_type": "markdown",
   "metadata": {
    "ExecuteTime": {
     "end_time": "2020-04-12T01:21:31.116664Z",
     "start_time": "2020-04-12T01:21:31.114875Z"
    }
   },
   "source": [
    "## Interpretation\n",
    "This linear regression is quantitively describing the relationship between cloudiness and latitude in the \n",
    "northern hemisphere. Based on the r-squared value, we can qualify this relationship as very weak or does not exist. If the relationship does exist, as small as it may be, the slope of the linear regression model is positive; as latitude increases away from the equator, cloudiness increases. "
   ]
  },
  {
   "cell_type": "markdown",
   "metadata": {},
   "source": [
    "####  Southern Hemisphere - Cloudiness (%) vs. Latitude Linear Regression"
   ]
  },
  {
   "cell_type": "code",
   "execution_count": 36,
   "metadata": {
    "ExecuteTime": {
     "end_time": "2020-04-12T02:11:04.155304Z",
     "start_time": "2020-04-12T02:11:04.023349Z"
    },
    "scrolled": true
   },
   "outputs": [
    {
     "name": "stdout",
     "output_type": "stream",
     "text": [
      "The r-squared is: 0.02\n",
      "y = 0.37x + 65.32\n"
     ]
    },
    {
     "data": {
      "image/png": "[encoded data removed]",
      "text/plain": [
       "<Figure size 432x288 with 1 Axes>"
      ]
     },
     "metadata": {
      "needs_background": "light"
     },
     "output_type": "display_data"
    }
   ],
   "source": [
    "linearregression(Southern_city_lat,Southern_city_cloud,\"Latitude\",\"Cloudiness (%)\",-56,15)"
   ]
  },
  {
   "cell_type": "markdown",
   "metadata": {
    "ExecuteTime": {
     "end_time": "2020-04-12T01:21:31.240279Z",
     "start_time": "2020-04-12T01:21:31.238598Z"
    }
   },
   "source": [
    "## Interpretation\n",
    "This linear regression is quantitively describing the relationship between cloudiness and latitude in the \n",
    "southern hemisphere. Based on the r-squared value, we can qualify this relationship as very weak or does not exist. If the relationship does exist, as small as it may be, the slope of the linear regression model is positive; as latitude increases away from \n",
    "the equator, cloudiness increases."
   ]
  },
  {
   "cell_type": "markdown",
   "metadata": {},
   "source": [
    "####  Northern Hemisphere - Wind Speed (mph) vs. Latitude Linear Regression"
   ]
  },
  {
   "cell_type": "code",
   "execution_count": 30,
   "metadata": {
    "ExecuteTime": {
     "end_time": "2020-04-12T01:21:31.383430Z",
     "start_time": "2020-04-12T01:21:31.241731Z"
    },
    "scrolled": true
   },
   "outputs": [
    {
     "name": "stdout",
     "output_type": "stream",
     "text": [
      "The r-squared is: 0.04\n",
      "y = 0.06x + 6.12\n"
     ]
    },
    {
     "data": {
      "image/png": "[encoded data removed]",
      "text/plain": [
       "<Figure size 432x288 with 1 Axes>"
      ]
     },
     "metadata": {
      "needs_background": "light"
     },
     "output_type": "display_data"
    }
   ],
   "source": [
    "linearregression(Northern_city_lat,Northern_city_wind,\"Latitude\",\"Wind Speed (MPH)\",10,30)"
   ]
  },
  {
   "cell_type": "markdown",
   "metadata": {
    "ExecuteTime": {
     "end_time": "2020-04-12T01:21:31.386810Z",
     "start_time": "2020-04-12T01:21:31.385034Z"
    }
   },
   "source": [
    "## Interpretation\n",
    "This linear regression is quantitively describing the relationship between windspeed and latitude in the \n",
    "northern hemisphere. Based on the r-squared value, we can qualify this relationship as very weak or does not exist. If the relationship does exist, as small as it may be,it does appear that wind speed is clustering between ~10 MPH and 0 MPH which was previously described on the global scatter plot. "
   ]
  },
  {
   "cell_type": "markdown",
   "metadata": {},
   "source": [
    "####  Southern Hemisphere - Wind Speed (mph) vs. Latitude Linear Regression"
   ]
  },
  {
   "cell_type": "code",
   "execution_count": 32,
   "metadata": {
    "ExecuteTime": {
     "end_time": "2020-04-12T01:21:31.520494Z",
     "start_time": "2020-04-12T01:21:31.388324Z"
    },
    "scrolled": true
   },
   "outputs": [
    {
     "name": "stdout",
     "output_type": "stream",
     "text": [
      "The r-squared is: 0.16\n",
      "y = -0.14x + 4.16\n"
     ]
    },
    {
     "data": {
      "image/png": "[encoded data removed]",
      "text/plain": [
       "<Figure size 432x288 with 1 Axes>"
      ]
     },
     "metadata": {
      "needs_background": "light"
     },
     "output_type": "display_data"
    }
   ],
   "source": [
    "linearregression(Southern_city_lat,Southern_city_wind,\"Latitude\",\"Wind Speed (MPH)\",-50,23)"
   ]
  },
  {
   "cell_type": "markdown",
   "metadata": {
    "ExecuteTime": {
     "end_time": "2020-04-12T01:21:31.523958Z",
     "start_time": "2020-04-12T01:21:31.521980Z"
    }
   },
   "source": [
    "## Interpretation\n",
    "This linear regression is quantitively describing the relationship between windspeed and latitude in the \n",
    "southern hemisphere. Based on the r-squared value, we can qualify this relationship as very weak or does not exist. If the relationship does exist, as small as it may be, the slope of the linear regression is negative, describing that as latitude increases, towards the equator, wind speed decreases. \n"
   ]
  },
  {
   "cell_type": "code",
   "execution_count": null,
   "metadata": {},
   "outputs": [],
   "source": []
  }
 ],
 "metadata": {
  "anaconda-cloud": {},
  "kernel_info": {
   "name": "python3"
  },
  "kernelspec": {
   "display_name": "Python 3",
   "language": "python",
   "name": "python3"
  },
  "language_info": {
   "codemirror_mode": {
    "name": "ipython",
    "version": 3
   },
   "file_extension": ".py",
   "mimetype": "text/x-python",
   "name": "python",
   "nbconvert_exporter": "python",
   "pygments_lexer": "ipython3",
   "version": "3.6.10"
  },
  "latex_envs": {
   "LaTeX_envs_menu_present": true,
   "autoclose": false,
   "autocomplete": true,
   "bibliofile": "biblio.bib",
   "cite_by": "apalike",
   "current_citInitial": 1,
   "eqLabelWithNumbers": true,
   "eqNumInitial": 1,
   "hotkeys": {
    "equation": "Ctrl-E",
    "itemize": "Ctrl-I"
   },
   "labels_anchors": false,
   "latex_user_defs": false,
   "report_style_numbering": false,
   "user_envs_cfg": false
  },
  "nteract": {
   "version": "0.12.3"
  }
 },
 "nbformat": 4,
 "nbformat_minor": 2
}
