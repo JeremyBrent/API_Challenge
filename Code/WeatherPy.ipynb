{
 "cells": [
  {
   "cell_type": "markdown",
   "metadata": {},
   "source": [
    "# WeatherPy\n",
    "----\n",
    "\n",
    "#### Note\n",
    "* Instructions have been included for each segment. You do not have to follow them exactly, but they are included to help you think through the steps."
   ]
  },
  {
   "cell_type": "code",
   "execution_count": 2,
   "metadata": {
    "ExecuteTime": {
     "end_time": "2020-04-10T22:53:45.743037Z",
     "start_time": "2020-04-10T22:53:43.565767Z"
    },
    "scrolled": true
   },
   "outputs": [],
   "source": [
    "# Dependencies and Setup\n",
    "import matplotlib.pyplot as plt\n",
    "import pandas as pd\n",
    "import numpy as np\n",
    "import requests\n",
    "import time\n",
    "from scipy.stats import linregress\n",
    "import os \n",
    "\n",
    "# Import API key\n",
    "from api_keys import weather_api_key\n",
    "\n",
    "# Incorporated citipy to determine city based on latitude and longitude\n",
    "from citipy import citipy\n",
    "\n",
    "# Output File (CSV)\n",
    "output_file = os.path.join(\"..\",\"output\",\"cities.csv\")\n",
    "\n",
    "# Range of latitudes and longitudes\n",
    "lat_range = (-90, 90)\n",
    "lng_range = (-180, 180)\n"
   ]
  },
  {
   "cell_type": "markdown",
   "metadata": {},
   "source": [
    "## Generate Cities List"
   ]
  },
  {
   "cell_type": "code",
   "execution_count": 3,
   "metadata": {
    "ExecuteTime": {
     "end_time": "2020-04-10T22:53:46.561297Z",
     "start_time": "2020-04-10T22:53:45.745330Z"
    }
   },
   "outputs": [
    {
     "data": {
      "text/plain": [
       "608"
      ]
     },
     "execution_count": 3,
     "metadata": {},
     "output_type": "execute_result"
    }
   ],
   "source": [
    "# List for holding lat_lngs and cities\n",
    "lat_lngs = []\n",
    "cities = []\n",
    "\n",
    "\n",
    "\n",
    "# Create a set of random lat and lng combinations\n",
    "lats = np.random.uniform(low=-90.000, high=90.000, size=1500)\n",
    "lngs = np.random.uniform(low=-180.000, high=180.000, size=1500)\n",
    "lat_lngs = zip(lats, lngs)\n",
    "\n",
    "# Identify nearest city for each lat, lng combination\n",
    "for lat_lng in lat_lngs:\n",
    "    city = citipy.nearest_city(lat_lng[0], lat_lng[1]).city_name\n",
    "    \n",
    "    # If the city is unique, then add it to a our cities list\n",
    "    if city not in cities:\n",
    "        cities.append(city)\n",
    "\n",
    "# Print the city count to confirm sufficient count\n",
    "len(cities)\n"
   ]
  },
  {
   "cell_type": "markdown",
   "metadata": {},
   "source": [
    "### Perform API Calls\n",
    "* Perform a weather check on each city using a series of successive API calls.\n",
    "* Include a print log of each city as it'sbeing processed (with the city number and city name).\n"
   ]
  },
  {
   "cell_type": "code",
   "execution_count": 4,
   "metadata": {
    "ExecuteTime": {
     "end_time": "2020-04-10T22:53:46.565004Z",
     "start_time": "2020-04-10T22:53:46.563239Z"
    }
   },
   "outputs": [],
   "source": [
    "#Loop through the cities list and add each city to the URL in the request\n",
    "#loop through one city at a time and make sure the code works"
   ]
  },
  {
   "cell_type": "code",
   "execution_count": 5,
   "metadata": {
    "ExecuteTime": {
     "end_time": "2020-04-10T22:53:46.569022Z",
     "start_time": "2020-04-10T22:53:46.566510Z"
    }
   },
   "outputs": [],
   "source": [
    "# Save config information.\n",
    "url = \"http://api.openweathermap.org/data/2.5/weather?\"\n",
    "units = \"imperial\"\n",
    "\n",
    "# Build partial query URL\n",
    "query_url = f\"{url}appid={weather_api_key}&units={units}&q=\""
   ]
  },
  {
   "cell_type": "code",
   "execution_count": 6,
   "metadata": {
    "ExecuteTime": {
     "end_time": "2020-04-10T22:56:21.340259Z",
     "start_time": "2020-04-10T22:53:46.570462Z"
    }
   },
   "outputs": [
    {
     "name": "stdout",
     "output_type": "stream",
     "text": [
      "Processing Record 1 of Set 1 | port elizabeth\n",
      "Processing Record 2 of Set 1 | atuona\n",
      "Processing Record 3 of Set 1 | vaini\n",
      "Processing Record 4 of Set 1 | victoria\n",
      "Processing Record 5 of Set 1 | aneho\n",
      "Processing Record 6 of Set 1 | mataura\n",
      "Processing Record 7 of Set 1 | bhimunipatnam\n",
      "Processing Record 8 of Set 1 | puerto ayora\n",
      "Processing Record 9 of Set 1 | cape town\n",
      "Processing Record 10 of Set 1 | alpena\n",
      "This city does not exist\n",
      "Processing Record 12 of Set 1 | rikitea\n",
      "Processing Record 13 of Set 1 | seddon\n",
      "Processing Record 14 of Set 1 | udachnyy\n",
      "Processing Record 15 of Set 1 | tukrah\n",
      "Processing Record 16 of Set 1 | tuy hoa\n",
      "Processing Record 17 of Set 1 | qaanaaq\n",
      "Processing Record 18 of Set 1 | albany\n",
      "Processing Record 19 of Set 1 | butaritari\n",
      "Processing Record 20 of Set 1 | lebu\n",
      "Processing Record 21 of Set 1 | eruwa\n",
      "Processing Record 22 of Set 1 | geraldton\n",
      "Processing Record 23 of Set 1 | kapaa\n",
      "Processing Record 24 of Set 1 | iquitos\n",
      "Processing Record 25 of Set 1 | busselton\n",
      "Processing Record 26 of Set 1 | luderitz\n",
      "Processing Record 27 of Set 1 | chuy\n",
      "Processing Record 28 of Set 1 | misawa\n",
      "Processing Record 29 of Set 1 | carnarvon\n",
      "This city does not exist\n",
      "Processing Record 31 of Set 1 | punta arenas\n",
      "Processing Record 32 of Set 1 | kruisfontein\n",
      "Processing Record 33 of Set 1 | yar-sale\n",
      "Processing Record 34 of Set 1 | souillac\n",
      "Processing Record 35 of Set 1 | ushuaia\n",
      "Processing Record 36 of Set 1 | genhe\n",
      "Processing Record 37 of Set 1 | killybegs\n",
      "Processing Record 38 of Set 1 | new norfolk\n",
      "Processing Record 39 of Set 1 | adrar\n",
      "This city does not exist\n",
      "Processing Record 41 of Set 1 | avarua\n",
      "This city does not exist\n",
      "Processing Record 43 of Set 1 | lorengau\n",
      "Processing Record 44 of Set 1 | hermanus\n",
      "Processing Record 45 of Set 1 | ukiah\n",
      "Processing Record 46 of Set 1 | nanortalik\n",
      "Processing Record 47 of Set 1 | castro\n",
      "Processing Record 48 of Set 1 | porosozero\n",
      "Processing Record 49 of Set 1 | saint george\n",
      "Processing Record 50 of Set 1 | upernavik\n",
      "The program paused for 10 seconds\n",
      "Processing Record 1 of Set 2 | bredasdorp\n",
      "Processing Record 2 of Set 2 | thompson\n",
      "This city does not exist\n",
      "Processing Record 4 of Set 2 | harper\n",
      "This city does not exist\n",
      "Processing Record 6 of Set 2 | provideniya\n",
      "Processing Record 7 of Set 2 | xiaoweizhai\n",
      "Processing Record 8 of Set 2 | leningradskiy\n",
      "Processing Record 9 of Set 2 | dingle\n",
      "Processing Record 10 of Set 2 | nhulunbuy\n",
      "Processing Record 11 of Set 2 | katsuura\n",
      "Processing Record 12 of Set 2 | outjo\n",
      "Processing Record 13 of Set 2 | tiksi\n",
      "This city does not exist\n",
      "Processing Record 15 of Set 2 | port blair\n",
      "Processing Record 16 of Set 2 | ribeira grande\n",
      "Processing Record 17 of Set 2 | san carlos de bariloche\n",
      "Processing Record 18 of Set 2 | arlit\n",
      "Processing Record 19 of Set 2 | te anau\n",
      "Processing Record 20 of Set 2 | nouakchott\n",
      "Processing Record 21 of Set 2 | san cristobal\n",
      "Processing Record 22 of Set 2 | alim\n",
      "Processing Record 23 of Set 2 | hobart\n",
      "Processing Record 24 of Set 2 | bati\n",
      "Processing Record 25 of Set 2 | georgetown\n",
      "Processing Record 26 of Set 2 | nioki\n",
      "Processing Record 27 of Set 2 | balabac\n",
      "Processing Record 28 of Set 2 | longyearbyen\n",
      "Processing Record 29 of Set 2 | grand gaube\n",
      "This city does not exist\n",
      "Processing Record 31 of Set 2 | bluff\n",
      "Processing Record 32 of Set 2 | hilo\n",
      "Processing Record 33 of Set 2 | chokurdakh\n",
      "Processing Record 34 of Set 2 | ankpa\n",
      "Processing Record 35 of Set 2 | sioux lookout\n",
      "Processing Record 36 of Set 2 | kassala\n",
      "Processing Record 37 of Set 2 | state college\n",
      "Processing Record 38 of Set 2 | lompoc\n",
      "Processing Record 39 of Set 2 | porto walter\n",
      "Processing Record 40 of Set 2 | tuatapere\n",
      "Processing Record 41 of Set 2 | port hedland\n",
      "This city does not exist\n",
      "Processing Record 43 of Set 2 | maniitsoq\n",
      "Processing Record 44 of Set 2 | lavrentiya\n",
      "Processing Record 45 of Set 2 | shakawe\n",
      "Processing Record 46 of Set 2 | presidente epitacio\n",
      "Processing Record 47 of Set 2 | baykit\n",
      "Processing Record 48 of Set 2 | touros\n",
      "Processing Record 49 of Set 2 | saint-philippe\n",
      "Processing Record 50 of Set 2 | norman wells\n",
      "The program paused for 10 seconds\n",
      "Processing Record 1 of Set 3 | tongchuan\n",
      "Processing Record 2 of Set 3 | brest\n",
      "Processing Record 3 of Set 3 | port alfred\n",
      "This city does not exist\n",
      "Processing Record 5 of Set 3 | garden city\n",
      "Processing Record 6 of Set 3 | dikson\n",
      "Processing Record 7 of Set 3 | xiaoshi\n",
      "Processing Record 8 of Set 3 | tuktoyaktuk\n",
      "Processing Record 9 of Set 3 | irbeyskoye\n",
      "Processing Record 10 of Set 3 | klaksvik\n",
      "Processing Record 11 of Set 3 | visby\n",
      "Processing Record 12 of Set 3 | worthington\n",
      "Processing Record 13 of Set 3 | champerico\n",
      "Processing Record 14 of Set 3 | newport\n",
      "Processing Record 15 of Set 3 | zhuhai\n",
      "Processing Record 16 of Set 3 | mahebourg\n",
      "Processing Record 17 of Set 3 | vao\n",
      "Processing Record 18 of Set 3 | hithadhoo\n",
      "Processing Record 19 of Set 3 | sivaki\n",
      "Processing Record 20 of Set 3 | sola\n",
      "Processing Record 21 of Set 3 | yayva\n",
      "Processing Record 22 of Set 3 | castelo branco\n",
      "Processing Record 23 of Set 3 | kahului\n",
      "Processing Record 24 of Set 3 | porto santo\n",
      "Processing Record 25 of Set 3 | fairbanks\n",
      "Processing Record 26 of Set 3 | yellowknife\n",
      "Processing Record 27 of Set 3 | beidao\n",
      "Processing Record 28 of Set 3 | pevek\n",
      "Processing Record 29 of Set 3 | guerrero negro\n",
      "Processing Record 30 of Set 3 | dong hoi\n",
      "Processing Record 31 of Set 3 | rundu\n",
      "Processing Record 32 of Set 3 | atyrau\n",
      "Processing Record 33 of Set 3 | haines junction\n",
      "Processing Record 34 of Set 3 | novonukutskiy\n",
      "This city does not exist\n",
      "Processing Record 36 of Set 3 | kodiak\n",
      "Processing Record 37 of Set 3 | herat\n",
      "Processing Record 38 of Set 3 | neuquen\n",
      "Processing Record 39 of Set 3 | saskylakh\n",
      "Processing Record 40 of Set 3 | tocopilla\n",
      "Processing Record 41 of Set 3 | kaitangata\n",
      "Processing Record 42 of Set 3 | awbari\n",
      "Processing Record 43 of Set 3 | hamilton\n",
      "Processing Record 44 of Set 3 | olafsvik\n",
      "Processing Record 45 of Set 3 | nouadhibou\n",
      "Processing Record 46 of Set 3 | samarai\n",
      "Processing Record 47 of Set 3 | necochea\n",
      "Processing Record 48 of Set 3 | atar\n",
      "Processing Record 49 of Set 3 | portsmouth\n",
      "Processing Record 50 of Set 3 | bathsheba\n",
      "The program paused for 10 seconds\n",
      "Processing Record 1 of Set 4 | faya\n",
      "Processing Record 2 of Set 4 | sambava\n",
      "Processing Record 3 of Set 4 | guarapari\n",
      "Processing Record 4 of Set 4 | san patricio\n",
      "Processing Record 5 of Set 4 | port lincoln\n",
      "Processing Record 6 of Set 4 | sinnamary\n",
      "Processing Record 7 of Set 4 | vagur\n",
      "Processing Record 8 of Set 4 | talnakh\n",
      "Processing Record 9 of Set 4 | arman\n",
      "Processing Record 10 of Set 4 | karsava\n",
      "Processing Record 11 of Set 4 | rostovka\n",
      "Processing Record 12 of Set 4 | flin flon\n",
      "Processing Record 13 of Set 4 | barrow\n",
      "Processing Record 14 of Set 4 | tshikapa\n",
      "Processing Record 15 of Set 4 | novaya malykla\n",
      "Processing Record 16 of Set 4 | sao felix do xingu\n",
      "Processing Record 17 of Set 4 | lahaina\n",
      "Processing Record 18 of Set 4 | bang krathum\n",
      "Processing Record 19 of Set 4 | sitka\n",
      "Processing Record 20 of Set 4 | bonfim\n",
      "Processing Record 21 of Set 4 | tasiilaq\n",
      "Processing Record 22 of Set 4 | tura\n",
      "Processing Record 23 of Set 4 | ancud\n",
      "Processing Record 24 of Set 4 | nikolskoye\n",
      "Processing Record 25 of Set 4 | foumban\n",
      "Processing Record 26 of Set 4 | chester\n",
      "Processing Record 27 of Set 4 | ialibu\n",
      "Processing Record 28 of Set 4 | vila franca do campo\n",
      "Processing Record 29 of Set 4 | torbay\n",
      "Processing Record 30 of Set 4 | ayan\n",
      "Processing Record 31 of Set 4 | dukat\n",
      "Processing Record 32 of Set 4 | nalut\n",
      "Processing Record 33 of Set 4 | vega de alatorre\n",
      "Processing Record 34 of Set 4 | umm lajj\n",
      "This city does not exist\n",
      "Processing Record 36 of Set 4 | humberto de campos\n",
      "Processing Record 37 of Set 4 | nchelenge\n",
      "Processing Record 38 of Set 4 | vitim\n",
      "Processing Record 39 of Set 4 | constantine\n",
      "Processing Record 40 of Set 4 | takoradi\n",
      "Processing Record 41 of Set 4 | challapata\n",
      "Processing Record 42 of Set 4 | tsuyama\n",
      "Processing Record 43 of Set 4 | kaeo\n",
      "Processing Record 44 of Set 4 | waw\n",
      "Processing Record 45 of Set 4 | voh\n",
      "Processing Record 46 of Set 4 | severnoye\n",
      "This city does not exist\n",
      "Processing Record 48 of Set 4 | luau\n",
      "Processing Record 49 of Set 4 | whittlesea\n",
      "Processing Record 50 of Set 4 | nome\n",
      "The program paused for 10 seconds\n",
      "Processing Record 1 of Set 5 | deputatskiy\n",
      "This city does not exist\n",
      "Processing Record 3 of Set 5 | komsomolskiy\n"
     ]
    },
    {
     "name": "stdout",
     "output_type": "stream",
     "text": [
      "Processing Record 4 of Set 5 | cidreira\n",
      "Processing Record 5 of Set 5 | khuzhir\n",
      "This city does not exist\n",
      "Processing Record 7 of Set 5 | gananoque\n",
      "Processing Record 8 of Set 5 | cabo san lucas\n",
      "Processing Record 9 of Set 5 | hope\n",
      "Processing Record 10 of Set 5 | nazarovo\n",
      "Processing Record 11 of Set 5 | bolobo\n",
      "Processing Record 12 of Set 5 | arraial do cabo\n",
      "Processing Record 13 of Set 5 | saint-louis\n",
      "Processing Record 14 of Set 5 | chake chake\n",
      "This city does not exist\n",
      "Processing Record 16 of Set 5 | jamestown\n",
      "Processing Record 17 of Set 5 | antofagasta\n",
      "Processing Record 18 of Set 5 | nemuro\n",
      "Processing Record 19 of Set 5 | bratsk\n",
      "Processing Record 20 of Set 5 | halifax\n",
      "Processing Record 21 of Set 5 | naze\n",
      "Processing Record 22 of Set 5 | la ronge\n",
      "Processing Record 23 of Set 5 | smithers\n",
      "Processing Record 24 of Set 5 | kavieng\n",
      "Processing Record 25 of Set 5 | shambu\n",
      "Processing Record 26 of Set 5 | gizo\n",
      "Processing Record 27 of Set 5 | cairns\n",
      "Processing Record 28 of Set 5 | gajendragarh\n",
      "Processing Record 29 of Set 5 | gazojak\n",
      "Processing Record 30 of Set 5 | puerto escondido\n",
      "Processing Record 31 of Set 5 | beringovskiy\n",
      "Processing Record 32 of Set 5 | rivera\n",
      "Processing Record 33 of Set 5 | riyadh\n",
      "Processing Record 34 of Set 5 | port moresby\n",
      "Processing Record 35 of Set 5 | bambanglipuro\n",
      "This city does not exist\n",
      "Processing Record 37 of Set 5 | mehamn\n",
      "Processing Record 38 of Set 5 | hami\n",
      "Processing Record 39 of Set 5 | yongchang\n",
      "Processing Record 40 of Set 5 | etchojoa\n",
      "Processing Record 41 of Set 5 | tual\n",
      "Processing Record 42 of Set 5 | ola\n",
      "Processing Record 43 of Set 5 | shingu\n",
      "Processing Record 44 of Set 5 | namatanai\n",
      "Processing Record 45 of Set 5 | pisco\n",
      "Processing Record 46 of Set 5 | garissa\n",
      "Processing Record 47 of Set 5 | grindavik\n",
      "Processing Record 48 of Set 5 | alice springs\n",
      "Processing Record 49 of Set 5 | borogontsy\n",
      "Processing Record 50 of Set 5 | biak\n",
      "The program paused for 10 seconds\n",
      "Processing Record 1 of Set 6 | vila velha\n",
      "Processing Record 2 of Set 6 | isangel\n",
      "Processing Record 3 of Set 6 | yumen\n",
      "Processing Record 4 of Set 6 | roding\n",
      "Processing Record 5 of Set 6 | yunyang\n",
      "Processing Record 6 of Set 6 | airai\n",
      "This city does not exist\n",
      "Processing Record 8 of Set 6 | koumac\n",
      "Processing Record 9 of Set 6 | college\n",
      "This city does not exist\n",
      "Processing Record 11 of Set 6 | kuldur\n",
      "Processing Record 12 of Set 6 | hualmay\n",
      "Processing Record 13 of Set 6 | mendota\n",
      "This city does not exist\n",
      "Processing Record 15 of Set 6 | xining\n",
      "Processing Record 16 of Set 6 | aykhal\n",
      "Processing Record 17 of Set 6 | tila\n",
      "Processing Record 18 of Set 6 | hasaki\n",
      "Processing Record 19 of Set 6 | khatanga\n",
      "Processing Record 20 of Set 6 | chhindwara\n",
      "Processing Record 21 of Set 6 | saint anthony\n",
      "Processing Record 22 of Set 6 | zhigansk\n",
      "Processing Record 23 of Set 6 | camacha\n",
      "Processing Record 24 of Set 6 | barreirinhas\n",
      "Processing Record 25 of Set 6 | vanavara\n",
      "Processing Record 26 of Set 6 | bethel\n",
      "Processing Record 27 of Set 6 | cap malheureux\n",
      "This city does not exist\n",
      "Processing Record 29 of Set 6 | east london\n",
      "Processing Record 30 of Set 6 | berlevag\n",
      "Processing Record 31 of Set 6 | boa vista\n",
      "Processing Record 32 of Set 6 | ontario\n",
      "Processing Record 33 of Set 6 | richards bay\n",
      "Processing Record 34 of Set 6 | progreso\n",
      "Processing Record 35 of Set 6 | oyama\n",
      "Processing Record 36 of Set 6 | lagoa\n",
      "This city does not exist\n",
      "Processing Record 38 of Set 6 | methoni\n",
      "Processing Record 39 of Set 6 | ust-nera\n",
      "This city does not exist\n",
      "Processing Record 41 of Set 6 | ponta do sol\n",
      "Processing Record 42 of Set 6 | poum\n",
      "Processing Record 43 of Set 6 | bengkulu\n",
      "Processing Record 44 of Set 6 | abha\n",
      "Processing Record 45 of Set 6 | colquechaca\n",
      "Processing Record 46 of Set 6 | amboasary\n",
      "Processing Record 47 of Set 6 | oranjemund\n",
      "This city does not exist\n",
      "Processing Record 49 of Set 6 | narsaq\n",
      "Processing Record 50 of Set 6 | clyde river\n",
      "The program paused for 10 seconds\n",
      "Processing Record 1 of Set 7 | san quintin\n",
      "Processing Record 2 of Set 7 | loa janan\n",
      "Processing Record 3 of Set 7 | ostrovnoy\n",
      "Processing Record 4 of Set 7 | skovorodino\n",
      "Processing Record 5 of Set 7 | san diego de la union\n",
      "Processing Record 6 of Set 7 | taoudenni\n",
      "Processing Record 7 of Set 7 | cayenne\n",
      "Processing Record 8 of Set 7 | fortuna\n",
      "Processing Record 9 of Set 7 | mar del plata\n",
      "Processing Record 10 of Set 7 | petropavlovsk-kamchatskiy\n",
      "Processing Record 11 of Set 7 | saldanha\n",
      "Processing Record 12 of Set 7 | kristiansund\n",
      "Processing Record 13 of Set 7 | nantucket\n",
      "Processing Record 14 of Set 7 | vardo\n",
      "Processing Record 15 of Set 7 | tari\n",
      "Processing Record 16 of Set 7 | rosarito\n",
      "Processing Record 17 of Set 7 | abonnema\n",
      "Processing Record 18 of Set 7 | dnestrovsc\n",
      "Processing Record 19 of Set 7 | kisangani\n",
      "Processing Record 20 of Set 7 | avera\n",
      "Processing Record 21 of Set 7 | portland\n",
      "Processing Record 22 of Set 7 | biltine\n",
      "Processing Record 23 of Set 7 | palatka\n",
      "Processing Record 24 of Set 7 | torcy\n",
      "Processing Record 25 of Set 7 | samana\n",
      "Processing Record 26 of Set 7 | kamenka\n",
      "Processing Record 27 of Set 7 | bambous virieux\n",
      "Processing Record 28 of Set 7 | singaparna\n",
      "Processing Record 29 of Set 7 | mananara\n",
      "Processing Record 30 of Set 7 | faxinal\n",
      "Processing Record 31 of Set 7 | ostersund\n",
      "Processing Record 32 of Set 7 | aripuana\n",
      "Processing Record 33 of Set 7 | zonguldak\n",
      "Processing Record 34 of Set 7 | saint-augustin\n",
      "Processing Record 35 of Set 7 | bermeo\n",
      "Processing Record 36 of Set 7 | port shepstone\n",
      "Processing Record 37 of Set 7 | rorvik\n",
      "This city does not exist\n",
      "Processing Record 39 of Set 7 | high level\n",
      "This city does not exist\n",
      "Processing Record 41 of Set 7 | maltahohe\n",
      "Processing Record 42 of Set 7 | guilin\n",
      "Processing Record 43 of Set 7 | raga\n",
      "Processing Record 44 of Set 7 | sao filipe\n",
      "Processing Record 45 of Set 7 | prattville\n",
      "Processing Record 46 of Set 7 | waitati\n",
      "This city does not exist\n",
      "Processing Record 48 of Set 7 | miracema do tocantins\n",
      "Processing Record 49 of Set 7 | lebanon\n",
      "Processing Record 50 of Set 7 | cacapava do sul\n",
      "The program paused for 10 seconds\n",
      "Processing Record 1 of Set 8 | salalah\n",
      "Processing Record 2 of Set 8 | forbes\n",
      "This city does not exist\n",
      "Processing Record 4 of Set 8 | kasempa\n",
      "Processing Record 5 of Set 8 | nkhotakota\n",
      "Processing Record 6 of Set 8 | beloha\n",
      "Processing Record 7 of Set 8 | kawambwa\n",
      "Processing Record 8 of Set 8 | rio grande\n",
      "Processing Record 9 of Set 8 | buraydah\n",
      "Processing Record 10 of Set 8 | brae\n",
      "Processing Record 11 of Set 8 | mont-de-marsan\n",
      "This city does not exist\n",
      "This city does not exist\n",
      "Processing Record 14 of Set 8 | saint-pierre\n",
      "This city does not exist\n",
      "Processing Record 16 of Set 8 | wonthaggi\n",
      "Processing Record 17 of Set 8 | limon\n",
      "Processing Record 18 of Set 8 | dhidhdhoo\n",
      "Processing Record 19 of Set 8 | corowa\n",
      "Processing Record 20 of Set 8 | northam\n",
      "Processing Record 21 of Set 8 | maceio\n",
      "Processing Record 22 of Set 8 | severo-yeniseyskiy\n",
      "Processing Record 23 of Set 8 | kiili\n",
      "Processing Record 24 of Set 8 | marang\n",
      "Processing Record 25 of Set 8 | penzance\n",
      "Processing Record 26 of Set 8 | santona\n",
      "Processing Record 27 of Set 8 | dongsheng\n",
      "Processing Record 28 of Set 8 | wangkui\n",
      "Processing Record 29 of Set 8 | kalaleh\n",
      "Processing Record 30 of Set 8 | asosa\n",
      "Processing Record 31 of Set 8 | vila\n",
      "Processing Record 32 of Set 8 | susangerd\n",
      "Processing Record 33 of Set 8 | half moon bay\n",
      "Processing Record 34 of Set 8 | padang\n",
      "Processing Record 35 of Set 8 | aksay\n",
      "Processing Record 36 of Set 8 | oga\n",
      "Processing Record 37 of Set 8 | beaverton\n",
      "Processing Record 38 of Set 8 | bandar-e lengeh\n",
      "Processing Record 39 of Set 8 | phalombe\n",
      "Processing Record 40 of Set 8 | si bun ruang\n",
      "Processing Record 41 of Set 8 | namtsy\n",
      "Processing Record 42 of Set 8 | tabas\n",
      "This city does not exist\n",
      "Processing Record 44 of Set 8 | dargaville\n",
      "Processing Record 45 of Set 8 | florianopolis\n",
      "Processing Record 46 of Set 8 | omsukchan\n",
      "Processing Record 47 of Set 8 | saquarema\n",
      "Processing Record 48 of Set 8 | hobyo\n",
      "Processing Record 49 of Set 8 | hofn\n",
      "This city does not exist\n",
      "The program paused for 10 seconds\n",
      "Processing Record 1 of Set 9 | ranong\n",
      "Processing Record 2 of Set 9 | bonthe\n",
      "Processing Record 3 of Set 9 | asau\n",
      "Processing Record 4 of Set 9 | charters towers\n",
      "Processing Record 5 of Set 9 | chapais\n",
      "Processing Record 6 of Set 9 | tayu\n",
      "Processing Record 7 of Set 9 | sioux falls\n"
     ]
    },
    {
     "name": "stdout",
     "output_type": "stream",
     "text": [
      "Processing Record 8 of Set 9 | puerto montt\n",
      "Processing Record 9 of Set 9 | garavuti\n",
      "Processing Record 10 of Set 9 | hambantota\n",
      "This city does not exist\n",
      "Processing Record 12 of Set 9 | palia kalan\n",
      "Processing Record 13 of Set 9 | bonavista\n",
      "Processing Record 14 of Set 9 | makasar\n",
      "Processing Record 15 of Set 9 | honiara\n",
      "Processing Record 16 of Set 9 | pacific grove\n",
      "Processing Record 17 of Set 9 | pangnirtung\n",
      "Processing Record 18 of Set 9 | wewak\n",
      "Processing Record 19 of Set 9 | peniche\n",
      "Processing Record 20 of Set 9 | cumberland\n",
      "Processing Record 21 of Set 9 | bulancak\n",
      "Processing Record 22 of Set 9 | salinopolis\n",
      "Processing Record 23 of Set 9 | gornyak\n",
      "Processing Record 24 of Set 9 | nuevo progreso\n",
      "Processing Record 25 of Set 9 | miri\n",
      "Processing Record 26 of Set 9 | brive-la-gaillarde\n",
      "Processing Record 27 of Set 9 | verkhnyaya inta\n",
      "Processing Record 28 of Set 9 | karpathos\n",
      "Processing Record 29 of Set 9 | lere\n",
      "Processing Record 30 of Set 9 | chara\n",
      "Processing Record 31 of Set 9 | mwingi\n",
      "Processing Record 32 of Set 9 | luanda\n",
      "Processing Record 33 of Set 9 | eureka\n",
      "Processing Record 34 of Set 9 | coolum beach\n",
      "This city does not exist\n",
      "Processing Record 36 of Set 9 | sande\n",
      "Processing Record 37 of Set 9 | camocim\n",
      "Processing Record 38 of Set 9 | shahrud\n",
      "Processing Record 39 of Set 9 | aklavik\n",
      "Processing Record 40 of Set 9 | camapua\n",
      "Processing Record 41 of Set 9 | yulara\n",
      "Processing Record 42 of Set 9 | lac du bonnet\n",
      "Processing Record 43 of Set 9 | evensk\n",
      "Processing Record 44 of Set 9 | winnemucca\n",
      "Processing Record 45 of Set 9 | usinsk\n",
      "Processing Record 46 of Set 9 | ambilobe\n",
      "Processing Record 47 of Set 9 | kloulklubed\n",
      "This city does not exist\n",
      "This city does not exist\n",
      "Processing Record 50 of Set 9 | pundaguitan\n",
      "The program paused for 10 seconds\n",
      "Processing Record 1 of Set 10 | pochutla\n",
      "Processing Record 2 of Set 10 | bismarck\n",
      "Processing Record 3 of Set 10 | kambar\n",
      "Processing Record 4 of Set 10 | douglas\n",
      "Processing Record 5 of Set 10 | dudinka\n",
      "Processing Record 6 of Set 10 | saint-joseph\n",
      "Processing Record 7 of Set 10 | mount gambier\n",
      "This city does not exist\n",
      "This city does not exist\n",
      "Processing Record 10 of Set 10 | kuryk\n",
      "Processing Record 11 of Set 10 | ahipara\n",
      "Processing Record 12 of Set 10 | sendafa\n",
      "Processing Record 13 of Set 10 | omutninsk\n",
      "Processing Record 14 of Set 10 | chumikan\n",
      "Processing Record 15 of Set 10 | okha\n",
      "Processing Record 16 of Set 10 | luocheng\n",
      "Processing Record 17 of Set 10 | bandundu\n",
      "This city does not exist\n",
      "Processing Record 19 of Set 10 | lincoln\n",
      "Processing Record 20 of Set 10 | priyutnoye\n",
      "Processing Record 21 of Set 10 | balaipungut\n",
      "Processing Record 22 of Set 10 | sumoto\n",
      "Processing Record 23 of Set 10 | nsanje\n",
      "Processing Record 24 of Set 10 | krasnoborsk\n",
      "Processing Record 25 of Set 10 | shanghai\n",
      "Processing Record 26 of Set 10 | sangar\n",
      "Processing Record 27 of Set 10 | roald\n",
      "Processing Record 28 of Set 10 | okmulgee\n",
      "Processing Record 29 of Set 10 | kavaratti\n",
      "Processing Record 30 of Set 10 | dubbo\n",
      "Processing Record 31 of Set 10 | filadelfia\n",
      "Processing Record 32 of Set 10 | menongue\n",
      "Processing Record 33 of Set 10 | lewistown\n",
      "Processing Record 34 of Set 10 | emba\n",
      "Processing Record 35 of Set 10 | fiumicino\n",
      "Processing Record 36 of Set 10 | roma\n",
      "Processing Record 37 of Set 10 | wanaka\n",
      "Processing Record 38 of Set 10 | laguna\n",
      "Processing Record 39 of Set 10 | iracoubo\n",
      "Processing Record 40 of Set 10 | san ramon\n",
      "Processing Record 41 of Set 10 | ilulissat\n",
      "Processing Record 42 of Set 10 | rondonopolis\n",
      "Processing Record 43 of Set 10 | victor harbor\n",
      "Processing Record 44 of Set 10 | bitkine\n",
      "Processing Record 45 of Set 10 | mezen\n",
      "Processing Record 46 of Set 10 | vikulovo\n",
      "Processing Record 47 of Set 10 | parrita\n",
      "Processing Record 48 of Set 10 | saint-denis\n",
      "Processing Record 49 of Set 10 | ambulu\n",
      "Processing Record 50 of Set 10 | capaci\n",
      "The program paused for 10 seconds\n",
      "Processing Record 1 of Set 11 | marsh harbour\n",
      "Processing Record 2 of Set 11 | mathathane\n",
      "Processing Record 3 of Set 11 | paita\n",
      "Processing Record 4 of Set 11 | sobolevo\n",
      "Processing Record 5 of Set 11 | garca\n",
      "Processing Record 6 of Set 11 | broome\n",
      "Processing Record 7 of Set 11 | baracoa\n",
      "Processing Record 8 of Set 11 | porto novo\n",
      "Processing Record 9 of Set 11 | kantemirovka\n",
      "This city does not exist\n",
      "Processing Record 11 of Set 11 | linxia\n",
      "Processing Record 12 of Set 11 | coquimbo\n",
      "Processing Record 13 of Set 11 | indramayu\n",
      "Processing Record 14 of Set 11 | ludvika\n",
      "Processing Record 15 of Set 11 | dunda\n",
      "Processing Record 16 of Set 11 | noumea\n",
      "Processing Record 17 of Set 11 | bama\n",
      "Processing Record 18 of Set 11 | lakes entrance\n",
      "Processing Record 19 of Set 11 | houma\n",
      "Processing Record 20 of Set 11 | henties bay\n",
      "Processing Record 21 of Set 11 | miranda\n",
      "Processing Record 22 of Set 11 | tiznit\n",
      "Processing Record 23 of Set 11 | kijang\n",
      "Processing Record 24 of Set 11 | labuhan\n",
      "Processing Record 25 of Set 11 | olga\n",
      "This city does not exist\n",
      "Processing Record 27 of Set 11 | youghal\n",
      "Processing Record 28 of Set 11 | iqaluit\n",
      "Processing Record 29 of Set 11 | kremenchuk\n",
      "Processing Record 30 of Set 11 | saint-ambroise\n",
      "Processing Record 31 of Set 11 | itamaraju\n",
      "Processing Record 32 of Set 11 | port macquarie\n",
      "Processing Record 33 of Set 11 | dekar\n",
      "Processing Record 34 of Set 11 | malinovskiy\n",
      "Processing Record 35 of Set 11 | katobu\n",
      "Processing Record 36 of Set 11 | osmaniye\n",
      "Processing Record 37 of Set 11 | adlay\n",
      "Processing Record 38 of Set 11 | praia da vitoria\n",
      "This city does not exist\n",
      "Processing Record 40 of Set 11 | iskateley\n",
      "Processing Record 41 of Set 11 | horsham\n",
      "Processing Record 42 of Set 11 | garza garcia\n",
      "Processing Record 43 of Set 11 | kayseri\n",
      "Processing Record 44 of Set 11 | mutoko\n",
      "Processing Record 45 of Set 11 | soe\n",
      "Processing Record 46 of Set 11 | rawson\n",
      "Processing Record 47 of Set 11 | lichuan\n",
      "This city does not exist\n",
      "Processing Record 49 of Set 11 | santiago del estero\n",
      "Processing Record 50 of Set 11 | aswan\n",
      "The program paused for 10 seconds\n",
      "Processing Record 1 of Set 12 | ketchikan\n",
      "Processing Record 2 of Set 12 | lilongwe\n",
      "Processing Record 3 of Set 12 | innisfail\n",
      "Processing Record 4 of Set 12 | victoria falls\n",
      "Processing Record 5 of Set 12 | porkhov\n",
      "Processing Record 6 of Set 12 | hay river\n",
      "This city does not exist\n",
      "This city does not exist\n",
      "Processing Record 9 of Set 12 | karachi\n",
      "Processing Record 10 of Set 12 | abagur\n",
      "Processing Record 11 of Set 12 | kitchener\n",
      "Processing Record 12 of Set 12 | alta gracia\n",
      "Processing Record 13 of Set 12 | el alto\n",
      "Processing Record 14 of Set 12 | odweyne\n",
      "This city does not exist\n",
      "Processing Record 16 of Set 12 | mananjary\n",
      "Processing Record 17 of Set 12 | tabou\n",
      "Processing Record 18 of Set 12 | paamiut\n",
      "Processing Record 19 of Set 12 | tessalit\n",
      "Processing Record 20 of Set 12 | finote selam\n",
      "Processing Record 21 of Set 12 | ucluelet\n",
      "Processing Record 22 of Set 12 | kargasok\n",
      "Processing Record 23 of Set 12 | tochio\n",
      "Processing Record 24 of Set 12 | daru\n",
      "Processing Record 25 of Set 12 | marawi\n",
      "Processing Record 26 of Set 12 | ozernovskiy\n",
      "Processing Record 27 of Set 12 | griffith\n",
      "Processing Record 28 of Set 12 | severo-kurilsk\n",
      "This city does not exist\n",
      "Processing Record 30 of Set 12 | jalu\n",
      "Processing Record 31 of Set 12 | katete\n",
      "Processing Record 32 of Set 12 | talcahuano\n",
      "Processing Record 33 of Set 12 | maldonado\n",
      "This city does not exist\n",
      "Processing Record 35 of Set 12 | esperance\n",
      "Processing Record 36 of Set 12 | sorland\n",
      "Processing Record 37 of Set 12 | yeppoon\n",
      "Processing Record 38 of Set 12 | mayo\n",
      "Processing Record 39 of Set 12 | alofi\n",
      "This city does not exist\n",
      "Processing Record 41 of Set 12 | capao da canoa\n",
      "Processing Record 42 of Set 12 | madang\n",
      "Processing Record 43 of Set 12 | mezhova\n",
      "Processing Record 44 of Set 12 | christchurch\n",
      "Processing Record 45 of Set 12 | husavik\n",
      "Processing Record 46 of Set 12 | bela\n",
      "Processing Record 47 of Set 12 | qandala\n",
      "Processing Record 48 of Set 12 | kaduqli\n",
      "Processing Record 49 of Set 12 | pangkalanbuun\n",
      "Processing Record 50 of Set 12 | la palma\n",
      "The program paused for 10 seconds\n",
      "Processing Record 1 of Set 13 | tariba\n"
     ]
    }
   ],
   "source": [
    "# Get latitude and temperature for cities\n",
    "cities = cities[0:601]\n",
    "\n",
    "#set up lists to hold reponse info\n",
    "#we need more data than latitude and temp for the hw \n",
    "lat = []\n",
    "temp = []\n",
    "humidity = []\n",
    "cloudiness = []\n",
    "wind_speed = []\n",
    "date = []\n",
    "lng = []\n",
    "cities_list = []\n",
    "country_code = []\n",
    "counter = 0\n",
    "set_list = 1\n",
    "t = 10\n",
    "\n",
    "# Loop through the list of cities and perform a request for data on each\n",
    "for city in cities:\n",
    "    response = requests.get(query_url + city).json()\n",
    "    counter += 1\n",
    "    try:\n",
    "        lat.append(response['coord']['lat'])\n",
    "        lng.append(response['coord']['lon'])\n",
    "        temp.append(response['main']['temp'])\n",
    "        humidity.append(response['main']['humidity'])\n",
    "        cloudiness.append(response['clouds']['all'])\n",
    "        wind_speed.append(response['wind']['speed'])\n",
    "        date.append(response[\"dt\"])\n",
    "        country_code.append(response['sys']['country'])\n",
    "        cities_list.append(city)\n",
    "        print(f'Processing Record {counter} of Set {set_list} | {city}')\n",
    "    except KeyError:\n",
    "        print(\"This city does not exist\")\n",
    "        pass\n",
    "    \n",
    "    if counter >= 50:\n",
    "        time.sleep(t)\n",
    "        counter = 0\n",
    "        set_list += 1\n",
    "        print(f'The program paused for {t} seconds')\n",
    "\n",
    "# # print(f\"The latitude information received is: {lat}\")\n",
    "# # print(f\"The temperature information received is: {temp}\")\n"
   ]
  },
  {
   "cell_type": "code",
   "execution_count": 7,
   "metadata": {
    "ExecuteTime": {
     "end_time": "2020-04-10T22:56:21.346929Z",
     "start_time": "2020-04-10T22:56:21.342837Z"
    }
   },
   "outputs": [
    {
     "name": "stdout",
     "output_type": "stream",
     "text": [
      "551 551 551 551 551 551 551 551\n"
     ]
    }
   ],
   "source": [
    "print(len(cities_list), len(temp), len(humidity),len(cloudiness), len(lat), len(date), len(wind_speed),len(country_code))"
   ]
  },
  {
   "cell_type": "markdown",
   "metadata": {},
   "source": [
    "### Convert Raw Data to DataFrame\n",
    "* Export the city data into a .csv.\n",
    "* Display the DataFrame"
   ]
  },
  {
   "cell_type": "code",
   "execution_count": 9,
   "metadata": {
    "ExecuteTime": {
     "end_time": "2020-04-10T22:56:21.396883Z",
     "start_time": "2020-04-10T22:56:21.357676Z"
    }
   },
   "outputs": [
    {
     "data": {
      "text/html": [
       "<div>\n",
       "<style scoped>\n",
       "    .dataframe tbody tr th:only-of-type {\n",
       "        vertical-align: middle;\n",
       "    }\n",
       "\n",
       "    .dataframe tbody tr th {\n",
       "        vertical-align: top;\n",
       "    }\n",
       "\n",
       "    .dataframe thead th {\n",
       "        text-align: right;\n",
       "    }\n",
       "</style>\n",
       "<table border=\"1\" class=\"dataframe\">\n",
       "  <thead>\n",
       "    <tr style=\"text-align: right;\">\n",
       "      <th></th>\n",
       "      <th>City Name</th>\n",
       "      <th>Country Code</th>\n",
       "      <th>Date (UTC)</th>\n",
       "      <th>Latitude</th>\n",
       "      <th>Longitude</th>\n",
       "      <th>Temperature (F)</th>\n",
       "      <th>Humidity (%)</th>\n",
       "      <th>Cloudiness (%)</th>\n",
       "      <th>Wind Speed (MPH)</th>\n",
       "    </tr>\n",
       "  </thead>\n",
       "  <tbody>\n",
       "    <tr>\n",
       "      <th>0</th>\n",
       "      <td>Port Elizabeth</td>\n",
       "      <td>ZA</td>\n",
       "      <td>2020-04-10 22:51:23</td>\n",
       "      <td>-33.92</td>\n",
       "      <td>25.57</td>\n",
       "      <td>59.00</td>\n",
       "      <td>100</td>\n",
       "      <td>75</td>\n",
       "      <td>3.36</td>\n",
       "    </tr>\n",
       "    <tr>\n",
       "      <th>1</th>\n",
       "      <td>Atuona</td>\n",
       "      <td>PF</td>\n",
       "      <td>2020-04-10 22:53:46</td>\n",
       "      <td>-9.80</td>\n",
       "      <td>-139.03</td>\n",
       "      <td>82.24</td>\n",
       "      <td>78</td>\n",
       "      <td>79</td>\n",
       "      <td>11.10</td>\n",
       "    </tr>\n",
       "    <tr>\n",
       "      <th>2</th>\n",
       "      <td>Vaini</td>\n",
       "      <td>TO</td>\n",
       "      <td>2020-04-10 22:53:46</td>\n",
       "      <td>-21.20</td>\n",
       "      <td>-175.20</td>\n",
       "      <td>80.60</td>\n",
       "      <td>69</td>\n",
       "      <td>40</td>\n",
       "      <td>11.41</td>\n",
       "    </tr>\n",
       "    <tr>\n",
       "      <th>3</th>\n",
       "      <td>Victoria</td>\n",
       "      <td>HK</td>\n",
       "      <td>2020-04-10 22:50:50</td>\n",
       "      <td>22.29</td>\n",
       "      <td>114.16</td>\n",
       "      <td>70.57</td>\n",
       "      <td>88</td>\n",
       "      <td>40</td>\n",
       "      <td>14.99</td>\n",
       "    </tr>\n",
       "    <tr>\n",
       "      <th>4</th>\n",
       "      <td>Aneho</td>\n",
       "      <td>TG</td>\n",
       "      <td>2020-04-10 22:53:46</td>\n",
       "      <td>6.23</td>\n",
       "      <td>1.60</td>\n",
       "      <td>82.40</td>\n",
       "      <td>88</td>\n",
       "      <td>20</td>\n",
       "      <td>4.70</td>\n",
       "    </tr>\n",
       "    <tr>\n",
       "      <th>...</th>\n",
       "      <td>...</td>\n",
       "      <td>...</td>\n",
       "      <td>...</td>\n",
       "      <td>...</td>\n",
       "      <td>...</td>\n",
       "      <td>...</td>\n",
       "      <td>...</td>\n",
       "      <td>...</td>\n",
       "      <td>...</td>\n",
       "    </tr>\n",
       "    <tr>\n",
       "      <th>546</th>\n",
       "      <td>Qandala</td>\n",
       "      <td>SO</td>\n",
       "      <td>2020-04-10 22:56:11</td>\n",
       "      <td>11.47</td>\n",
       "      <td>49.87</td>\n",
       "      <td>82.18</td>\n",
       "      <td>65</td>\n",
       "      <td>0</td>\n",
       "      <td>7.99</td>\n",
       "    </tr>\n",
       "    <tr>\n",
       "      <th>547</th>\n",
       "      <td>Kaduqli</td>\n",
       "      <td>SD</td>\n",
       "      <td>2020-04-10 22:56:11</td>\n",
       "      <td>11.02</td>\n",
       "      <td>29.72</td>\n",
       "      <td>80.11</td>\n",
       "      <td>14</td>\n",
       "      <td>87</td>\n",
       "      <td>2.57</td>\n",
       "    </tr>\n",
       "    <tr>\n",
       "      <th>548</th>\n",
       "      <td>Pangkalanbuun</td>\n",
       "      <td>ID</td>\n",
       "      <td>2020-04-10 22:53:33</td>\n",
       "      <td>-2.68</td>\n",
       "      <td>111.62</td>\n",
       "      <td>77.43</td>\n",
       "      <td>94</td>\n",
       "      <td>98</td>\n",
       "      <td>2.59</td>\n",
       "    </tr>\n",
       "    <tr>\n",
       "      <th>549</th>\n",
       "      <td>La Palma</td>\n",
       "      <td>US</td>\n",
       "      <td>2020-04-10 22:56:11</td>\n",
       "      <td>33.85</td>\n",
       "      <td>-118.05</td>\n",
       "      <td>59.54</td>\n",
       "      <td>48</td>\n",
       "      <td>75</td>\n",
       "      <td>10.29</td>\n",
       "    </tr>\n",
       "    <tr>\n",
       "      <th>550</th>\n",
       "      <td>Tariba</td>\n",
       "      <td>VE</td>\n",
       "      <td>2020-04-10 22:56:21</td>\n",
       "      <td>7.82</td>\n",
       "      <td>-72.22</td>\n",
       "      <td>89.60</td>\n",
       "      <td>55</td>\n",
       "      <td>40</td>\n",
       "      <td>11.41</td>\n",
       "    </tr>\n",
       "  </tbody>\n",
       "</table>\n",
       "<p>551 rows × 9 columns</p>\n",
       "</div>"
      ],
      "text/plain": [
       "          City Name Country Code          Date (UTC)  Latitude  Longitude  \\\n",
       "0    Port Elizabeth           ZA 2020-04-10 22:51:23    -33.92      25.57   \n",
       "1            Atuona           PF 2020-04-10 22:53:46     -9.80    -139.03   \n",
       "2             Vaini           TO 2020-04-10 22:53:46    -21.20    -175.20   \n",
       "3          Victoria           HK 2020-04-10 22:50:50     22.29     114.16   \n",
       "4             Aneho           TG 2020-04-10 22:53:46      6.23       1.60   \n",
       "..              ...          ...                 ...       ...        ...   \n",
       "546         Qandala           SO 2020-04-10 22:56:11     11.47      49.87   \n",
       "547         Kaduqli           SD 2020-04-10 22:56:11     11.02      29.72   \n",
       "548   Pangkalanbuun           ID 2020-04-10 22:53:33     -2.68     111.62   \n",
       "549        La Palma           US 2020-04-10 22:56:11     33.85    -118.05   \n",
       "550          Tariba           VE 2020-04-10 22:56:21      7.82     -72.22   \n",
       "\n",
       "     Temperature (F)  Humidity (%)  Cloudiness (%)  Wind Speed (MPH)  \n",
       "0              59.00           100              75              3.36  \n",
       "1              82.24            78              79             11.10  \n",
       "2              80.60            69              40             11.41  \n",
       "3              70.57            88              40             14.99  \n",
       "4              82.40            88              20              4.70  \n",
       "..               ...           ...             ...               ...  \n",
       "546            82.18            65               0              7.99  \n",
       "547            80.11            14              87              2.57  \n",
       "548            77.43            94              98              2.59  \n",
       "549            59.54            48              75             10.29  \n",
       "550            89.60            55              40             11.41  \n",
       "\n",
       "[551 rows x 9 columns]"
      ]
     },
     "execution_count": 9,
     "metadata": {},
     "output_type": "execute_result"
    }
   ],
   "source": [
    "import datetime\n",
    "city_data = pd.DataFrame({\"City Name\":cities_list,\"Country Code\":country_code,\"Date (UTC)\":date,\"Latitude\":lat, \"Longitude\":lng,\"Temperature (F)\":temp,\"Humidity (%)\":humidity,\"Cloudiness (%)\":cloudiness,\"Wind Speed (MPH)\":wind_speed})\n",
    "city_data[\"City Name\"] = [city.title() for city in city_data[\"City Name\"]]\n",
    "city_data[\"Date (UTC)\"] = [datetime.datetime.utcfromtimestamp(date) for date in city_data[\"Date (UTC)\"]]\n",
    "city_data.to_csv(output_file)\n",
    "city_data"
   ]
  },
  {
   "cell_type": "markdown",
   "metadata": {},
   "source": [
    "### Plotting the Data\n",
    "* Use proper labeling of the plots using plot titles (including date of analysis) and axes labels.\n",
    "* Save the plotted figures as .pngs."
   ]
  },
  {
   "cell_type": "markdown",
   "metadata": {},
   "source": [
    "#### Latitude vs. Temperature Plot"
   ]
  },
  {
   "cell_type": "code",
   "execution_count": 87,
   "metadata": {
    "ExecuteTime": {
     "end_time": "2020-04-10T23:37:32.456111Z",
     "start_time": "2020-04-10T23:37:32.279312Z"
    },
    "scrolled": true
   },
   "outputs": [
    {
     "data": {
      "image/png": "[encoded data removed]",
      "text/plain": [
       "<Figure size 432x288 with 1 Axes>"
      ]
     },
     "metadata": {
      "needs_background": "light"
     },
     "output_type": "display_data"
    }
   ],
   "source": [
    "city_lat = city_data[\"Latitude\"]\n",
    "city_temp = city_data[\"Temperature (F)\"]\n",
    "city_date = city_data[\"Date (UTC)\"]\n",
    "\n",
    "plt.scatter(city_lat,city_temp)\n",
    "plt.xlabel(\"Latitude\")\n",
    "plt.ylabel(\"Temperature (F)\")\n",
    "plt.title(f\"Latitude by Temperature on {city_date[0]} UTC\")\n",
    "plt.savefig(\"../output/Lat_Temp_fig.png\")\n",
    "plt.show()"
   ]
  },
  {
   "cell_type": "code",
   "execution_count": 88,
   "metadata": {
    "ExecuteTime": {
     "end_time": "2020-04-10T23:37:32.504311Z",
     "start_time": "2020-04-10T23:37:32.502006Z"
    }
   },
   "outputs": [],
   "source": [
    "# After each plot add a sentence or too explaining what the code is and analyzing."
   ]
  },
  {
   "cell_type": "markdown",
   "metadata": {},
   "source": [
    "#### Latitude vs. Humidity Plot"
   ]
  },
  {
   "cell_type": "code",
   "execution_count": 89,
   "metadata": {
    "ExecuteTime": {
     "end_time": "2020-04-10T23:37:33.052795Z",
     "start_time": "2020-04-10T23:37:32.861545Z"
    }
   },
   "outputs": [
    {
     "data": {
      "image/png": "[encoded data removed]",
      "text/plain": [
       "<Figure size 432x288 with 1 Axes>"
      ]
     },
     "metadata": {
      "needs_background": "light"
     },
     "output_type": "display_data"
    }
   ],
   "source": [
    "city_humidity = city_data[\"Humidity (%)\"]\n",
    "\n",
    "plt.scatter(city_lat,city_humidity)\n",
    "plt.xlabel(\"Latitude\")\n",
    "plt.ylabel(\"Humidity (%)\")\n",
    "plt.title(f\"Latitude by Humidity on {city_date[0]} UTC\")\n",
    "plt.savefig(\"../output/Lat_Hum_fig.png\")\n",
    "plt.show()"
   ]
  },
  {
   "cell_type": "code",
   "execution_count": 90,
   "metadata": {
    "ExecuteTime": {
     "end_time": "2020-04-10T23:37:33.057050Z",
     "start_time": "2020-04-10T23:37:33.055074Z"
    }
   },
   "outputs": [],
   "source": [
    "# After each plot add a sentence or too explaining what the code is and analyzing."
   ]
  },
  {
   "cell_type": "markdown",
   "metadata": {},
   "source": [
    "#### Latitude vs. Cloudiness Plot"
   ]
  },
  {
   "cell_type": "code",
   "execution_count": 91,
   "metadata": {
    "ExecuteTime": {
     "end_time": "2020-04-10T23:37:33.583117Z",
     "start_time": "2020-04-10T23:37:33.397927Z"
    },
    "scrolled": true
   },
   "outputs": [
    {
     "data": {
      "image/png": "[encoded data removed]",
      "text/plain": [
       "<Figure size 432x288 with 1 Axes>"
      ]
     },
     "metadata": {
      "needs_background": "light"
     },
     "output_type": "display_data"
    }
   ],
   "source": [
    "city_cloudiness = city_data[\"Cloudiness (%)\"]\n",
    "\n",
    "plt.scatter(city_lat,city_cloudiness)\n",
    "plt.xlabel(\"Latitude\")\n",
    "plt.ylabel(\"Cloudiness (%)\")\n",
    "plt.title(f\"Latitude by Cloudiness on {city_date[0]} UTC\")\n",
    "plt.savefig(\"../output/Lat_Cloud_fig.png\")\n",
    "plt.show()"
   ]
  },
  {
   "cell_type": "code",
   "execution_count": 92,
   "metadata": {
    "ExecuteTime": {
     "end_time": "2020-04-10T23:37:33.609370Z",
     "start_time": "2020-04-10T23:37:33.607120Z"
    }
   },
   "outputs": [],
   "source": [
    "# After each plot add a sentence or too explaining what the code is and analyzing."
   ]
  },
  {
   "cell_type": "markdown",
   "metadata": {},
   "source": [
    "#### Latitude vs. Wind Speed Plot"
   ]
  },
  {
   "cell_type": "code",
   "execution_count": 93,
   "metadata": {
    "ExecuteTime": {
     "end_time": "2020-04-10T23:37:34.154267Z",
     "start_time": "2020-04-10T23:37:33.966482Z"
    },
    "scrolled": true
   },
   "outputs": [
    {
     "data": {
      "image/png": "[encoded data removed]",
      "text/plain": [
       "<Figure size 432x288 with 1 Axes>"
      ]
     },
     "metadata": {
      "needs_background": "light"
     },
     "output_type": "display_data"
    }
   ],
   "source": [
    "city_windspeed = city_data[\"Wind Speed (MPH)\"]\n",
    "\n",
    "plt.scatter(city_lat,city_windspeed)\n",
    "plt.xlabel(\"Latitude\")\n",
    "plt.ylabel(\"Wind Speed (MPH)\")\n",
    "plt.title(f\"Latitude by Wind Speed on {city_date[0]} UTC\")\n",
    "plt.savefig(\"../output/Lat_Wind_fig.png\")\n",
    "plt.show()"
   ]
  },
  {
   "cell_type": "code",
   "execution_count": 94,
   "metadata": {
    "ExecuteTime": {
     "end_time": "2020-04-10T23:37:34.157652Z",
     "start_time": "2020-04-10T23:37:34.155877Z"
    }
   },
   "outputs": [],
   "source": [
    "# After each plot add a sentence or too explaining what the code is and analyzing."
   ]
  },
  {
   "cell_type": "markdown",
   "metadata": {},
   "source": [
    "## Linear Regression"
   ]
  },
  {
   "cell_type": "code",
   "execution_count": 19,
   "metadata": {
    "ExecuteTime": {
     "end_time": "2020-04-10T22:56:22.186776Z",
     "start_time": "2020-04-10T22:56:22.179952Z"
    }
   },
   "outputs": [],
   "source": [
    "# Create Northern and Southern Hemisphere DataFrames\n",
    "Northern_hemp = city_data.loc[city_data[\"Latitude\"]>=0,:]\n",
    "Southern_hemp = city_data.loc[city_data[\"Latitude\"]<0,:]\n",
    "\n",
    "#Creating series for variables in the northern hemisphere\n",
    "Northern_city_lat = Northern_hemp[\"Latitude\"]\n",
    "Northern_city_temp = Northern_hemp[\"Temperature (F)\"]\n",
    "Northern_city_hum = Northern_hemp[\"Humidity (%)\"]\n",
    "Northern_city_cloud = Northern_hemp[\"Cloudiness (%)\"]\n",
    "Northern_city_wind = Northern_hemp[\"Wind Speed (MPH)\"]\n",
    "\n",
    "#Creating series for variables in the southern hemisphere\n",
    "Southern_city_lat = Southern_hemp[\"Latitude\"]\n",
    "Southern_city_temp = Southern_hemp[\"Temperature (F)\"]\n",
    "Southern_city_hum = Southern_hemp[\"Humidity (%)\"]\n",
    "Southern_city_cloud = Southern_hemp[\"Cloudiness (%)\"]\n",
    "Southern_city_wind = Southern_hemp[\"Wind Speed (MPH)\"]\n"
   ]
  },
  {
   "cell_type": "code",
   "execution_count": 68,
   "metadata": {
    "ExecuteTime": {
     "end_time": "2020-04-10T23:31:08.456977Z",
     "start_time": "2020-04-10T23:31:08.450631Z"
    }
   },
   "outputs": [],
   "source": [
    "# OPTIONAL: Create a function to create Linear Regression plots\n",
    "def linearregression(x_values,y_values,x_label,y_label,x_annotate,y_annotate):\n",
    "    (slope, intercept, rvalue, pvalue, stderr) = linregress(x_values, y_values)\n",
    "    regress_values = x_values * slope + intercept\n",
    "    line_eq = f\"y = {round(slope,2)}x + {round(intercept,2)}\"\n",
    "    plt.scatter(x_values,y_values)\n",
    "    plt.plot(x_values,regress_values,\"r-\")\n",
    "    plt.annotate(line_eq,(x_annotate,y_annotate),fontsize=15,color=\"red\")\n",
    "    plt.xlabel(x_label)\n",
    "    plt.ylabel(y_label)\n",
    "    plt.xlim(min(x_values)-2,max(x_values)+2)\n",
    "    plt.ylim(min(y_values)-2,max(y_values)+2)\n",
    "    if x_annotate >= 0:\n",
    "        hemisphere_name = \"Northern\"\n",
    "    else:\n",
    "        hemisphere_name = \"Southern\"\n",
    "    plt.title(f'{x_label} vs. {y_label} in the {hemisphere_name} Hemisphere')\n",
    "    print(f\"The r-squared is: {round(rvalue**2,2)}\")\n",
    "    print(line_eq)\n",
    "    plt.show()\n"
   ]
  },
  {
   "cell_type": "markdown",
   "metadata": {},
   "source": [
    "####  Northern Hemisphere - Max Temp vs. Latitude Linear Regression"
   ]
  },
  {
   "cell_type": "code",
   "execution_count": 69,
   "metadata": {
    "ExecuteTime": {
     "end_time": "2020-04-10T23:31:09.541214Z",
     "start_time": "2020-04-10T23:31:09.398370Z"
    },
    "scrolled": true
   },
   "outputs": [
    {
     "name": "stdout",
     "output_type": "stream",
     "text": [
      "The r-squared is: 0.83\n",
      "y = -1.0x + 91.88\n"
     ]
    },
    {
     "data": {
      "image/png": "[encoded data removed]",
      "text/plain": [
       "<Figure size 432x288 with 1 Axes>"
      ]
     },
     "metadata": {
      "needs_background": "light"
     },
     "output_type": "display_data"
    }
   ],
   "source": [
    "linearregression(Northern_city_lat,Northern_city_temp,\"Latitude\",\"Wind Speed (MPH)\",10,0)"
   ]
  },
  {
   "cell_type": "code",
   "execution_count": 70,
   "metadata": {
    "ExecuteTime": {
     "end_time": "2020-04-10T23:31:11.560439Z",
     "start_time": "2020-04-10T23:31:11.558482Z"
    }
   },
   "outputs": [],
   "source": [
    "#After each pair of plots explain what the linear regression is modeling\n",
    "#such as any relationships you notice and any other analysis you may have."
   ]
  },
  {
   "cell_type": "markdown",
   "metadata": {},
   "source": [
    "####  Southern Hemisphere - Max Temp vs. Latitude Linear Regression"
   ]
  },
  {
   "cell_type": "code",
   "execution_count": 71,
   "metadata": {
    "ExecuteTime": {
     "end_time": "2020-04-10T23:31:12.371678Z",
     "start_time": "2020-04-10T23:31:12.222483Z"
    },
    "scrolled": true
   },
   "outputs": [
    {
     "name": "stdout",
     "output_type": "stream",
     "text": [
      "The r-squared is: 0.46\n",
      "y = 0.52x + 79.95\n"
     ]
    },
    {
     "data": {
      "image/png": "[encoded data removed]",
      "text/plain": [
       "<Figure size 432x288 with 1 Axes>"
      ]
     },
     "metadata": {
      "needs_background": "light"
     },
     "output_type": "display_data"
    }
   ],
   "source": [
    "linearregression(Southern_city_lat,Southern_city_temp,\"Latitude\", \"Temperature (F)\",-50,85)\n"
   ]
  },
  {
   "cell_type": "code",
   "execution_count": 72,
   "metadata": {
    "ExecuteTime": {
     "end_time": "2020-04-10T23:31:13.936080Z",
     "start_time": "2020-04-10T23:31:13.934156Z"
    }
   },
   "outputs": [],
   "source": [
    "#After each pair of plots explain what the linear regression is modeling\n",
    "#such as any relationships you notice and any other analysis you may have."
   ]
  },
  {
   "cell_type": "markdown",
   "metadata": {},
   "source": [
    "####  Northern Hemisphere - Humidity (%) vs. Latitude Linear Regression"
   ]
  },
  {
   "cell_type": "code",
   "execution_count": 76,
   "metadata": {
    "ExecuteTime": {
     "end_time": "2020-04-10T23:31:28.190051Z",
     "start_time": "2020-04-10T23:31:28.044929Z"
    },
    "scrolled": true
   },
   "outputs": [
    {
     "name": "stdout",
     "output_type": "stream",
     "text": [
      "The r-squared is: 0.1\n",
      "y = 0.36x + 51.25\n"
     ]
    },
    {
     "data": {
      "image/png": "[encoded data removed]",
      "text/plain": [
       "<Figure size 432x288 with 1 Axes>"
      ]
     },
     "metadata": {
      "needs_background": "light"
     },
     "output_type": "display_data"
    }
   ],
   "source": [
    "linearregression(Northern_city_lat,Northern_city_hum,\"Latitude\",\"Humidity (%)\",45,12)"
   ]
  },
  {
   "cell_type": "code",
   "execution_count": 77,
   "metadata": {
    "ExecuteTime": {
     "end_time": "2020-04-10T23:31:30.621589Z",
     "start_time": "2020-04-10T23:31:30.619715Z"
    }
   },
   "outputs": [],
   "source": [
    "#After each pair of plots explain what the linear regression is modeling\n",
    "#such as any relationships you notice and any other analysis you may have."
   ]
  },
  {
   "cell_type": "markdown",
   "metadata": {},
   "source": [
    "####  Southern Hemisphere - Humidity (%) vs. Latitude Linear Regression"
   ]
  },
  {
   "cell_type": "code",
   "execution_count": 78,
   "metadata": {
    "ExecuteTime": {
     "end_time": "2020-04-10T23:31:31.125343Z",
     "start_time": "2020-04-10T23:31:30.988246Z"
    },
    "scrolled": true
   },
   "outputs": [
    {
     "name": "stdout",
     "output_type": "stream",
     "text": [
      "The r-squared is: 0.01\n",
      "y = 0.1x + 76.14\n"
     ]
    },
    {
     "data": {
      "image/png": "[encoded data removed]",
      "text/plain": [
       "<Figure size 432x288 with 1 Axes>"
      ]
     },
     "metadata": {
      "needs_background": "light"
     },
     "output_type": "display_data"
    }
   ],
   "source": [
    "linearregression(Southern_city_lat,Southern_city_hum,\"Latitude\",\"Humidity (%)\",-50,20)"
   ]
  },
  {
   "cell_type": "code",
   "execution_count": 79,
   "metadata": {
    "ExecuteTime": {
     "end_time": "2020-04-10T23:31:32.804371Z",
     "start_time": "2020-04-10T23:31:32.802354Z"
    }
   },
   "outputs": [],
   "source": [
    "#After each pair of plots explain what the linear regression is modeling\n",
    "#such as any relationships you notice and any other analysis you may have."
   ]
  },
  {
   "cell_type": "markdown",
   "metadata": {},
   "source": [
    "####  Northern Hemisphere - Cloudiness (%) vs. Latitude Linear Regression"
   ]
  },
  {
   "cell_type": "code",
   "execution_count": 80,
   "metadata": {
    "ExecuteTime": {
     "end_time": "2020-04-10T23:31:33.646545Z",
     "start_time": "2020-04-10T23:31:33.500581Z"
    },
    "scrolled": true
   },
   "outputs": [
    {
     "name": "stdout",
     "output_type": "stream",
     "text": [
      "The r-squared is: 0.01\n",
      "y = 0.18x + 42.62\n"
     ]
    },
    {
     "data": {
      "image/png": "[encoded data removed]",
      "text/plain": [
       "<Figure size 432x288 with 1 Axes>"
      ]
     },
     "metadata": {
      "needs_background": "light"
     },
     "output_type": "display_data"
    }
   ],
   "source": [
    "linearregression(Northern_city_lat,Northern_city_cloud,\"Latitude\",\"Cloudiness (%)\",10,60)"
   ]
  },
  {
   "cell_type": "code",
   "execution_count": 81,
   "metadata": {
    "ExecuteTime": {
     "end_time": "2020-04-10T23:31:34.789425Z",
     "start_time": "2020-04-10T23:31:34.787407Z"
    }
   },
   "outputs": [],
   "source": [
    "#After each pair of plots explain what the linear regression is modeling\n",
    "#such as any relationships you notice and any other analysis you may have."
   ]
  },
  {
   "cell_type": "markdown",
   "metadata": {},
   "source": [
    "####  Southern Hemisphere - Cloudiness (%) vs. Latitude Linear Regression"
   ]
  },
  {
   "cell_type": "code",
   "execution_count": 82,
   "metadata": {
    "ExecuteTime": {
     "end_time": "2020-04-10T23:31:35.559702Z",
     "start_time": "2020-04-10T23:31:35.420052Z"
    },
    "scrolled": true
   },
   "outputs": [
    {
     "name": "stdout",
     "output_type": "stream",
     "text": [
      "The r-squared is: 0.06\n",
      "y = 0.61x + 60.9\n"
     ]
    },
    {
     "data": {
      "image/png": "[encoded data removed]",
      "text/plain": [
       "<Figure size 432x288 with 1 Axes>"
      ]
     },
     "metadata": {
      "needs_background": "light"
     },
     "output_type": "display_data"
    }
   ],
   "source": [
    "linearregression(Southern_city_lat,Southern_city_cloud,\"Latitude\",\"Cloudiness (%)\",-56,93)"
   ]
  },
  {
   "cell_type": "code",
   "execution_count": 83,
   "metadata": {
    "ExecuteTime": {
     "end_time": "2020-04-10T23:31:37.189994Z",
     "start_time": "2020-04-10T23:31:37.187869Z"
    }
   },
   "outputs": [],
   "source": [
    "#After each pair of plots explain what the linear regression is modeling\n",
    "#such as any relationships you notice and any other analysis you may have."
   ]
  },
  {
   "cell_type": "markdown",
   "metadata": {},
   "source": [
    "####  Northern Hemisphere - Wind Speed (mph) vs. Latitude Linear Regression"
   ]
  },
  {
   "cell_type": "code",
   "execution_count": 84,
   "metadata": {
    "ExecuteTime": {
     "end_time": "2020-04-10T23:31:37.785439Z",
     "start_time": "2020-04-10T23:31:37.636783Z"
    },
    "scrolled": true
   },
   "outputs": [
    {
     "name": "stdout",
     "output_type": "stream",
     "text": [
      "The r-squared is: 0.05\n",
      "y = 0.07x + 6.34\n"
     ]
    },
    {
     "data": {
      "image/png": "[encoded data removed]",
      "text/plain": [
       "<Figure size 432x288 with 1 Axes>"
      ]
     },
     "metadata": {
      "needs_background": "light"
     },
     "output_type": "display_data"
    }
   ],
   "source": [
    "linearregression(Northern_city_lat,Northern_city_wind,\"Latitude\",\"Wind Speed (MPH)\",10,30)"
   ]
  },
  {
   "cell_type": "code",
   "execution_count": 85,
   "metadata": {
    "ExecuteTime": {
     "end_time": "2020-04-10T23:31:38.926340Z",
     "start_time": "2020-04-10T23:31:38.924260Z"
    }
   },
   "outputs": [],
   "source": [
    "#After each pair of plots explain what the linear regression is modeling\n",
    "#such as any relationships you notice and any other analysis you may have."
   ]
  },
  {
   "cell_type": "markdown",
   "metadata": {},
   "source": [
    "####  Southern Hemisphere - Wind Speed (mph) vs. Latitude Linear Regression"
   ]
  },
  {
   "cell_type": "code",
   "execution_count": 86,
   "metadata": {
    "ExecuteTime": {
     "end_time": "2020-04-10T23:31:39.428716Z",
     "start_time": "2020-04-10T23:31:39.285280Z"
    },
    "scrolled": true
   },
   "outputs": [
    {
     "name": "stdout",
     "output_type": "stream",
     "text": [
      "The r-squared is: 0.04\n",
      "y = -0.07x + 5.02\n"
     ]
    },
    {
     "data": {
      "image/png": "[encoded data removed]",
      "text/plain": [
       "<Figure size 432x288 with 1 Axes>"
      ]
     },
     "metadata": {
      "needs_background": "light"
     },
     "output_type": "display_data"
    }
   ],
   "source": [
    "linearregression(Southern_city_lat,Southern_city_wind,\"Latitude\",\"Wind Speed (MPH)\",-50,23)"
   ]
  },
  {
   "cell_type": "code",
   "execution_count": 36,
   "metadata": {
    "ExecuteTime": {
     "end_time": "2020-04-10T22:56:23.367520Z",
     "start_time": "2020-04-10T22:56:23.365280Z"
    }
   },
   "outputs": [],
   "source": [
    "#After each pair of plots explain what the linear regression is modeling\n",
    "#such as any relationships you notice and any other analysis you may have."
   ]
  },
  {
   "cell_type": "code",
   "execution_count": null,
   "metadata": {},
   "outputs": [],
   "source": []
  },
  {
   "cell_type": "code",
   "execution_count": null,
   "metadata": {},
   "outputs": [],
   "source": []
  }
 ],
 "metadata": {
  "anaconda-cloud": {},
  "kernel_info": {
   "name": "python3"
  },
  "kernelspec": {
   "display_name": "Python 3",
   "language": "python",
   "name": "python3"
  },
  "language_info": {
   "codemirror_mode": {
    "name": "ipython",
    "version": 3
   },
   "file_extension": ".py",
   "mimetype": "text/x-python",
   "name": "python",
   "nbconvert_exporter": "python",
   "pygments_lexer": "ipython3",
   "version": "3.6.10"
  },
  "latex_envs": {
   "LaTeX_envs_menu_present": true,
   "autoclose": false,
   "autocomplete": true,
   "bibliofile": "biblio.bib",
   "cite_by": "apalike",
   "current_citInitial": 1,
   "eqLabelWithNumbers": true,
   "eqNumInitial": 1,
   "hotkeys": {
    "equation": "Ctrl-E",
    "itemize": "Ctrl-I"
   },
   "labels_anchors": false,
   "latex_user_defs": false,
   "report_style_numbering": false,
   "user_envs_cfg": false
  },
  "nteract": {
   "version": "0.12.3"
  }
 },
 "nbformat": 4,
 "nbformat_minor": 2
}
