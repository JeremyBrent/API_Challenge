{
 "cells": [
  {
   "cell_type": "markdown",
   "metadata": {},
   "source": [
    "# WeatherPy\n",
    "----\n",
    "\n",
    "#### Note\n",
    "* Instructions have been included for each segment. You do not have to follow them exactly, but they are included to help you think through the steps."
   ]
  },
  {
   "cell_type": "code",
   "execution_count": 2,
   "metadata": {
    "ExecuteTime": {
     "end_time": "2020-04-06T06:26:51.176184Z",
     "start_time": "2020-04-06T06:26:49.459847Z"
    },
    "scrolled": true
   },
   "outputs": [],
   "source": [
    "# Dependencies and Setup\n",
    "import matplotlib.pyplot as plt\n",
    "import pandas as pd\n",
    "import numpy as np\n",
    "import requests\n",
    "import time\n",
    "from scipy.stats import linregress\n",
    "import os \n",
    "\n",
    "# Import API key\n",
    "from api_keys import weather_api_key\n",
    "\n",
    "# Incorporated citipy to determine city based on latitude and longitude\n",
    "from citipy import citipy\n",
    "\n",
    "# Output File (CSV)\n",
    "output_data_file = os.path.join(\"..\",\"output_data\",\"cities.csv\")\n",
    "\n",
    "# Range of latitudes and longitudes\n",
    "lat_range = (-90, 90)\n",
    "lng_range = (-180, 180)\n"
   ]
  },
  {
   "cell_type": "markdown",
   "metadata": {},
   "source": [
    "## Generate Cities List"
   ]
  },
  {
   "cell_type": "code",
   "execution_count": 3,
   "metadata": {
    "ExecuteTime": {
     "end_time": "2020-04-06T06:26:51.947348Z",
     "start_time": "2020-04-06T06:26:51.177920Z"
    }
   },
   "outputs": [
    {
     "data": {
      "text/plain": [
       "599"
      ]
     },
     "execution_count": 3,
     "metadata": {},
     "output_type": "execute_result"
    }
   ],
   "source": [
    "# List for holding lat_lngs and cities\n",
    "lat_lngs = []\n",
    "cities = []\n",
    "\n",
    "# Create a set of random lat and lng combinations\n",
    "lats = np.random.uniform(low=-90.000, high=90.000, size=1500)\n",
    "lngs = np.random.uniform(low=-180.000, high=180.000, size=1500)\n",
    "lat_lngs = zip(lats, lngs)\n",
    "\n",
    "# Identify nearest city for each lat, lng combination\n",
    "for lat_lng in lat_lngs:\n",
    "    city = citipy.nearest_city(lat_lng[0], lat_lng[1]).city_name\n",
    "    \n",
    "    # If the city is unique, then add it to a our cities list\n",
    "    if city not in cities:\n",
    "        cities.append(city)\n",
    "\n",
    "# Print the city count to confirm sufficient count\n",
    "len(cities)\n"
   ]
  },
  {
   "cell_type": "markdown",
   "metadata": {},
   "source": [
    "### Perform API Calls\n",
    "* Perform a weather check on each city using a series of successive API calls.\n",
    "* Include a print log of each city as it'sbeing processed (with the city number and city name).\n"
   ]
  },
  {
   "cell_type": "code",
   "execution_count": 4,
   "metadata": {
    "ExecuteTime": {
     "end_time": "2020-04-06T06:26:51.951515Z",
     "start_time": "2020-04-06T06:26:51.949697Z"
    }
   },
   "outputs": [],
   "source": [
    "#Loop through the cities list and add each city to the URL in the request\n",
    "#loop through one city at a time and make sure the code works"
   ]
  },
  {
   "cell_type": "code",
   "execution_count": 5,
   "metadata": {
    "ExecuteTime": {
     "end_time": "2020-04-06T06:26:51.956828Z",
     "start_time": "2020-04-06T06:26:51.954092Z"
    }
   },
   "outputs": [],
   "source": [
    "# Save config information.\n",
    "url = \"http://api.openweathermap.org/data/2.5/weather?\"\n",
    "units = \"imperial\"\n",
    "\n",
    "# Build partial query URL\n",
    "query_url = f\"{url}appid={weather_api_key}&units={units}&q=\""
   ]
  },
  {
   "cell_type": "code",
   "execution_count": 6,
   "metadata": {
    "ExecuteTime": {
     "end_time": "2020-04-06T06:27:17.775169Z",
     "start_time": "2020-04-06T06:26:51.958281Z"
    }
   },
   "outputs": [
    {
     "name": "stdout",
     "output_type": "stream",
     "text": [
      "Processing Record 1 of Set 1 | rocha\n",
      "Processing Record 2 of Set 1 | hermanus\n",
      "Processing Record 3 of Set 1 | upernavik\n",
      "Processing Record 4 of Set 1 | albany\n",
      "Processing Record 5 of Set 1 | barrow\n",
      "This city does not exist\n",
      "Processing Record 7 of Set 1 | hambantota\n",
      "Processing Record 8 of Set 1 | severo-kurilsk\n",
      "Processing Record 9 of Set 1 | puerto varas\n",
      "Processing Record 10 of Set 1 | cabo san lucas\n",
      "Processing Record 11 of Set 1 | guerrero negro\n",
      "Processing Record 12 of Set 1 | new norfolk\n",
      "Processing Record 13 of Set 1 | kavieng\n",
      "Processing Record 14 of Set 1 | merauke\n",
      "Processing Record 15 of Set 1 | coihaique\n",
      "Processing Record 16 of Set 1 | georgetown\n",
      "Processing Record 17 of Set 1 | klaksvik\n",
      "Processing Record 18 of Set 1 | los llanos de aridane\n",
      "Processing Record 19 of Set 1 | les cayes\n",
      "This city does not exist\n",
      "Processing Record 21 of Set 1 | lebu\n",
      "Processing Record 22 of Set 1 | kieta\n",
      "Processing Record 23 of Set 1 | fortuna\n",
      "Processing Record 24 of Set 1 | punta arenas\n",
      "Processing Record 25 of Set 1 | isangel\n",
      "Processing Record 26 of Set 1 | puerto ayora\n",
      "Processing Record 27 of Set 1 | iqaluit\n",
      "Processing Record 28 of Set 1 | caravelas\n",
      "Processing Record 29 of Set 1 | kapaa\n",
      "Processing Record 30 of Set 1 | lisakovsk\n",
      "Processing Record 31 of Set 1 | mahebourg\n",
      "Processing Record 32 of Set 1 | tiksi\n",
      "This city does not exist\n",
      "Processing Record 34 of Set 1 | dikson\n",
      "Processing Record 35 of Set 1 | khromtau\n",
      "Processing Record 36 of Set 1 | aquin\n",
      "Processing Record 37 of Set 1 | qaanaaq\n",
      "Processing Record 38 of Set 1 | shelburne\n",
      "Processing Record 39 of Set 1 | whyalla\n",
      "Processing Record 40 of Set 1 | avarua\n",
      "Processing Record 41 of Set 1 | jiaocheng\n",
      "Processing Record 42 of Set 1 | rikitea\n",
      "Processing Record 43 of Set 1 | yellowknife\n",
      "This city does not exist\n",
      "Processing Record 45 of Set 1 | portage\n",
      "Processing Record 46 of Set 1 | avera\n",
      "Processing Record 47 of Set 1 | talnakh\n",
      "Processing Record 48 of Set 1 | pacific grove\n",
      "Processing Record 49 of Set 1 | bredasdorp\n",
      "Processing Record 50 of Set 1 | busselton\n",
      "The program paused for 10 seconds\n",
      "Processing Record 1 of Set 2 | hithadhoo\n",
      "Processing Record 2 of Set 2 | comodoro rivadavia\n",
      "Processing Record 3 of Set 2 | ibra\n",
      "Processing Record 4 of Set 2 | hofn\n",
      "Processing Record 5 of Set 2 | east london\n",
      "Processing Record 6 of Set 2 | san patricio\n",
      "Processing Record 7 of Set 2 | faya\n",
      "Processing Record 8 of Set 2 | chaman\n",
      "This city does not exist\n",
      "Processing Record 10 of Set 2 | qianan\n",
      "Processing Record 11 of Set 2 | itarema\n",
      "Processing Record 12 of Set 2 | atuona\n",
      "Processing Record 13 of Set 2 | hilo\n",
      "Processing Record 14 of Set 2 | bluff\n",
      "Processing Record 15 of Set 2 | cape town\n",
      "Processing Record 16 of Set 2 | port alfred\n",
      "Processing Record 17 of Set 2 | nelson bay\n",
      "Processing Record 18 of Set 2 | samfya\n",
      "Processing Record 19 of Set 2 | castro\n",
      "Processing Record 20 of Set 2 | port elizabeth\n",
      "Processing Record 21 of Set 2 | salamanca\n",
      "This city does not exist\n",
      "This city does not exist\n",
      "Processing Record 24 of Set 2 | whitehorse\n",
      "Processing Record 25 of Set 2 | souillac\n",
      "Processing Record 26 of Set 2 | wejherowo\n",
      "Processing Record 27 of Set 2 | saskylakh\n",
      "Processing Record 28 of Set 2 | burgos\n",
      "Processing Record 29 of Set 2 | asyut\n",
      "Processing Record 30 of Set 2 | urumqi\n",
      "Processing Record 31 of Set 2 | norman wells\n",
      "This city does not exist\n",
      "Processing Record 33 of Set 2 | roebourne\n",
      "This city does not exist\n",
      "Processing Record 35 of Set 2 | vaini\n",
      "This city does not exist\n",
      "Processing Record 37 of Set 2 | chernyshevskiy\n",
      "Processing Record 38 of Set 2 | belize\n",
      "Processing Record 39 of Set 2 | khatanga\n",
      "Processing Record 40 of Set 2 | kiunga\n",
      "Processing Record 41 of Set 2 | berlevag\n",
      "Processing Record 42 of Set 2 | xining\n",
      "Processing Record 43 of Set 2 | santiago del estero\n",
      "Processing Record 44 of Set 2 | riyadh\n",
      "Processing Record 45 of Set 2 | baghdad\n",
      "Processing Record 46 of Set 2 | sangin\n",
      "Processing Record 47 of Set 2 | aljezur\n",
      "Processing Record 48 of Set 2 | lebedinyy\n",
      "Processing Record 49 of Set 2 | trenggalek\n",
      "This city does not exist\n",
      "The program paused for 10 seconds\n"
     ]
    }
   ],
   "source": [
    "# Get latitude and temperature for cities\n",
    "cities = cities[0:100]\n",
    "# set up lists to hold reponse info\n",
    "# we need more data than latitude and temp for the hw \n",
    "lat = []\n",
    "temp = []\n",
    "humidity = []\n",
    "cloudiness = []\n",
    "wind_speed = []\n",
    "date = []\n",
    "cities_list = []\n",
    "counter = 0\n",
    "set_list = 1\n",
    "t = 10\n",
    "# Loop through the list of cities and perform a request for data on each\n",
    "for city in cities:\n",
    "    response = requests.get(query_url + city).json()\n",
    "    counter += 1\n",
    "    try:\n",
    "        cities_list.append(city)\n",
    "        lat.append(response['coord']['lat'])\n",
    "        temp.append(response['main']['temp'])\n",
    "        humidity.append(response['main']['humidity'])\n",
    "        cloudiness.append(response['clouds']['all'])\n",
    "        wind_speed.append(response['wind']['speed'])\n",
    "        date.append(response[\"dt\"])\n",
    "        print(f'Processing Record {counter} of Set {set_list} | {city}')\n",
    "    except KeyError:\n",
    "        print(\"This city does not exist\")\n",
    "        cities_list.remove(city)\n",
    "        pass\n",
    "    \n",
    "    if counter >= 50:\n",
    "        time.sleep(t)\n",
    "        counter = 0\n",
    "        set_list += 1\n",
    "        print(f'The program paused for {t} seconds')\n",
    "\n",
    "# print(f\"The latitude information received is: {lat}\")\n",
    "# print(f\"The temperature information received is: {temp}\")\n"
   ]
  },
  {
   "cell_type": "code",
   "execution_count": 7,
   "metadata": {
    "ExecuteTime": {
     "end_time": "2020-04-06T06:27:17.781635Z",
     "start_time": "2020-04-06T06:27:17.777785Z"
    }
   },
   "outputs": [
    {
     "name": "stdout",
     "output_type": "stream",
     "text": [
      "89 89 89 89 89 89 89\n"
     ]
    }
   ],
   "source": [
    "print(len(cities_list), len(temp), len(humidity),len(cloudiness), len(lat), len(date), len(wind_speed))"
   ]
  },
  {
   "cell_type": "markdown",
   "metadata": {},
   "source": [
    "### Convert Raw Data to DataFrame\n",
    "* Export the city data into a .csv.\n",
    "* Display the DataFrame"
   ]
  },
  {
   "cell_type": "code",
   "execution_count": 8,
   "metadata": {
    "ExecuteTime": {
     "end_time": "2020-04-06T06:27:17.785755Z",
     "start_time": "2020-04-06T06:27:17.783674Z"
    }
   },
   "outputs": [],
   "source": [
    "#df.to_csv(output_data_file)"
   ]
  },
  {
   "cell_type": "code",
   "execution_count": 9,
   "metadata": {
    "ExecuteTime": {
     "end_time": "2020-04-06T06:27:17.822218Z",
     "start_time": "2020-04-06T06:27:17.789680Z"
    }
   },
   "outputs": [
    {
     "data": {
      "text/html": [
       "<div>\n",
       "<style scoped>\n",
       "    .dataframe tbody tr th:only-of-type {\n",
       "        vertical-align: middle;\n",
       "    }\n",
       "\n",
       "    .dataframe tbody tr th {\n",
       "        vertical-align: top;\n",
       "    }\n",
       "\n",
       "    .dataframe thead th {\n",
       "        text-align: right;\n",
       "    }\n",
       "</style>\n",
       "<table border=\"1\" class=\"dataframe\">\n",
       "  <thead>\n",
       "    <tr style=\"text-align: right;\">\n",
       "      <th></th>\n",
       "      <th>City Name</th>\n",
       "      <th>Date (UTC)</th>\n",
       "      <th>Latitude</th>\n",
       "      <th>Temperature (F)</th>\n",
       "      <th>Humidity (%)</th>\n",
       "      <th>Cloudiness (%)</th>\n",
       "      <th>Wind Speed (MPH)</th>\n",
       "    </tr>\n",
       "  </thead>\n",
       "  <tbody>\n",
       "    <tr>\n",
       "      <th>0</th>\n",
       "      <td>Rocha</td>\n",
       "      <td>2020-04-06 06:22:26</td>\n",
       "      <td>-34.48</td>\n",
       "      <td>62.19</td>\n",
       "      <td>74</td>\n",
       "      <td>96</td>\n",
       "      <td>7.25</td>\n",
       "    </tr>\n",
       "    <tr>\n",
       "      <th>1</th>\n",
       "      <td>Hermanus</td>\n",
       "      <td>2020-04-06 06:26:52</td>\n",
       "      <td>-34.42</td>\n",
       "      <td>57.99</td>\n",
       "      <td>93</td>\n",
       "      <td>76</td>\n",
       "      <td>5.01</td>\n",
       "    </tr>\n",
       "    <tr>\n",
       "      <th>2</th>\n",
       "      <td>Upernavik</td>\n",
       "      <td>2020-04-06 06:26:52</td>\n",
       "      <td>72.79</td>\n",
       "      <td>12.29</td>\n",
       "      <td>80</td>\n",
       "      <td>96</td>\n",
       "      <td>5.79</td>\n",
       "    </tr>\n",
       "    <tr>\n",
       "      <th>3</th>\n",
       "      <td>Albany</td>\n",
       "      <td>2020-04-06 06:22:00</td>\n",
       "      <td>42.60</td>\n",
       "      <td>42.46</td>\n",
       "      <td>65</td>\n",
       "      <td>20</td>\n",
       "      <td>6.93</td>\n",
       "    </tr>\n",
       "    <tr>\n",
       "      <th>4</th>\n",
       "      <td>Barrow</td>\n",
       "      <td>2020-04-06 06:26:52</td>\n",
       "      <td>71.29</td>\n",
       "      <td>19.40</td>\n",
       "      <td>85</td>\n",
       "      <td>90</td>\n",
       "      <td>14.99</td>\n",
       "    </tr>\n",
       "    <tr>\n",
       "      <th>...</th>\n",
       "      <td>...</td>\n",
       "      <td>...</td>\n",
       "      <td>...</td>\n",
       "      <td>...</td>\n",
       "      <td>...</td>\n",
       "      <td>...</td>\n",
       "      <td>...</td>\n",
       "    </tr>\n",
       "    <tr>\n",
       "      <th>84</th>\n",
       "      <td>Baghdad</td>\n",
       "      <td>2020-04-06 06:22:24</td>\n",
       "      <td>33.34</td>\n",
       "      <td>77.00</td>\n",
       "      <td>31</td>\n",
       "      <td>75</td>\n",
       "      <td>12.75</td>\n",
       "    </tr>\n",
       "    <tr>\n",
       "      <th>85</th>\n",
       "      <td>Sangin</td>\n",
       "      <td>2020-04-06 06:27:07</td>\n",
       "      <td>32.07</td>\n",
       "      <td>70.90</td>\n",
       "      <td>25</td>\n",
       "      <td>0</td>\n",
       "      <td>8.08</td>\n",
       "    </tr>\n",
       "    <tr>\n",
       "      <th>86</th>\n",
       "      <td>Aljezur</td>\n",
       "      <td>2020-04-06 06:27:07</td>\n",
       "      <td>37.32</td>\n",
       "      <td>57.99</td>\n",
       "      <td>95</td>\n",
       "      <td>99</td>\n",
       "      <td>2.82</td>\n",
       "    </tr>\n",
       "    <tr>\n",
       "      <th>87</th>\n",
       "      <td>Lebedinyy</td>\n",
       "      <td>2020-04-06 06:27:07</td>\n",
       "      <td>58.52</td>\n",
       "      <td>27.81</td>\n",
       "      <td>78</td>\n",
       "      <td>100</td>\n",
       "      <td>14.67</td>\n",
       "    </tr>\n",
       "    <tr>\n",
       "      <th>88</th>\n",
       "      <td>Trenggalek</td>\n",
       "      <td>2020-04-06 06:27:07</td>\n",
       "      <td>-8.05</td>\n",
       "      <td>86.94</td>\n",
       "      <td>68</td>\n",
       "      <td>39</td>\n",
       "      <td>6.73</td>\n",
       "    </tr>\n",
       "  </tbody>\n",
       "</table>\n",
       "<p>89 rows × 7 columns</p>\n",
       "</div>"
      ],
      "text/plain": [
       "     City Name          Date (UTC)  Latitude  Temperature (F)  Humidity (%)  \\\n",
       "0        Rocha 2020-04-06 06:22:26    -34.48            62.19            74   \n",
       "1     Hermanus 2020-04-06 06:26:52    -34.42            57.99            93   \n",
       "2    Upernavik 2020-04-06 06:26:52     72.79            12.29            80   \n",
       "3       Albany 2020-04-06 06:22:00     42.60            42.46            65   \n",
       "4       Barrow 2020-04-06 06:26:52     71.29            19.40            85   \n",
       "..         ...                 ...       ...              ...           ...   \n",
       "84     Baghdad 2020-04-06 06:22:24     33.34            77.00            31   \n",
       "85      Sangin 2020-04-06 06:27:07     32.07            70.90            25   \n",
       "86     Aljezur 2020-04-06 06:27:07     37.32            57.99            95   \n",
       "87   Lebedinyy 2020-04-06 06:27:07     58.52            27.81            78   \n",
       "88  Trenggalek 2020-04-06 06:27:07     -8.05            86.94            68   \n",
       "\n",
       "    Cloudiness (%)  Wind Speed (MPH)  \n",
       "0               96              7.25  \n",
       "1               76              5.01  \n",
       "2               96              5.79  \n",
       "3               20              6.93  \n",
       "4               90             14.99  \n",
       "..             ...               ...  \n",
       "84              75             12.75  \n",
       "85               0              8.08  \n",
       "86              99              2.82  \n",
       "87             100             14.67  \n",
       "88              39              6.73  \n",
       "\n",
       "[89 rows x 7 columns]"
      ]
     },
     "execution_count": 9,
     "metadata": {},
     "output_type": "execute_result"
    }
   ],
   "source": [
    "import datetime\n",
    "city_data = pd.DataFrame({\"City Name\":cities_list,\"Date (UTC)\":date,\"Latitude\":lat,\"Temperature (F)\":temp,\"Humidity (%)\":humidity,\"Cloudiness (%)\":cloudiness,\"Wind Speed (MPH)\":wind_speed})\n",
    "city_data[\"City Name\"] = [city.title() for city in city_data[\"City Name\"]]\n",
    "city_data[\"Date (UTC)\"] = [datetime.datetime.utcfromtimestamp(date) for date in city_data[\"Date (UTC)\"]]\n",
    "city_data.to_csv(output_data_file)\n",
    "city_data"
   ]
  },
  {
   "cell_type": "code",
   "execution_count": 10,
   "metadata": {
    "ExecuteTime": {
     "end_time": "2020-04-06T06:27:17.827659Z",
     "start_time": "2020-04-06T06:27:17.824976Z"
    }
   },
   "outputs": [],
   "source": [
    "# import time\n",
    "# seconds = time.time()\n",
    "# print(\"Seconds since epoch =\", seconds)\n",
    "# local_time = time.ctime(seconds)\n",
    "# print(\"Local time:\", local_time)\n",
    "# time.struct_time?"
   ]
  },
  {
   "cell_type": "code",
   "execution_count": null,
   "metadata": {},
   "outputs": [],
   "source": []
  },
  {
   "cell_type": "markdown",
   "metadata": {},
   "source": [
    "### Plotting the Data\n",
    "* Use proper labeling of the plots using plot titles (including date of analysis) and axes labels.\n",
    "* Save the plotted figures as .pngs."
   ]
  },
  {
   "cell_type": "markdown",
   "metadata": {},
   "source": [
    "#### Latitude vs. Temperature Plot"
   ]
  },
  {
   "cell_type": "code",
   "execution_count": 11,
   "metadata": {
    "ExecuteTime": {
     "end_time": "2020-04-06T06:27:18.020517Z",
     "start_time": "2020-04-06T06:27:17.829547Z"
    },
    "scrolled": true
   },
   "outputs": [
    {
     "data": {
      "image/png": "[encoded data removed]",
      "text/plain": [
       "<Figure size 432x288 with 1 Axes>"
      ]
     },
     "metadata": {
      "needs_background": "light"
     },
     "output_type": "display_data"
    }
   ],
   "source": [
    "city_lat = city_data[\"Latitude\"]\n",
    "city_temp = city_data[\"Temperature (F)\"]\n",
    "city_date = city_data[\"Date (UTC)\"]\n",
    "\n",
    "plt.scatter(city_lat,city_temp)\n",
    "plt.xlabel(\"Latitude\")\n",
    "plt.ylabel(\"Temperature (F)\")\n",
    "plt.title(f\"Latitude by Temperature on {city_date[0]} UTC\")\n",
    "plt.savefig(\"../output_data/Lat_Temp_fig_png\")\n",
    "plt.show()"
   ]
  },
  {
   "cell_type": "code",
   "execution_count": null,
   "metadata": {},
   "outputs": [],
   "source": [
    "# After each plot add a sentence or too explaining what the code is and analyzing."
   ]
  },
  {
   "cell_type": "markdown",
   "metadata": {},
   "source": [
    "#### Latitude vs. Humidity Plot"
   ]
  },
  {
   "cell_type": "code",
   "execution_count": 12,
   "metadata": {
    "ExecuteTime": {
     "end_time": "2020-04-06T06:27:18.247443Z",
     "start_time": "2020-04-06T06:27:18.022484Z"
    }
   },
   "outputs": [
    {
     "data": {
      "image/png": "[encoded data removed]",
      "text/plain": [
       "<Figure size 432x288 with 1 Axes>"
      ]
     },
     "metadata": {
      "needs_background": "light"
     },
     "output_type": "display_data"
    }
   ],
   "source": [
    "city_humidity = city_data[\"Humidity (%)\"]\n",
    "\n",
    "plt.scatter(city_lat,city_humidity)\n",
    "plt.xlabel(\"Latitude\")\n",
    "plt.ylabel(\"Humidity (%)\")\n",
    "plt.title(f\"Latitude by Humidity on {city_date[0]} UTC\")\n",
    "plt.savefig(\"../output_data/Lat_Hum_fig_png\")\n",
    "plt.show()"
   ]
  },
  {
   "cell_type": "code",
   "execution_count": null,
   "metadata": {},
   "outputs": [],
   "source": [
    "# After each plot add a sentence or too explaining what the code is and analyzing."
   ]
  },
  {
   "cell_type": "markdown",
   "metadata": {},
   "source": [
    "#### Latitude vs. Cloudiness Plot"
   ]
  },
  {
   "cell_type": "code",
   "execution_count": 13,
   "metadata": {
    "ExecuteTime": {
     "end_time": "2020-04-06T06:27:18.418513Z",
     "start_time": "2020-04-06T06:27:18.249016Z"
    },
    "scrolled": true
   },
   "outputs": [
    {
     "data": {
      "image/png": "[encoded data removed]",
      "text/plain": [
       "<Figure size 432x288 with 1 Axes>"
      ]
     },
     "metadata": {
      "needs_background": "light"
     },
     "output_type": "display_data"
    }
   ],
   "source": [
    "city_cloudiness = city_data[\"Cloudiness (%)\"]\n",
    "\n",
    "plt.scatter(city_lat,city_cloudiness)\n",
    "plt.xlabel(\"Latitude\")\n",
    "plt.ylabel(\"Cloudiness (%)\")\n",
    "plt.title(f\"Latitude by Cloudiness on {city_date[0]} UTC\")\n",
    "plt.savefig(\"../output_data/Lat_Cloud_fig_png\")\n",
    "plt.show()"
   ]
  },
  {
   "cell_type": "code",
   "execution_count": null,
   "metadata": {},
   "outputs": [],
   "source": [
    "# After each plot add a sentence or too explaining what the code is and analyzing."
   ]
  },
  {
   "cell_type": "markdown",
   "metadata": {},
   "source": [
    "#### Latitude vs. Wind Speed Plot"
   ]
  },
  {
   "cell_type": "code",
   "execution_count": 14,
   "metadata": {
    "ExecuteTime": {
     "end_time": "2020-04-06T06:27:18.583299Z",
     "start_time": "2020-04-06T06:27:18.419999Z"
    },
    "scrolled": true
   },
   "outputs": [
    {
     "data": {
      "image/png": "[encoded data removed]",
      "text/plain": [
       "<Figure size 432x288 with 1 Axes>"
      ]
     },
     "metadata": {
      "needs_background": "light"
     },
     "output_type": "display_data"
    }
   ],
   "source": [
    "city_windspeed = city_data[\"Wind Speed (MPH)\"]\n",
    "\n",
    "plt.scatter(city_lat,city_windspeed)\n",
    "plt.xlabel(\"Latitude\")\n",
    "plt.ylabel(\"Wind Speed (MPH)\")\n",
    "plt.title(f\"Latitude by Wind Speed on {city_date[0]} UTC\")\n",
    "plt.savefig(\"../output_data/Lat_Wind_fig_png\")\n",
    "plt.show()"
   ]
  },
  {
   "cell_type": "code",
   "execution_count": null,
   "metadata": {},
   "outputs": [],
   "source": [
    "# After each plot add a sentence or too explaining what the code is and analyzing."
   ]
  },
  {
   "cell_type": "markdown",
   "metadata": {},
   "source": [
    "## Linear Regression"
   ]
  },
  {
   "cell_type": "code",
   "execution_count": null,
   "metadata": {},
   "outputs": [],
   "source": [
    "# OPTIONAL: Create a function to create Linear Regression plots\n",
    "def linregress(x_values,y_values):\n",
    "    slope = "
   ]
  },
  {
   "cell_type": "code",
   "execution_count": 33,
   "metadata": {
    "ExecuteTime": {
     "end_time": "2020-04-06T06:48:18.503628Z",
     "start_time": "2020-04-06T06:48:18.498897Z"
    }
   },
   "outputs": [],
   "source": [
    "# Create Northern and Southern Hemisphere DataFrames\n",
    "Northern_hemp = city_data.loc[city_data[\"Latitude\"]>=0,:]\n",
    "Southern_hemp = city_data.loc[city_data[\"Latitude\"]<0,:]"
   ]
  },
  {
   "cell_type": "markdown",
   "metadata": {},
   "source": [
    "####  Northern Hemisphere - Max Temp vs. Latitude Linear Regression"
   ]
  },
  {
   "cell_type": "code",
   "execution_count": null,
   "metadata": {},
   "outputs": [],
   "source": []
  },
  {
   "cell_type": "markdown",
   "metadata": {},
   "source": [
    "####  Southern Hemisphere - Max Temp vs. Latitude Linear Regression"
   ]
  },
  {
   "cell_type": "code",
   "execution_count": null,
   "metadata": {},
   "outputs": [],
   "source": []
  },
  {
   "cell_type": "markdown",
   "metadata": {},
   "source": [
    "####  Northern Hemisphere - Humidity (%) vs. Latitude Linear Regression"
   ]
  },
  {
   "cell_type": "code",
   "execution_count": null,
   "metadata": {},
   "outputs": [],
   "source": []
  },
  {
   "cell_type": "markdown",
   "metadata": {},
   "source": [
    "####  Southern Hemisphere - Humidity (%) vs. Latitude Linear Regression"
   ]
  },
  {
   "cell_type": "code",
   "execution_count": null,
   "metadata": {},
   "outputs": [],
   "source": []
  },
  {
   "cell_type": "markdown",
   "metadata": {},
   "source": [
    "####  Northern Hemisphere - Cloudiness (%) vs. Latitude Linear Regression"
   ]
  },
  {
   "cell_type": "code",
   "execution_count": null,
   "metadata": {},
   "outputs": [],
   "source": []
  },
  {
   "cell_type": "markdown",
   "metadata": {},
   "source": [
    "####  Southern Hemisphere - Cloudiness (%) vs. Latitude Linear Regression"
   ]
  },
  {
   "cell_type": "code",
   "execution_count": null,
   "metadata": {},
   "outputs": [],
   "source": []
  },
  {
   "cell_type": "markdown",
   "metadata": {},
   "source": [
    "####  Northern Hemisphere - Wind Speed (mph) vs. Latitude Linear Regression"
   ]
  },
  {
   "cell_type": "code",
   "execution_count": null,
   "metadata": {},
   "outputs": [],
   "source": []
  },
  {
   "cell_type": "markdown",
   "metadata": {},
   "source": [
    "####  Southern Hemisphere - Wind Speed (mph) vs. Latitude Linear Regression"
   ]
  },
  {
   "cell_type": "code",
   "execution_count": null,
   "metadata": {},
   "outputs": [],
   "source": []
  },
  {
   "cell_type": "code",
   "execution_count": null,
   "metadata": {},
   "outputs": [],
   "source": []
  }
 ],
 "metadata": {
  "anaconda-cloud": {},
  "kernel_info": {
   "name": "python3"
  },
  "kernelspec": {
   "display_name": "Python 3",
   "language": "python",
   "name": "python3"
  },
  "language_info": {
   "codemirror_mode": {
    "name": "ipython",
    "version": 3
   },
   "file_extension": ".py",
   "mimetype": "text/x-python",
   "name": "python",
   "nbconvert_exporter": "python",
   "pygments_lexer": "ipython3",
   "version": "3.6.10"
  },
  "latex_envs": {
   "LaTeX_envs_menu_present": true,
   "autoclose": false,
   "autocomplete": true,
   "bibliofile": "biblio.bib",
   "cite_by": "apalike",
   "current_citInitial": 1,
   "eqLabelWithNumbers": true,
   "eqNumInitial": 1,
   "hotkeys": {
    "equation": "Ctrl-E",
    "itemize": "Ctrl-I"
   },
   "labels_anchors": false,
   "latex_user_defs": false,
   "report_style_numbering": false,
   "user_envs_cfg": false
  },
  "nteract": {
   "version": "0.12.3"
  }
 },
 "nbformat": 4,
 "nbformat_minor": 2
}
